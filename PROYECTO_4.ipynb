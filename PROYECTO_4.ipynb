{
 "cells": [
  {
   "cell_type": "markdown",
   "id": "3Xg_RQfnafXz",
   "metadata": {
    "id": "3Xg_RQfnafXz"
   },
   "source": [
    "# ¡Llena ese carrito!"
   ]
  },
  {
   "cell_type": "markdown",
   "id": "mhIvmmkW414q",
   "metadata": {
    "id": "mhIvmmkW414q"
   },
   "source": [
    "# Introducción\n",
    "\n",
    "Instacart es una plataforma de entregas de comestibles donde la clientela puede registrar un pedido y hacer que se lo entreguen, similar a Uber Eats y Door Dash.\n",
    "El conjunto de datos que te hemos proporcionado tiene modificaciones del original. Redujimos el tamaño del conjunto para que tus cálculos se hicieran más rápido e introdujimos valores ausentes y duplicados. Tuvimos cuidado de conservar las distribuciones de los datos originales cuando hicimos los cambios.\n",
    "\n",
    "Debes completar tres pasos. Para cada uno de ellos, escribe una breve introducción que refleje con claridad cómo pretendes resolver cada paso, y escribe párrafos explicatorios que justifiquen tus decisiones al tiempo que avanzas en tu solución.  También escribe una conclusión que resuma tus hallazgos y elecciones.\n"
   ]
  },
  {
   "cell_type": "markdown",
   "id": "n3Ha_cNSZ8lK",
   "metadata": {
    "id": "n3Ha_cNSZ8lK"
   },
   "source": [
    "# Paso 1. Descripción de los datos\n",
    "\n",
    "Lee los archivos de datos (`/datasets/instacart_orders.csv`, `/datasets/products.csv`, `/datasets/aisles.csv`, `/datasets/departments.csv` y `/datasets/order_products.csv`) con `pd.read_csv()` usando los parámetros adecuados para leer los datos correctamente. Verifica la información para cada DataFrame creado."
   ]
  },
  {
   "cell_type": "markdown",
   "id": "OmlQPLlyaAfR",
   "metadata": {
    "id": "OmlQPLlyaAfR"
   },
   "source": [
    "## Plan de solución\n",
    "\n",
    "1. Descripción de los datos."
   ]
  },
  {
   "cell_type": "code",
   "execution_count": 1,
   "id": "fbf1adab",
   "metadata": {
    "id": "fbf1adab"
   },
   "outputs": [],
   "source": [
    "# importar librerías\n",
    "import matplotlib.pyplot as plt\n",
    "import pandas as pd"
   ]
  },
  {
   "cell_type": "code",
   "execution_count": 2,
   "id": "ad36396d",
   "metadata": {
    "id": "ad36396d"
   },
   "outputs": [],
   "source": [
    "# leer conjuntos de datos en los DataFrames\n",
    "\n",
    "orders        = pd.read_csv('/datasets/instacart_orders.csv',sep=\";\")\n",
    "products      = pd.read_csv('/datasets/products.csv',sep=\";\")\n",
    "aisles        =pd.read_csv('/datasets/aisles.csv',sep=\";\" )\n",
    "departments   =pd.read_csv('/datasets/departments.csv',sep=\";\")\n",
    "order_products=pd.read_csv('/datasets/order_products.csv',sep=\";\")"
   ]
  },
  {
   "cell_type": "code",
   "execution_count": 3,
   "id": "ad6a1efa",
   "metadata": {
    "id": "ad6a1efa"
   },
   "outputs": [
    {
     "name": "stdout",
     "output_type": "stream",
     "text": [
      "<class 'pandas.core.frame.DataFrame'>\n",
      "RangeIndex: 478967 entries, 0 to 478966\n",
      "Data columns (total 6 columns):\n",
      " #   Column                  Non-Null Count   Dtype  \n",
      "---  ------                  --------------   -----  \n",
      " 0   order_id                478967 non-null  int64  \n",
      " 1   user_id                 478967 non-null  int64  \n",
      " 2   order_number            478967 non-null  int64  \n",
      " 3   order_dow               478967 non-null  int64  \n",
      " 4   order_hour_of_day       478967 non-null  int64  \n",
      " 5   days_since_prior_order  450148 non-null  float64\n",
      "dtypes: float64(1), int64(5)\n",
      "memory usage: 21.9 MB\n"
     ]
    }
   ],
   "source": [
    "# mostrar información del DataFrame\n",
    "orders.info()"
   ]
  },
  {
   "cell_type": "code",
   "execution_count": 4,
   "id": "5130e05e",
   "metadata": {
    "id": "5130e05e"
   },
   "outputs": [
    {
     "name": "stdout",
     "output_type": "stream",
     "text": [
      "<class 'pandas.core.frame.DataFrame'>\n",
      "RangeIndex: 49694 entries, 0 to 49693\n",
      "Data columns (total 4 columns):\n",
      " #   Column         Non-Null Count  Dtype \n",
      "---  ------         --------------  ----- \n",
      " 0   product_id     49694 non-null  int64 \n",
      " 1   product_name   48436 non-null  object\n",
      " 2   aisle_id       49694 non-null  int64 \n",
      " 3   department_id  49694 non-null  int64 \n",
      "dtypes: int64(3), object(1)\n",
      "memory usage: 1.5+ MB\n"
     ]
    }
   ],
   "source": [
    "# mostrar información del DataFrame\n",
    "\n",
    "products.info()"
   ]
  },
  {
   "cell_type": "code",
   "execution_count": 5,
   "id": "d8370c05",
   "metadata": {
    "id": "d8370c05"
   },
   "outputs": [
    {
     "name": "stdout",
     "output_type": "stream",
     "text": [
      "<class 'pandas.core.frame.DataFrame'>\n",
      "RangeIndex: 134 entries, 0 to 133\n",
      "Data columns (total 2 columns):\n",
      " #   Column    Non-Null Count  Dtype \n",
      "---  ------    --------------  ----- \n",
      " 0   aisle_id  134 non-null    int64 \n",
      " 1   aisle     134 non-null    object\n",
      "dtypes: int64(1), object(1)\n",
      "memory usage: 2.2+ KB\n"
     ]
    }
   ],
   "source": [
    "# mostrar información del DataFrame\n",
    "aisles.info()"
   ]
  },
  {
   "cell_type": "code",
   "execution_count": 6,
   "id": "59e2090f",
   "metadata": {
    "id": "59e2090f"
   },
   "outputs": [
    {
     "name": "stdout",
     "output_type": "stream",
     "text": [
      "<class 'pandas.core.frame.DataFrame'>\n",
      "RangeIndex: 21 entries, 0 to 20\n",
      "Data columns (total 2 columns):\n",
      " #   Column         Non-Null Count  Dtype \n",
      "---  ------         --------------  ----- \n",
      " 0   department_id  21 non-null     int64 \n",
      " 1   department     21 non-null     object\n",
      "dtypes: int64(1), object(1)\n",
      "memory usage: 464.0+ bytes\n"
     ]
    }
   ],
   "source": [
    "# mostrar información del DataFrame\n",
    "departments.info()"
   ]
  },
  {
   "cell_type": "code",
   "execution_count": 7,
   "id": "6fc81694",
   "metadata": {
    "id": "6fc81694",
    "scrolled": true
   },
   "outputs": [
    {
     "name": "stdout",
     "output_type": "stream",
     "text": [
      "<class 'pandas.core.frame.DataFrame'>\n",
      "RangeIndex: 4545007 entries, 0 to 4545006\n",
      "Data columns (total 4 columns):\n",
      " #   Column             Non-Null Count    Dtype  \n",
      "---  ------             --------------    -----  \n",
      " 0   order_id           4545007 non-null  int64  \n",
      " 1   product_id         4545007 non-null  int64  \n",
      " 2   add_to_cart_order  4544171 non-null  float64\n",
      " 3   reordered          4545007 non-null  int64  \n",
      "dtypes: float64(1), int64(3)\n",
      "memory usage: 138.7 MB\n"
     ]
    }
   ],
   "source": [
    "# mostrar información del DataFrame\n",
    "order_products.info(show_counts=True)"
   ]
  },
  {
   "cell_type": "markdown",
   "id": "2577803a",
   "metadata": {
    "id": "t75BD19oaR5f"
   },
   "source": [
    "## Conclusiones\n",
    "\n",
    "\n",
    "Tras leer los archivos y revisar la información de los DataFrames, hemos identificado la estructura y los tipos de datos de cada columna. Esto nos permitirá detectar posibles valores ausentes o inconsistencia \n",
    "Para procesar los datos hay que establecer parámetros adecuados para leer los datos correctamente.\n"
   ]
  },
  {
   "cell_type": "markdown",
   "id": "8RJHqxVmaVsF",
   "metadata": {
    "id": "8RJHqxVmaVsF"
   },
   "source": [
    "# Paso 2. Preprocesamiento de los datos\n",
    "\n",
    "Preprocesa los datos de la siguiente manera:\n",
    "\n",
    "- Verifica y corrige los tipos de datos (por ejemplo, asegúrate de que las columnas de ID sean números enteros).\n",
    "- Identifica y completa los valores ausentes.\n",
    "- Identifica y elimina los valores duplicados.\n",
    "\n",
    "Asegúrate de explicar qué tipos de valores ausentes y duplicados encontraste, cómo los completaste o eliminaste y por qué usaste esos métodos. ¿Por qué crees que estos valores ausentes y duplicados pueden haber estado presentes en el conjunto de datos?"
   ]
  },
  {
   "cell_type": "markdown",
   "id": "574bfa29",
   "metadata": {
    "id": "p6poABZQaZYb"
   },
   "source": [
    "##  Plan de solución\n",
    "### Verificar y corrigir los tipos de datos \n",
    "### Identificar y eliminar los valores duplicados\n",
    "### Identificar y completar los valores ausentes\n"
   ]
  },
  {
   "cell_type": "markdown",
   "id": "f179f0a9",
   "metadata": {
    "id": "f179f0a9"
   },
   "source": [
    "### `instacart_orders` data frame"
   ]
  },
  {
   "cell_type": "code",
   "execution_count": 8,
   "id": "b99297a5-405a-463d-8535-9adc3da4ad74",
   "metadata": {
    "id": "b99297a5-405a-463d-8535-9adc3da4ad74"
   },
   "outputs": [
    {
     "data": {
      "text/html": [
       "<div>\n",
       "<style scoped>\n",
       "    .dataframe tbody tr th:only-of-type {\n",
       "        vertical-align: middle;\n",
       "    }\n",
       "\n",
       "    .dataframe tbody tr th {\n",
       "        vertical-align: top;\n",
       "    }\n",
       "\n",
       "    .dataframe thead th {\n",
       "        text-align: right;\n",
       "    }\n",
       "</style>\n",
       "<table border=\"1\" class=\"dataframe\">\n",
       "  <thead>\n",
       "    <tr style=\"text-align: right;\">\n",
       "      <th></th>\n",
       "      <th>order_id</th>\n",
       "      <th>user_id</th>\n",
       "      <th>order_number</th>\n",
       "      <th>order_dow</th>\n",
       "      <th>order_hour_of_day</th>\n",
       "      <th>days_since_prior_order</th>\n",
       "    </tr>\n",
       "  </thead>\n",
       "  <tbody>\n",
       "    <tr>\n",
       "      <th>145574</th>\n",
       "      <td>794638</td>\n",
       "      <td>50898</td>\n",
       "      <td>24</td>\n",
       "      <td>3</td>\n",
       "      <td>2</td>\n",
       "      <td>2.0</td>\n",
       "    </tr>\n",
       "    <tr>\n",
       "      <th>223105</th>\n",
       "      <td>2160484</td>\n",
       "      <td>107525</td>\n",
       "      <td>16</td>\n",
       "      <td>3</td>\n",
       "      <td>2</td>\n",
       "      <td>30.0</td>\n",
       "    </tr>\n",
       "    <tr>\n",
       "      <th>230807</th>\n",
       "      <td>1918001</td>\n",
       "      <td>188546</td>\n",
       "      <td>14</td>\n",
       "      <td>3</td>\n",
       "      <td>2</td>\n",
       "      <td>16.0</td>\n",
       "    </tr>\n",
       "    <tr>\n",
       "      <th>266232</th>\n",
       "      <td>1782114</td>\n",
       "      <td>106752</td>\n",
       "      <td>1</td>\n",
       "      <td>3</td>\n",
       "      <td>2</td>\n",
       "      <td>NaN</td>\n",
       "    </tr>\n",
       "    <tr>\n",
       "      <th>273805</th>\n",
       "      <td>1112182</td>\n",
       "      <td>202304</td>\n",
       "      <td>84</td>\n",
       "      <td>3</td>\n",
       "      <td>2</td>\n",
       "      <td>6.0</td>\n",
       "    </tr>\n",
       "    <tr>\n",
       "      <th>284038</th>\n",
       "      <td>2845099</td>\n",
       "      <td>31189</td>\n",
       "      <td>11</td>\n",
       "      <td>3</td>\n",
       "      <td>2</td>\n",
       "      <td>7.0</td>\n",
       "    </tr>\n",
       "    <tr>\n",
       "      <th>311713</th>\n",
       "      <td>1021560</td>\n",
       "      <td>53767</td>\n",
       "      <td>3</td>\n",
       "      <td>3</td>\n",
       "      <td>2</td>\n",
       "      <td>9.0</td>\n",
       "    </tr>\n",
       "    <tr>\n",
       "      <th>321100</th>\n",
       "      <td>408114</td>\n",
       "      <td>68324</td>\n",
       "      <td>4</td>\n",
       "      <td>3</td>\n",
       "      <td>2</td>\n",
       "      <td>18.0</td>\n",
       "    </tr>\n",
       "    <tr>\n",
       "      <th>323900</th>\n",
       "      <td>1919531</td>\n",
       "      <td>191501</td>\n",
       "      <td>32</td>\n",
       "      <td>3</td>\n",
       "      <td>2</td>\n",
       "      <td>7.0</td>\n",
       "    </tr>\n",
       "    <tr>\n",
       "      <th>345917</th>\n",
       "      <td>2232988</td>\n",
       "      <td>82565</td>\n",
       "      <td>1</td>\n",
       "      <td>3</td>\n",
       "      <td>2</td>\n",
       "      <td>NaN</td>\n",
       "    </tr>\n",
       "    <tr>\n",
       "      <th>371905</th>\n",
       "      <td>391768</td>\n",
       "      <td>57671</td>\n",
       "      <td>19</td>\n",
       "      <td>3</td>\n",
       "      <td>2</td>\n",
       "      <td>10.0</td>\n",
       "    </tr>\n",
       "    <tr>\n",
       "      <th>394347</th>\n",
       "      <td>467134</td>\n",
       "      <td>63189</td>\n",
       "      <td>21</td>\n",
       "      <td>3</td>\n",
       "      <td>2</td>\n",
       "      <td>2.0</td>\n",
       "    </tr>\n",
       "    <tr>\n",
       "      <th>411408</th>\n",
       "      <td>1286742</td>\n",
       "      <td>183220</td>\n",
       "      <td>48</td>\n",
       "      <td>3</td>\n",
       "      <td>2</td>\n",
       "      <td>4.0</td>\n",
       "    </tr>\n",
       "    <tr>\n",
       "      <th>415163</th>\n",
       "      <td>2282673</td>\n",
       "      <td>86751</td>\n",
       "      <td>49</td>\n",
       "      <td>3</td>\n",
       "      <td>2</td>\n",
       "      <td>2.0</td>\n",
       "    </tr>\n",
       "    <tr>\n",
       "      <th>441599</th>\n",
       "      <td>2125197</td>\n",
       "      <td>14050</td>\n",
       "      <td>48</td>\n",
       "      <td>3</td>\n",
       "      <td>2</td>\n",
       "      <td>3.0</td>\n",
       "    </tr>\n",
       "  </tbody>\n",
       "</table>\n",
       "</div>"
      ],
      "text/plain": [
       "        order_id  user_id  order_number  order_dow  order_hour_of_day  \\\n",
       "145574    794638    50898            24          3                  2   \n",
       "223105   2160484   107525            16          3                  2   \n",
       "230807   1918001   188546            14          3                  2   \n",
       "266232   1782114   106752             1          3                  2   \n",
       "273805   1112182   202304            84          3                  2   \n",
       "284038   2845099    31189            11          3                  2   \n",
       "311713   1021560    53767             3          3                  2   \n",
       "321100    408114    68324             4          3                  2   \n",
       "323900   1919531   191501            32          3                  2   \n",
       "345917   2232988    82565             1          3                  2   \n",
       "371905    391768    57671            19          3                  2   \n",
       "394347    467134    63189            21          3                  2   \n",
       "411408   1286742   183220            48          3                  2   \n",
       "415163   2282673    86751            49          3                  2   \n",
       "441599   2125197    14050            48          3                  2   \n",
       "\n",
       "        days_since_prior_order  \n",
       "145574                     2.0  \n",
       "223105                    30.0  \n",
       "230807                    16.0  \n",
       "266232                     NaN  \n",
       "273805                     6.0  \n",
       "284038                     7.0  \n",
       "311713                     9.0  \n",
       "321100                    18.0  \n",
       "323900                     7.0  \n",
       "345917                     NaN  \n",
       "371905                    10.0  \n",
       "394347                     2.0  \n",
       "411408                     4.0  \n",
       "415163                     2.0  \n",
       "441599                     3.0  "
      ]
     },
     "execution_count": 8,
     "metadata": {},
     "output_type": "execute_result"
    }
   ],
   "source": [
    "# Revisa si hay pedidos duplicados\n",
    "orders[orders.duplicated()]\n",
    "#duplicated_orders = orders[orders.duplicated()]"
   ]
  },
  {
   "cell_type": "code",
   "execution_count": 9,
   "id": "a02979a1",
   "metadata": {},
   "outputs": [
    {
     "data": {
      "text/plain": [
       "15"
      ]
     },
     "execution_count": 9,
     "metadata": {},
     "output_type": "execute_result"
    }
   ],
   "source": [
    "orders.duplicated().sum()"
   ]
  },
  {
   "cell_type": "markdown",
   "id": "PEkwUX_gvt5A",
   "metadata": {
    "id": "PEkwUX_gvt5A"
   },
   "source": [
    "Se encontraron duplicados,  \n",
    "\n",
    "Según el analisis efectuado los pedidos duplicados fueron efectuados en las misma hora y el mismo día."
   ]
  },
  {
   "cell_type": "code",
   "execution_count": 10,
   "id": "0d44de5d",
   "metadata": {
    "id": "0d44de5d"
   },
   "outputs": [
    {
     "data": {
      "text/html": [
       "<div>\n",
       "<style scoped>\n",
       "    .dataframe tbody tr th:only-of-type {\n",
       "        vertical-align: middle;\n",
       "    }\n",
       "\n",
       "    .dataframe tbody tr th {\n",
       "        vertical-align: top;\n",
       "    }\n",
       "\n",
       "    .dataframe thead th {\n",
       "        text-align: right;\n",
       "    }\n",
       "</style>\n",
       "<table border=\"1\" class=\"dataframe\">\n",
       "  <thead>\n",
       "    <tr style=\"text-align: right;\">\n",
       "      <th></th>\n",
       "      <th>order_id</th>\n",
       "      <th>user_id</th>\n",
       "      <th>order_number</th>\n",
       "      <th>order_dow</th>\n",
       "      <th>order_hour_of_day</th>\n",
       "      <th>days_since_prior_order</th>\n",
       "    </tr>\n",
       "  </thead>\n",
       "  <tbody>\n",
       "    <tr>\n",
       "      <th>4838</th>\n",
       "      <td>2766110</td>\n",
       "      <td>162084</td>\n",
       "      <td>41</td>\n",
       "      <td>3</td>\n",
       "      <td>2</td>\n",
       "      <td>16.0</td>\n",
       "    </tr>\n",
       "    <tr>\n",
       "      <th>5156</th>\n",
       "      <td>2190225</td>\n",
       "      <td>138285</td>\n",
       "      <td>18</td>\n",
       "      <td>3</td>\n",
       "      <td>2</td>\n",
       "      <td>11.0</td>\n",
       "    </tr>\n",
       "    <tr>\n",
       "      <th>15506</th>\n",
       "      <td>553049</td>\n",
       "      <td>58599</td>\n",
       "      <td>13</td>\n",
       "      <td>3</td>\n",
       "      <td>2</td>\n",
       "      <td>7.0</td>\n",
       "    </tr>\n",
       "    <tr>\n",
       "      <th>18420</th>\n",
       "      <td>382357</td>\n",
       "      <td>120200</td>\n",
       "      <td>19</td>\n",
       "      <td>3</td>\n",
       "      <td>2</td>\n",
       "      <td>11.0</td>\n",
       "    </tr>\n",
       "    <tr>\n",
       "      <th>24691</th>\n",
       "      <td>690242</td>\n",
       "      <td>77357</td>\n",
       "      <td>2</td>\n",
       "      <td>3</td>\n",
       "      <td>2</td>\n",
       "      <td>9.0</td>\n",
       "    </tr>\n",
       "    <tr>\n",
       "      <th>...</th>\n",
       "      <td>...</td>\n",
       "      <td>...</td>\n",
       "      <td>...</td>\n",
       "      <td>...</td>\n",
       "      <td>...</td>\n",
       "      <td>...</td>\n",
       "    </tr>\n",
       "    <tr>\n",
       "      <th>457013</th>\n",
       "      <td>3384021</td>\n",
       "      <td>14881</td>\n",
       "      <td>6</td>\n",
       "      <td>3</td>\n",
       "      <td>2</td>\n",
       "      <td>30.0</td>\n",
       "    </tr>\n",
       "    <tr>\n",
       "      <th>458816</th>\n",
       "      <td>910166</td>\n",
       "      <td>164782</td>\n",
       "      <td>18</td>\n",
       "      <td>3</td>\n",
       "      <td>2</td>\n",
       "      <td>4.0</td>\n",
       "    </tr>\n",
       "    <tr>\n",
       "      <th>459635</th>\n",
       "      <td>1680532</td>\n",
       "      <td>106435</td>\n",
       "      <td>6</td>\n",
       "      <td>3</td>\n",
       "      <td>2</td>\n",
       "      <td>21.0</td>\n",
       "    </tr>\n",
       "    <tr>\n",
       "      <th>468324</th>\n",
       "      <td>222962</td>\n",
       "      <td>54979</td>\n",
       "      <td>59</td>\n",
       "      <td>3</td>\n",
       "      <td>2</td>\n",
       "      <td>3.0</td>\n",
       "    </tr>\n",
       "    <tr>\n",
       "      <th>477526</th>\n",
       "      <td>2592344</td>\n",
       "      <td>46860</td>\n",
       "      <td>38</td>\n",
       "      <td>3</td>\n",
       "      <td>2</td>\n",
       "      <td>3.0</td>\n",
       "    </tr>\n",
       "  </tbody>\n",
       "</table>\n",
       "<p>121 rows × 6 columns</p>\n",
       "</div>"
      ],
      "text/plain": [
       "        order_id  user_id  order_number  order_dow  order_hour_of_day  \\\n",
       "4838     2766110   162084            41          3                  2   \n",
       "5156     2190225   138285            18          3                  2   \n",
       "15506     553049    58599            13          3                  2   \n",
       "18420     382357   120200            19          3                  2   \n",
       "24691     690242    77357             2          3                  2   \n",
       "...          ...      ...           ...        ...                ...   \n",
       "457013   3384021    14881             6          3                  2   \n",
       "458816    910166   164782            18          3                  2   \n",
       "459635   1680532   106435             6          3                  2   \n",
       "468324    222962    54979            59          3                  2   \n",
       "477526   2592344    46860            38          3                  2   \n",
       "\n",
       "        days_since_prior_order  \n",
       "4838                      16.0  \n",
       "5156                      11.0  \n",
       "15506                      7.0  \n",
       "18420                     11.0  \n",
       "24691                      9.0  \n",
       "...                        ...  \n",
       "457013                    30.0  \n",
       "458816                     4.0  \n",
       "459635                    21.0  \n",
       "468324                     3.0  \n",
       "477526                     3.0  \n",
       "\n",
       "[121 rows x 6 columns]"
      ]
     },
     "execution_count": 10,
     "metadata": {},
     "output_type": "execute_result"
    }
   ],
   "source": [
    "# Basándote en tus hallazgos,\n",
    "# Verifica todos los pedidos que se hicieron el miércoles a las 2:00 a.m.\n",
    "\n",
    "orders[(orders['order_dow'] == 3) & (orders['order_hour_of_day'] == 2)]\n"
   ]
  },
  {
   "cell_type": "markdown",
   "id": "vu2OWyoqwOx5",
   "metadata": {
    "id": "vu2OWyoqwOx5"
   },
   "source": [
    "¿Qué sugiere este resultado?\n",
    "Sugiere que ciertos usuarios tienen el hábito de realizar pedidos a esa hora.\n",
    "Este análisis puede ofrecer una visión sobre el comportamiento del usuario y ayudar a la plataforma a ajustar sus estrategias de marketing, promociones y logística para maximizar la eficiencia y la satisfacción del cliente."
   ]
  },
  {
   "cell_type": "code",
   "execution_count": 11,
   "id": "480563c7",
   "metadata": {
    "id": "480563c7"
   },
   "outputs": [],
   "source": [
    "# Elimina los pedidos duplicados\n",
    "orders.drop_duplicates(inplace=True)"
   ]
  },
  {
   "cell_type": "code",
   "execution_count": 12,
   "id": "0b2396a2",
   "metadata": {
    "id": "0b2396a2"
   },
   "outputs": [
    {
     "data": {
      "text/html": [
       "<div>\n",
       "<style scoped>\n",
       "    .dataframe tbody tr th:only-of-type {\n",
       "        vertical-align: middle;\n",
       "    }\n",
       "\n",
       "    .dataframe tbody tr th {\n",
       "        vertical-align: top;\n",
       "    }\n",
       "\n",
       "    .dataframe thead th {\n",
       "        text-align: right;\n",
       "    }\n",
       "</style>\n",
       "<table border=\"1\" class=\"dataframe\">\n",
       "  <thead>\n",
       "    <tr style=\"text-align: right;\">\n",
       "      <th></th>\n",
       "      <th>order_id</th>\n",
       "      <th>user_id</th>\n",
       "      <th>order_number</th>\n",
       "      <th>order_dow</th>\n",
       "      <th>order_hour_of_day</th>\n",
       "      <th>days_since_prior_order</th>\n",
       "    </tr>\n",
       "  </thead>\n",
       "  <tbody>\n",
       "  </tbody>\n",
       "</table>\n",
       "</div>"
      ],
      "text/plain": [
       "Empty DataFrame\n",
       "Columns: [order_id, user_id, order_number, order_dow, order_hour_of_day, days_since_prior_order]\n",
       "Index: []"
      ]
     },
     "execution_count": 12,
     "metadata": {},
     "output_type": "execute_result"
    }
   ],
   "source": [
    "# Vuelve a verificar si hay filas duplicadas\n",
    "orders[orders.duplicated()]"
   ]
  },
  {
   "cell_type": "code",
   "execution_count": 13,
   "id": "f6113ef1",
   "metadata": {
    "id": "f6113ef1"
   },
   "outputs": [
    {
     "data": {
      "text/html": [
       "<div>\n",
       "<style scoped>\n",
       "    .dataframe tbody tr th:only-of-type {\n",
       "        vertical-align: middle;\n",
       "    }\n",
       "\n",
       "    .dataframe tbody tr th {\n",
       "        vertical-align: top;\n",
       "    }\n",
       "\n",
       "    .dataframe thead th {\n",
       "        text-align: right;\n",
       "    }\n",
       "</style>\n",
       "<table border=\"1\" class=\"dataframe\">\n",
       "  <thead>\n",
       "    <tr style=\"text-align: right;\">\n",
       "      <th></th>\n",
       "      <th>order_id</th>\n",
       "      <th>user_id</th>\n",
       "      <th>order_number</th>\n",
       "      <th>order_dow</th>\n",
       "      <th>order_hour_of_day</th>\n",
       "      <th>days_since_prior_order</th>\n",
       "    </tr>\n",
       "  </thead>\n",
       "  <tbody>\n",
       "  </tbody>\n",
       "</table>\n",
       "</div>"
      ],
      "text/plain": [
       "Empty DataFrame\n",
       "Columns: [order_id, user_id, order_number, order_dow, order_hour_of_day, days_since_prior_order]\n",
       "Index: []"
      ]
     },
     "execution_count": 13,
     "metadata": {},
     "output_type": "execute_result"
    }
   ],
   "source": [
    "# Vuelve a verificar únicamente si hay IDs duplicados de pedidos\n",
    "orders[orders.duplicated(subset=\"order_id\")]"
   ]
  },
  {
   "cell_type": "markdown",
   "id": "5e8905ae",
   "metadata": {
    "id": "5e8905ae"
   },
   "source": [
    "Se encontró valores duplicados en el data frame \"orders\", que fueron eliminados."
   ]
  },
  {
   "cell_type": "markdown",
   "id": "45e6bc46",
   "metadata": {
    "id": "45e6bc46"
   },
   "source": [
    "### `products` data frame"
   ]
  },
  {
   "cell_type": "code",
   "execution_count": 14,
   "id": "5f526b5b-8175-46fa-a0fd-441767d50e64",
   "metadata": {
    "id": "5f526b5b-8175-46fa-a0fd-441767d50e64"
   },
   "outputs": [
    {
     "data": {
      "text/html": [
       "<div>\n",
       "<style scoped>\n",
       "    .dataframe tbody tr th:only-of-type {\n",
       "        vertical-align: middle;\n",
       "    }\n",
       "\n",
       "    .dataframe tbody tr th {\n",
       "        vertical-align: top;\n",
       "    }\n",
       "\n",
       "    .dataframe thead th {\n",
       "        text-align: right;\n",
       "    }\n",
       "</style>\n",
       "<table border=\"1\" class=\"dataframe\">\n",
       "  <thead>\n",
       "    <tr style=\"text-align: right;\">\n",
       "      <th></th>\n",
       "      <th>product_id</th>\n",
       "      <th>product_name</th>\n",
       "      <th>aisle_id</th>\n",
       "      <th>department_id</th>\n",
       "    </tr>\n",
       "  </thead>\n",
       "  <tbody>\n",
       "  </tbody>\n",
       "</table>\n",
       "</div>"
      ],
      "text/plain": [
       "Empty DataFrame\n",
       "Columns: [product_id, product_name, aisle_id, department_id]\n",
       "Index: []"
      ]
     },
     "execution_count": 14,
     "metadata": {},
     "output_type": "execute_result"
    }
   ],
   "source": [
    "# Verifica si hay filas totalmente duplicadas\n",
    "products[products.duplicated()]"
   ]
  },
  {
   "cell_type": "code",
   "execution_count": 15,
   "id": "88daa4f4",
   "metadata": {
    "id": "88daa4f4"
   },
   "outputs": [
    {
     "data": {
      "text/html": [
       "<div>\n",
       "<style scoped>\n",
       "    .dataframe tbody tr th:only-of-type {\n",
       "        vertical-align: middle;\n",
       "    }\n",
       "\n",
       "    .dataframe tbody tr th {\n",
       "        vertical-align: top;\n",
       "    }\n",
       "\n",
       "    .dataframe thead th {\n",
       "        text-align: right;\n",
       "    }\n",
       "</style>\n",
       "<table border=\"1\" class=\"dataframe\">\n",
       "  <thead>\n",
       "    <tr style=\"text-align: right;\">\n",
       "      <th></th>\n",
       "      <th>department_id</th>\n",
       "      <th>department</th>\n",
       "    </tr>\n",
       "  </thead>\n",
       "  <tbody>\n",
       "  </tbody>\n",
       "</table>\n",
       "</div>"
      ],
      "text/plain": [
       "Empty DataFrame\n",
       "Columns: [department_id, department]\n",
       "Index: []"
      ]
     },
     "execution_count": 15,
     "metadata": {},
     "output_type": "execute_result"
    }
   ],
   "source": [
    "# Revisa únicamente si hay ID de departamentos duplicados\n",
    "departments[departments.duplicated(subset=\"department_id\")]"
   ]
  },
  {
   "cell_type": "code",
   "execution_count": 16,
   "id": "c773f0bf",
   "metadata": {
    "id": "c773f0bf"
   },
   "outputs": [
    {
     "data": {
      "text/plain": [
       "1361"
      ]
     },
     "execution_count": 16,
     "metadata": {},
     "output_type": "execute_result"
    }
   ],
   "source": [
    "# Revisa únicamente si hay nombres duplicados de productos (convierte los nombres a letras mayúsculas para compararlos mejor)\n",
    "products[\"product_name\"].str.upper().duplicated().sum()"
   ]
  },
  {
   "cell_type": "code",
   "execution_count": 17,
   "id": "01efd02e",
   "metadata": {
    "id": "01efd02e"
   },
   "outputs": [
    {
     "data": {
      "text/html": [
       "<div>\n",
       "<style scoped>\n",
       "    .dataframe tbody tr th:only-of-type {\n",
       "        vertical-align: middle;\n",
       "    }\n",
       "\n",
       "    .dataframe tbody tr th {\n",
       "        vertical-align: top;\n",
       "    }\n",
       "\n",
       "    .dataframe thead th {\n",
       "        text-align: right;\n",
       "    }\n",
       "</style>\n",
       "<table border=\"1\" class=\"dataframe\">\n",
       "  <thead>\n",
       "    <tr style=\"text-align: right;\">\n",
       "      <th></th>\n",
       "      <th>product_id</th>\n",
       "      <th>product_name</th>\n",
       "      <th>aisle_id</th>\n",
       "      <th>department_id</th>\n",
       "    </tr>\n",
       "  </thead>\n",
       "  <tbody>\n",
       "    <tr>\n",
       "      <th>2058</th>\n",
       "      <td>2059</td>\n",
       "      <td>Biotin 1000 Mcg</td>\n",
       "      <td>47</td>\n",
       "      <td>11</td>\n",
       "    </tr>\n",
       "    <tr>\n",
       "      <th>5455</th>\n",
       "      <td>5456</td>\n",
       "      <td>Green Tea With Ginseng and Honey</td>\n",
       "      <td>96</td>\n",
       "      <td>20</td>\n",
       "    </tr>\n",
       "    <tr>\n",
       "      <th>5558</th>\n",
       "      <td>5559</td>\n",
       "      <td>Cream Of Mushroom Soup</td>\n",
       "      <td>69</td>\n",
       "      <td>15</td>\n",
       "    </tr>\n",
       "    <tr>\n",
       "      <th>7558</th>\n",
       "      <td>7559</td>\n",
       "      <td>Cinnamon Rolls with Icing</td>\n",
       "      <td>105</td>\n",
       "      <td>13</td>\n",
       "    </tr>\n",
       "    <tr>\n",
       "      <th>9037</th>\n",
       "      <td>9038</td>\n",
       "      <td>American Cheese slices</td>\n",
       "      <td>21</td>\n",
       "      <td>16</td>\n",
       "    </tr>\n",
       "    <tr>\n",
       "      <th>...</th>\n",
       "      <td>...</td>\n",
       "      <td>...</td>\n",
       "      <td>...</td>\n",
       "      <td>...</td>\n",
       "    </tr>\n",
       "    <tr>\n",
       "      <th>49689</th>\n",
       "      <td>49690</td>\n",
       "      <td>HIGH PERFORMANCE ENERGY DRINK</td>\n",
       "      <td>64</td>\n",
       "      <td>7</td>\n",
       "    </tr>\n",
       "    <tr>\n",
       "      <th>49690</th>\n",
       "      <td>49691</td>\n",
       "      <td>ORIGINAL PANCAKE &amp; WAFFLE MIX</td>\n",
       "      <td>130</td>\n",
       "      <td>14</td>\n",
       "    </tr>\n",
       "    <tr>\n",
       "      <th>49691</th>\n",
       "      <td>49692</td>\n",
       "      <td>ORGANIC INSTANT OATMEAL LIGHT MAPLE BROWN SUGAR</td>\n",
       "      <td>130</td>\n",
       "      <td>14</td>\n",
       "    </tr>\n",
       "    <tr>\n",
       "      <th>49692</th>\n",
       "      <td>49693</td>\n",
       "      <td>SPRING WATER BODY WASH</td>\n",
       "      <td>127</td>\n",
       "      <td>11</td>\n",
       "    </tr>\n",
       "    <tr>\n",
       "      <th>49693</th>\n",
       "      <td>49694</td>\n",
       "      <td>BURRITO- STEAK &amp; CHEESE</td>\n",
       "      <td>38</td>\n",
       "      <td>1</td>\n",
       "    </tr>\n",
       "  </tbody>\n",
       "</table>\n",
       "<p>104 rows × 4 columns</p>\n",
       "</div>"
      ],
      "text/plain": [
       "       product_id                                     product_name  aisle_id  \\\n",
       "2058         2059                                  Biotin 1000 Mcg        47   \n",
       "5455         5456                 Green Tea With Ginseng and Honey        96   \n",
       "5558         5559                           Cream Of Mushroom Soup        69   \n",
       "7558         7559                        Cinnamon Rolls with Icing       105   \n",
       "9037         9038                           American Cheese slices        21   \n",
       "...           ...                                              ...       ...   \n",
       "49689       49690                    HIGH PERFORMANCE ENERGY DRINK        64   \n",
       "49690       49691                    ORIGINAL PANCAKE & WAFFLE MIX       130   \n",
       "49691       49692  ORGANIC INSTANT OATMEAL LIGHT MAPLE BROWN SUGAR       130   \n",
       "49692       49693                           SPRING WATER BODY WASH       127   \n",
       "49693       49694                          BURRITO- STEAK & CHEESE        38   \n",
       "\n",
       "       department_id  \n",
       "2058              11  \n",
       "5455              20  \n",
       "5558              15  \n",
       "7558              13  \n",
       "9037              16  \n",
       "...              ...  \n",
       "49689              7  \n",
       "49690             14  \n",
       "49691             14  \n",
       "49692             11  \n",
       "49693              1  \n",
       "\n",
       "[104 rows x 4 columns]"
      ]
     },
     "execution_count": 17,
     "metadata": {},
     "output_type": "execute_result"
    }
   ],
   "source": [
    "# Revisa si hay nombres duplicados de productos no faltantes\n",
    "\n",
    "products[(~products[\"product_name\"].isna()) & (products[\"product_name\"].str.upper().duplicated())]"
   ]
  },
  {
   "cell_type": "markdown",
   "id": "bc116589",
   "metadata": {
    "id": "9da8d293"
   },
   "source": [
    "Describe brevemente tus hallazgos y lo que hiciste con ellos.\n",
    "\n",
    "Despues de analizar el data frame \"products\", se halló que existían duplicados en la columna \"product_name\", de los cuales se convirtió a los nombres a mayusculas para un mejor analisis y se determinó que existían 104 duplicados con valores no ausentes en dicha columna."
   ]
  },
  {
   "cell_type": "markdown",
   "id": "60f30db1",
   "metadata": {
    "id": "60f30db1"
   },
   "source": [
    "### `departments` data frame"
   ]
  },
  {
   "cell_type": "code",
   "execution_count": 18,
   "id": "fb410ad4-0fbf-4b80-bb09-23fdea79afe3",
   "metadata": {
    "id": "fb410ad4-0fbf-4b80-bb09-23fdea79afe3"
   },
   "outputs": [
    {
     "data": {
      "text/html": [
       "<div>\n",
       "<style scoped>\n",
       "    .dataframe tbody tr th:only-of-type {\n",
       "        vertical-align: middle;\n",
       "    }\n",
       "\n",
       "    .dataframe tbody tr th {\n",
       "        vertical-align: top;\n",
       "    }\n",
       "\n",
       "    .dataframe thead th {\n",
       "        text-align: right;\n",
       "    }\n",
       "</style>\n",
       "<table border=\"1\" class=\"dataframe\">\n",
       "  <thead>\n",
       "    <tr style=\"text-align: right;\">\n",
       "      <th></th>\n",
       "      <th>department_id</th>\n",
       "      <th>department</th>\n",
       "    </tr>\n",
       "  </thead>\n",
       "  <tbody>\n",
       "  </tbody>\n",
       "</table>\n",
       "</div>"
      ],
      "text/plain": [
       "Empty DataFrame\n",
       "Columns: [department_id, department]\n",
       "Index: []"
      ]
     },
     "execution_count": 18,
     "metadata": {},
     "output_type": "execute_result"
    }
   ],
   "source": [
    "# Revisa si hay filas totalmente duplicadas\n",
    "departments[departments.duplicated()]"
   ]
  },
  {
   "cell_type": "code",
   "execution_count": 19,
   "id": "332b12bb",
   "metadata": {
    "id": "332b12bb"
   },
   "outputs": [
    {
     "data": {
      "text/html": [
       "<div>\n",
       "<style scoped>\n",
       "    .dataframe tbody tr th:only-of-type {\n",
       "        vertical-align: middle;\n",
       "    }\n",
       "\n",
       "    .dataframe tbody tr th {\n",
       "        vertical-align: top;\n",
       "    }\n",
       "\n",
       "    .dataframe thead th {\n",
       "        text-align: right;\n",
       "    }\n",
       "</style>\n",
       "<table border=\"1\" class=\"dataframe\">\n",
       "  <thead>\n",
       "    <tr style=\"text-align: right;\">\n",
       "      <th></th>\n",
       "      <th>product_id</th>\n",
       "      <th>product_name</th>\n",
       "      <th>aisle_id</th>\n",
       "      <th>department_id</th>\n",
       "    </tr>\n",
       "  </thead>\n",
       "  <tbody>\n",
       "  </tbody>\n",
       "</table>\n",
       "</div>"
      ],
      "text/plain": [
       "Empty DataFrame\n",
       "Columns: [product_id, product_name, aisle_id, department_id]\n",
       "Index: []"
      ]
     },
     "execution_count": 19,
     "metadata": {},
     "output_type": "execute_result"
    }
   ],
   "source": [
    "# Revisa únicamente si hay IDs duplicadas de productos\n",
    "products[products.duplicated(subset=\"product_id\")]"
   ]
  },
  {
   "cell_type": "markdown",
   "id": "bd30d78e",
   "metadata": {
    "id": "bd30d78e"
   },
   "source": [
    "\n",
    "Se determinó que en el dataframe \"departments\" no existen valores duplicados."
   ]
  },
  {
   "cell_type": "markdown",
   "id": "889349c1",
   "metadata": {
    "id": "889349c1"
   },
   "source": [
    "### `aisles` data frame"
   ]
  },
  {
   "cell_type": "code",
   "execution_count": 20,
   "id": "9da89fb9-4679-40f5-ad0d-c34df753a3f8",
   "metadata": {
    "id": "9da89fb9-4679-40f5-ad0d-c34df753a3f8"
   },
   "outputs": [
    {
     "data": {
      "text/html": [
       "<div>\n",
       "<style scoped>\n",
       "    .dataframe tbody tr th:only-of-type {\n",
       "        vertical-align: middle;\n",
       "    }\n",
       "\n",
       "    .dataframe tbody tr th {\n",
       "        vertical-align: top;\n",
       "    }\n",
       "\n",
       "    .dataframe thead th {\n",
       "        text-align: right;\n",
       "    }\n",
       "</style>\n",
       "<table border=\"1\" class=\"dataframe\">\n",
       "  <thead>\n",
       "    <tr style=\"text-align: right;\">\n",
       "      <th></th>\n",
       "      <th>department_id</th>\n",
       "      <th>department</th>\n",
       "    </tr>\n",
       "  </thead>\n",
       "  <tbody>\n",
       "  </tbody>\n",
       "</table>\n",
       "</div>"
      ],
      "text/plain": [
       "Empty DataFrame\n",
       "Columns: [department_id, department]\n",
       "Index: []"
      ]
     },
     "execution_count": 20,
     "metadata": {},
     "output_type": "execute_result"
    }
   ],
   "source": [
    "# Revisa si hay filas totalmente duplicadas\n",
    "departments[departments.duplicated()]"
   ]
  },
  {
   "cell_type": "code",
   "execution_count": 21,
   "id": "da7c2822",
   "metadata": {
    "id": "da7c2822"
   },
   "outputs": [
    {
     "data": {
      "text/html": [
       "<div>\n",
       "<style scoped>\n",
       "    .dataframe tbody tr th:only-of-type {\n",
       "        vertical-align: middle;\n",
       "    }\n",
       "\n",
       "    .dataframe tbody tr th {\n",
       "        vertical-align: top;\n",
       "    }\n",
       "\n",
       "    .dataframe thead th {\n",
       "        text-align: right;\n",
       "    }\n",
       "</style>\n",
       "<table border=\"1\" class=\"dataframe\">\n",
       "  <thead>\n",
       "    <tr style=\"text-align: right;\">\n",
       "      <th></th>\n",
       "      <th>department_id</th>\n",
       "      <th>department</th>\n",
       "    </tr>\n",
       "  </thead>\n",
       "  <tbody>\n",
       "  </tbody>\n",
       "</table>\n",
       "</div>"
      ],
      "text/plain": [
       "Empty DataFrame\n",
       "Columns: [department_id, department]\n",
       "Index: []"
      ]
     },
     "execution_count": 21,
     "metadata": {},
     "output_type": "execute_result"
    }
   ],
   "source": [
    "# Revisa únicamente si hay IDs duplicadas de productos\n",
    "departments[departments.duplicated(subset='department_id')]"
   ]
  },
  {
   "cell_type": "markdown",
   "id": "ac63826f",
   "metadata": {
    "id": "ac63826f"
   },
   "source": [
    "\n",
    "Se determino que el data frame \"departments\" no existen valores duplicados."
   ]
  },
  {
   "cell_type": "markdown",
   "id": "274cd06a",
   "metadata": {
    "id": "274cd06a"
   },
   "source": [
    "### `order_products` data frame"
   ]
  },
  {
   "cell_type": "code",
   "execution_count": 22,
   "id": "52326689-84a8-4b8f-a881-7c68780f62c9",
   "metadata": {
    "id": "52326689-84a8-4b8f-a881-7c68780f62c9"
   },
   "outputs": [
    {
     "data": {
      "text/plain": [
       "0"
      ]
     },
     "execution_count": 22,
     "metadata": {},
     "output_type": "execute_result"
    }
   ],
   "source": [
    "# Revisa si hay filas totalmente duplicadas\n",
    "order_products.duplicated().sum()"
   ]
  },
  {
   "cell_type": "code",
   "execution_count": 23,
   "id": "7b861391",
   "metadata": {
    "id": "7b861391"
   },
   "outputs": [
    {
     "data": {
      "text/plain": [
       "0"
      ]
     },
     "execution_count": 23,
     "metadata": {},
     "output_type": "execute_result"
    }
   ],
   "source": [
    "# Vuelve a verificar si hay cualquier otro duplicado engañoso\n",
    "order_products.duplicated(subset=[\"order_id\",\"product_id\"]).sum()"
   ]
  },
  {
   "cell_type": "markdown",
   "id": "0b890492",
   "metadata": {
    "id": "0b890492"
   },
   "source": [
    "\n",
    "Se determino que el data frame \"order_products\" no existen valores duplicados."
   ]
  },
  {
   "cell_type": "markdown",
   "id": "1e46de76",
   "metadata": {
    "id": "1e46de76"
   },
   "source": [
    "## Encuentra y elimina los valores ausentes\n",
    "\n",
    "Al trabajar con valores duplicados, pudimos observar que también nos falta investigar valores ausentes:\n",
    "\n",
    "* La columna `'product_name'` de la tabla products.\n",
    "* La columna `'days_since_prior_order'` de la tabla orders.\n",
    "* La columna `'add_to_cart_order'` de la tabla order_productos."
   ]
  },
  {
   "cell_type": "markdown",
   "id": "c0aebd78",
   "metadata": {
    "id": "c0aebd78"
   },
   "source": [
    "### `products` data frame"
   ]
  },
  {
   "cell_type": "code",
   "execution_count": 24,
   "id": "fe4a8b0f",
   "metadata": {
    "id": "fe4a8b0f"
   },
   "outputs": [
    {
     "data": {
      "text/html": [
       "<div>\n",
       "<style scoped>\n",
       "    .dataframe tbody tr th:only-of-type {\n",
       "        vertical-align: middle;\n",
       "    }\n",
       "\n",
       "    .dataframe tbody tr th {\n",
       "        vertical-align: top;\n",
       "    }\n",
       "\n",
       "    .dataframe thead th {\n",
       "        text-align: right;\n",
       "    }\n",
       "</style>\n",
       "<table border=\"1\" class=\"dataframe\">\n",
       "  <thead>\n",
       "    <tr style=\"text-align: right;\">\n",
       "      <th></th>\n",
       "      <th>product_id</th>\n",
       "      <th>product_name</th>\n",
       "      <th>aisle_id</th>\n",
       "      <th>department_id</th>\n",
       "    </tr>\n",
       "  </thead>\n",
       "  <tbody>\n",
       "    <tr>\n",
       "      <th>37</th>\n",
       "      <td>38</td>\n",
       "      <td>NaN</td>\n",
       "      <td>100</td>\n",
       "      <td>21</td>\n",
       "    </tr>\n",
       "    <tr>\n",
       "      <th>71</th>\n",
       "      <td>72</td>\n",
       "      <td>NaN</td>\n",
       "      <td>100</td>\n",
       "      <td>21</td>\n",
       "    </tr>\n",
       "    <tr>\n",
       "      <th>109</th>\n",
       "      <td>110</td>\n",
       "      <td>NaN</td>\n",
       "      <td>100</td>\n",
       "      <td>21</td>\n",
       "    </tr>\n",
       "    <tr>\n",
       "      <th>296</th>\n",
       "      <td>297</td>\n",
       "      <td>NaN</td>\n",
       "      <td>100</td>\n",
       "      <td>21</td>\n",
       "    </tr>\n",
       "    <tr>\n",
       "      <th>416</th>\n",
       "      <td>417</td>\n",
       "      <td>NaN</td>\n",
       "      <td>100</td>\n",
       "      <td>21</td>\n",
       "    </tr>\n",
       "    <tr>\n",
       "      <th>...</th>\n",
       "      <td>...</td>\n",
       "      <td>...</td>\n",
       "      <td>...</td>\n",
       "      <td>...</td>\n",
       "    </tr>\n",
       "    <tr>\n",
       "      <th>49552</th>\n",
       "      <td>49553</td>\n",
       "      <td>NaN</td>\n",
       "      <td>100</td>\n",
       "      <td>21</td>\n",
       "    </tr>\n",
       "    <tr>\n",
       "      <th>49574</th>\n",
       "      <td>49575</td>\n",
       "      <td>NaN</td>\n",
       "      <td>100</td>\n",
       "      <td>21</td>\n",
       "    </tr>\n",
       "    <tr>\n",
       "      <th>49640</th>\n",
       "      <td>49641</td>\n",
       "      <td>NaN</td>\n",
       "      <td>100</td>\n",
       "      <td>21</td>\n",
       "    </tr>\n",
       "    <tr>\n",
       "      <th>49663</th>\n",
       "      <td>49664</td>\n",
       "      <td>NaN</td>\n",
       "      <td>100</td>\n",
       "      <td>21</td>\n",
       "    </tr>\n",
       "    <tr>\n",
       "      <th>49668</th>\n",
       "      <td>49669</td>\n",
       "      <td>NaN</td>\n",
       "      <td>100</td>\n",
       "      <td>21</td>\n",
       "    </tr>\n",
       "  </tbody>\n",
       "</table>\n",
       "<p>1258 rows × 4 columns</p>\n",
       "</div>"
      ],
      "text/plain": [
       "       product_id product_name  aisle_id  department_id\n",
       "37             38          NaN       100             21\n",
       "71             72          NaN       100             21\n",
       "109           110          NaN       100             21\n",
       "296           297          NaN       100             21\n",
       "416           417          NaN       100             21\n",
       "...           ...          ...       ...            ...\n",
       "49552       49553          NaN       100             21\n",
       "49574       49575          NaN       100             21\n",
       "49640       49641          NaN       100             21\n",
       "49663       49664          NaN       100             21\n",
       "49668       49669          NaN       100             21\n",
       "\n",
       "[1258 rows x 4 columns]"
      ]
     },
     "execution_count": 24,
     "metadata": {},
     "output_type": "execute_result"
    }
   ],
   "source": [
    "# Encuentra los valores ausentes en la columna 'product_name'\n",
    "products[products[\"product_name\"].isna()]"
   ]
  },
  {
   "cell_type": "code",
   "execution_count": 25,
   "id": "e96167bc",
   "metadata": {
    "id": "e96167bc"
   },
   "outputs": [
    {
     "data": {
      "text/html": [
       "<div>\n",
       "<style scoped>\n",
       "    .dataframe tbody tr th:only-of-type {\n",
       "        vertical-align: middle;\n",
       "    }\n",
       "\n",
       "    .dataframe tbody tr th {\n",
       "        vertical-align: top;\n",
       "    }\n",
       "\n",
       "    .dataframe thead th {\n",
       "        text-align: right;\n",
       "    }\n",
       "</style>\n",
       "<table border=\"1\" class=\"dataframe\">\n",
       "  <thead>\n",
       "    <tr style=\"text-align: right;\">\n",
       "      <th></th>\n",
       "      <th>product_id</th>\n",
       "      <th>product_name</th>\n",
       "      <th>aisle_id</th>\n",
       "      <th>department_id</th>\n",
       "    </tr>\n",
       "  </thead>\n",
       "  <tbody>\n",
       "  </tbody>\n",
       "</table>\n",
       "</div>"
      ],
      "text/plain": [
       "Empty DataFrame\n",
       "Columns: [product_id, product_name, aisle_id, department_id]\n",
       "Index: []"
      ]
     },
     "execution_count": 25,
     "metadata": {},
     "output_type": "execute_result"
    }
   ],
   "source": [
    "#  ¿Todos los nombres de productos ausentes están relacionados con el pasillo con ID 100?\n",
    "products[(products[\"product_name\"].isna()) & (products[\"aisle_id\"]!=100)]"
   ]
  },
  {
   "cell_type": "markdown",
   "id": "WRpIfXRphpSL",
   "metadata": {
    "id": "WRpIfXRphpSL"
   },
   "source": [
    "Comprobamos si todos los productos con nombres ausentes están relacionados con el pasillo 100, donde podríamos inferir un problema específico con la entrada de datos para este pasillo."
   ]
  },
  {
   "cell_type": "code",
   "execution_count": 26,
   "id": "8fd0a541",
   "metadata": {
    "id": "8fd0a541"
   },
   "outputs": [
    {
     "data": {
      "text/html": [
       "<div>\n",
       "<style scoped>\n",
       "    .dataframe tbody tr th:only-of-type {\n",
       "        vertical-align: middle;\n",
       "    }\n",
       "\n",
       "    .dataframe tbody tr th {\n",
       "        vertical-align: top;\n",
       "    }\n",
       "\n",
       "    .dataframe thead th {\n",
       "        text-align: right;\n",
       "    }\n",
       "</style>\n",
       "<table border=\"1\" class=\"dataframe\">\n",
       "  <thead>\n",
       "    <tr style=\"text-align: right;\">\n",
       "      <th></th>\n",
       "      <th>product_id</th>\n",
       "      <th>product_name</th>\n",
       "      <th>aisle_id</th>\n",
       "      <th>department_id</th>\n",
       "    </tr>\n",
       "  </thead>\n",
       "  <tbody>\n",
       "  </tbody>\n",
       "</table>\n",
       "</div>"
      ],
      "text/plain": [
       "Empty DataFrame\n",
       "Columns: [product_id, product_name, aisle_id, department_id]\n",
       "Index: []"
      ]
     },
     "execution_count": 26,
     "metadata": {},
     "output_type": "execute_result"
    }
   ],
   "source": [
    "# ¿Todos los nombres de productos ausentes están relacionados con el departamento con ID 21?\n",
    "products[(products[\"product_name\"].isna()) & (products[\"department_id\"]!=21)]"
   ]
  },
  {
   "cell_type": "markdown",
   "id": "qDpdYn1Fht_I",
   "metadata": {
    "id": "qDpdYn1Fht_I"
   },
   "source": [
    "Comprobamos si todos los productos con nombres ausentes están relacionados con el departamento 21, podríamos sospechar un problema específico con la entrada de datos para este departamento."
   ]
  },
  {
   "cell_type": "code",
   "execution_count": 27,
   "id": "325c3464",
   "metadata": {
    "id": "325c3464"
   },
   "outputs": [
    {
     "name": "stdout",
     "output_type": "stream",
     "text": [
      "       product_id product_name  aisle_id  department_id\n",
      "37             38          NaN       100             21\n",
      "71             72          NaN       100             21\n",
      "109           110          NaN       100             21\n",
      "296           297          NaN       100             21\n",
      "416           417          NaN       100             21\n",
      "...           ...          ...       ...            ...\n",
      "49552       49553          NaN       100             21\n",
      "49574       49575          NaN       100             21\n",
      "49640       49641          NaN       100             21\n",
      "49663       49664          NaN       100             21\n",
      "49668       49669          NaN       100             21\n",
      "\n",
      "[1258 rows x 4 columns]\n"
     ]
    }
   ],
   "source": [
    "# Usa las tablas department y aisle para revisar los datos del pasillo con ID 100 y el departamento con ID 21.\n",
    "\n",
    "print(products[(products[\"aisle_id\"] == 100) & (products[\"department_id\"]==21)])"
   ]
  },
  {
   "cell_type": "markdown",
   "id": "nqhSTUPhhvEJ",
   "metadata": {
    "id": "nqhSTUPhhvEJ"
   },
   "source": [
    "Comprobamos si todos los productos con nombres ausentes están relacionados con el departamento 21, podríamos sospechar un problema específico con la entrada de datos para este departamento."
   ]
  },
  {
   "cell_type": "code",
   "execution_count": 28,
   "id": "6b295120",
   "metadata": {
    "id": "6b295120"
   },
   "outputs": [
    {
     "data": {
      "text/plain": [
       "product_id       0\n",
       "product_name     0\n",
       "aisle_id         0\n",
       "department_id    0\n",
       "dtype: int64"
      ]
     },
     "execution_count": 28,
     "metadata": {},
     "output_type": "execute_result"
    }
   ],
   "source": [
    "# Completa los nombres de productos ausentes con 'Unknown'\n",
    "products.fillna('Unknown', inplace=True)\n",
    "products.isna().sum()"
   ]
  },
  {
   "cell_type": "markdown",
   "id": "fc70e5ad",
   "metadata": {
    "id": "fc70e5ad"
   },
   "source": [
    "Se reemplazo los valores ausentes, para poder procesarlos."
   ]
  },
  {
   "cell_type": "markdown",
   "id": "7eb45c86",
   "metadata": {
    "id": "7eb45c86"
   },
   "source": [
    "### `orders` data frame"
   ]
  },
  {
   "cell_type": "code",
   "execution_count": 29,
   "id": "93e41d96",
   "metadata": {
    "id": "93e41d96"
   },
   "outputs": [
    {
     "data": {
      "text/plain": [
       "order_id                      0\n",
       "user_id                       0\n",
       "order_number                  0\n",
       "order_dow                     0\n",
       "order_hour_of_day             0\n",
       "days_since_prior_order    28817\n",
       "dtype: int64"
      ]
     },
     "execution_count": 29,
     "metadata": {},
     "output_type": "execute_result"
    }
   ],
   "source": [
    "# Encuentra los valores ausentes\n",
    "orders.isna().sum()"
   ]
  },
  {
   "cell_type": "code",
   "execution_count": 30,
   "id": "166e5a86",
   "metadata": {
    "id": "166e5a86"
   },
   "outputs": [
    {
     "data": {
      "text/html": [
       "<div>\n",
       "<style scoped>\n",
       "    .dataframe tbody tr th:only-of-type {\n",
       "        vertical-align: middle;\n",
       "    }\n",
       "\n",
       "    .dataframe tbody tr th {\n",
       "        vertical-align: top;\n",
       "    }\n",
       "\n",
       "    .dataframe thead th {\n",
       "        text-align: right;\n",
       "    }\n",
       "</style>\n",
       "<table border=\"1\" class=\"dataframe\">\n",
       "  <thead>\n",
       "    <tr style=\"text-align: right;\">\n",
       "      <th></th>\n",
       "      <th>order_id</th>\n",
       "      <th>user_id</th>\n",
       "      <th>order_number</th>\n",
       "      <th>order_dow</th>\n",
       "      <th>order_hour_of_day</th>\n",
       "      <th>days_since_prior_order</th>\n",
       "    </tr>\n",
       "  </thead>\n",
       "  <tbody>\n",
       "  </tbody>\n",
       "</table>\n",
       "</div>"
      ],
      "text/plain": [
       "Empty DataFrame\n",
       "Columns: [order_id, user_id, order_number, order_dow, order_hour_of_day, days_since_prior_order]\n",
       "Index: []"
      ]
     },
     "execution_count": 30,
     "metadata": {},
     "output_type": "execute_result"
    }
   ],
   "source": [
    "# ¿Hay algún valor ausente que no sea el primer pedido del cliente?\n",
    "\n",
    "orders[(orders[\"days_since_prior_order\"].isna())&(orders[\"order_number\"]!=1)]"
   ]
  },
  {
   "cell_type": "markdown",
   "id": "4e23d089",
   "metadata": {
    "id": "4e23d089"
   },
   "source": [
    "Se hallaron valores ausentes en la columna days_since_prior_order del data frame orders, debido a que al ser las primeras compras no tienen días transcurridos desde el pedido anterior por lo que es razonable que tengan valores ausentes."
   ]
  },
  {
   "cell_type": "markdown",
   "id": "69dc9ca4",
   "metadata": {
    "id": "69dc9ca4"
   },
   "source": [
    "### `order_products` data frame"
   ]
  },
  {
   "cell_type": "code",
   "execution_count": 31,
   "id": "b8240253",
   "metadata": {
    "id": "b8240253"
   },
   "outputs": [
    {
     "data": {
      "text/plain": [
       "order_id               0\n",
       "product_id             0\n",
       "add_to_cart_order    836\n",
       "reordered              0\n",
       "dtype: int64"
      ]
     },
     "execution_count": 31,
     "metadata": {},
     "output_type": "execute_result"
    }
   ],
   "source": [
    "# Encuentra los valores ausentes\n",
    "order_products.isna().sum()"
   ]
  },
  {
   "cell_type": "code",
   "execution_count": 32,
   "id": "f13d21a8",
   "metadata": {
    "id": "9a78e5ee"
   },
   "outputs": [
    {
     "data": {
      "text/plain": [
       "1.0"
      ]
     },
     "execution_count": 32,
     "metadata": {},
     "output_type": "execute_result"
    }
   ],
   "source": [
    "# ¿Cuáles son los valores mínimos y máximos en esta columna?\n",
    "order_products[\"add_to_cart_order\"].min()"
   ]
  },
  {
   "cell_type": "code",
   "execution_count": 33,
   "id": "6b13a718",
   "metadata": {},
   "outputs": [
    {
     "data": {
      "text/plain": [
       "64.0"
      ]
     },
     "execution_count": 33,
     "metadata": {},
     "output_type": "execute_result"
    }
   ],
   "source": [
    "order_products[\"add_to_cart_order\"].max()"
   ]
  },
  {
   "cell_type": "markdown",
   "id": "-Z2Ja215jW78",
   "metadata": {
    "id": "-Z2Ja215jW78"
   },
   "source": [
    "Se encontraron valores ausentes en la columna \"add_to_cart_order\" del data frame \"order_products\" cuyo valor minimo es 1 y valor maximo es 64"
   ]
  },
  {
   "cell_type": "code",
   "execution_count": 34,
   "id": "ab9d0c2b",
   "metadata": {
    "id": "ab9d0c2b"
   },
   "outputs": [],
   "source": [
    "# Guarda todas las IDs de pedidos que tengan un valor ausente en 'add_to_cart_order'\n",
    "orders_id_ausentes= list(order_products[order_products[\"add_to_cart_order\"].isna()][\"order_id\"].unique())\n",
    "orders_id_ausentes= sorted(orders_id_ausentes)"
   ]
  },
  {
   "cell_type": "code",
   "execution_count": 35,
   "id": "f70e57b1",
   "metadata": {},
   "outputs": [
    {
     "data": {
      "text/plain": [
       "order_id\n",
       "61355      127\n",
       "3308010    115\n",
       "2136777    108\n",
       "171934     104\n",
       "1959075     98\n",
       "          ... \n",
       "2231165      1\n",
       "816908       1\n",
       "2230951      1\n",
       "112056       1\n",
       "3421079      1\n",
       "Name: product_id, Length: 450046, dtype: int64"
      ]
     },
     "execution_count": 35,
     "metadata": {},
     "output_type": "execute_result"
    }
   ],
   "source": [
    "order_products.groupby(\"order_id\")[\"product_id\"].count().sort_values(ascending=False)"
   ]
  },
  {
   "cell_type": "code",
   "execution_count": 36,
   "id": "54c31695",
   "metadata": {
    "id": "54c31695"
   },
   "outputs": [
    {
     "data": {
      "text/plain": [
       "61355      127\n",
       "3308010    115\n",
       "2136777    108\n",
       "171934     104\n",
       "1959075     98\n",
       "          ... \n",
       "747668      65\n",
       "2170451     65\n",
       "2729254     65\n",
       "2652650     65\n",
       "9310        65\n",
       "Name: order_id, Length: 70, dtype: int64"
      ]
     },
     "execution_count": 36,
     "metadata": {},
     "output_type": "execute_result"
    }
   ],
   "source": [
    "# ¿Todos los pedidos con valores ausentes tienen más de 64 productos?\n",
    "order_products[order_products['order_id'].isin(orders_id_ausentes)]['order_id'].value_counts()"
   ]
  },
  {
   "cell_type": "code",
   "execution_count": 37,
   "id": "37f17832",
   "metadata": {},
   "outputs": [
    {
     "data": {
      "text/html": [
       "<div>\n",
       "<style scoped>\n",
       "    .dataframe tbody tr th:only-of-type {\n",
       "        vertical-align: middle;\n",
       "    }\n",
       "\n",
       "    .dataframe tbody tr th {\n",
       "        vertical-align: top;\n",
       "    }\n",
       "\n",
       "    .dataframe thead th {\n",
       "        text-align: right;\n",
       "    }\n",
       "</style>\n",
       "<table border=\"1\" class=\"dataframe\">\n",
       "  <thead>\n",
       "    <tr style=\"text-align: right;\">\n",
       "      <th></th>\n",
       "      <th>product_id</th>\n",
       "      <th>add_to_cart_order</th>\n",
       "      <th>reordered</th>\n",
       "    </tr>\n",
       "    <tr>\n",
       "      <th>order_id</th>\n",
       "      <th></th>\n",
       "      <th></th>\n",
       "      <th></th>\n",
       "    </tr>\n",
       "  </thead>\n",
       "  <tbody>\n",
       "    <tr>\n",
       "      <th>9310</th>\n",
       "      <td>65</td>\n",
       "      <td>64</td>\n",
       "      <td>65</td>\n",
       "    </tr>\n",
       "    <tr>\n",
       "      <th>61355</th>\n",
       "      <td>127</td>\n",
       "      <td>64</td>\n",
       "      <td>127</td>\n",
       "    </tr>\n",
       "    <tr>\n",
       "      <th>102236</th>\n",
       "      <td>95</td>\n",
       "      <td>64</td>\n",
       "      <td>95</td>\n",
       "    </tr>\n",
       "    <tr>\n",
       "      <th>129627</th>\n",
       "      <td>69</td>\n",
       "      <td>64</td>\n",
       "      <td>69</td>\n",
       "    </tr>\n",
       "    <tr>\n",
       "      <th>165801</th>\n",
       "      <td>70</td>\n",
       "      <td>64</td>\n",
       "      <td>70</td>\n",
       "    </tr>\n",
       "    <tr>\n",
       "      <th>...</th>\n",
       "      <td>...</td>\n",
       "      <td>...</td>\n",
       "      <td>...</td>\n",
       "    </tr>\n",
       "    <tr>\n",
       "      <th>2999801</th>\n",
       "      <td>70</td>\n",
       "      <td>64</td>\n",
       "      <td>70</td>\n",
       "    </tr>\n",
       "    <tr>\n",
       "      <th>3125735</th>\n",
       "      <td>86</td>\n",
       "      <td>64</td>\n",
       "      <td>86</td>\n",
       "    </tr>\n",
       "    <tr>\n",
       "      <th>3308010</th>\n",
       "      <td>115</td>\n",
       "      <td>64</td>\n",
       "      <td>115</td>\n",
       "    </tr>\n",
       "    <tr>\n",
       "      <th>3347453</th>\n",
       "      <td>71</td>\n",
       "      <td>64</td>\n",
       "      <td>71</td>\n",
       "    </tr>\n",
       "    <tr>\n",
       "      <th>3383594</th>\n",
       "      <td>69</td>\n",
       "      <td>64</td>\n",
       "      <td>69</td>\n",
       "    </tr>\n",
       "  </tbody>\n",
       "</table>\n",
       "<p>70 rows × 3 columns</p>\n",
       "</div>"
      ],
      "text/plain": [
       "          product_id  add_to_cart_order  reordered\n",
       "order_id                                          \n",
       "9310              65                 64         65\n",
       "61355            127                 64        127\n",
       "102236            95                 64         95\n",
       "129627            69                 64         69\n",
       "165801            70                 64         70\n",
       "...              ...                ...        ...\n",
       "2999801           70                 64         70\n",
       "3125735           86                 64         86\n",
       "3308010          115                 64        115\n",
       "3347453           71                 64         71\n",
       "3383594           69                 64         69\n",
       "\n",
       "[70 rows x 3 columns]"
      ]
     },
     "execution_count": 37,
     "metadata": {},
     "output_type": "execute_result"
    }
   ],
   "source": [
    "# Agrupa todos los pedidos con datos ausentes por su ID de pedido.\n",
    "order_products.groupby(\"order_id\")[\"product_id\"].count()\n",
    "order_products[order_products['order_id'].isin(orders_id_ausentes)].groupby('order_id').count()"
   ]
  },
  {
   "cell_type": "code",
   "execution_count": 38,
   "id": "3dd3188e",
   "metadata": {},
   "outputs": [
    {
     "data": {
      "text/plain": [
       "order_id\n",
       "9310        1\n",
       "61355      63\n",
       "102236     31\n",
       "129627      5\n",
       "165801      6\n",
       "           ..\n",
       "2999801     6\n",
       "3125735    22\n",
       "3308010    51\n",
       "3347453     7\n",
       "3383594     5\n",
       "Name: product_id, Length: 70, dtype: int64"
      ]
     },
     "execution_count": 38,
     "metadata": {},
     "output_type": "execute_result"
    }
   ],
   "source": [
    "# Cuenta el número de 'product_id' en cada pedido y revisa el valor mínimo del conteo.\n",
    "order_products[order_products['add_to_cart_order'].isnull()].groupby('order_id')['product_id'].count()"
   ]
  },
  {
   "cell_type": "markdown",
   "id": "p9V6pddtjglj",
   "metadata": {
    "id": "p9V6pddtjglj"
   },
   "source": [
    "Se ha determinado de el analisis que existen ordenes que tienen un mayor valor de 64"
   ]
  },
  {
   "cell_type": "code",
   "execution_count": 39,
   "id": "7a987d08",
   "metadata": {
    "id": "7a987d08"
   },
   "outputs": [
    {
     "data": {
      "text/plain": [
       "order_id             0\n",
       "product_id           0\n",
       "add_to_cart_order    0\n",
       "reordered            0\n",
       "dtype: int64"
      ]
     },
     "execution_count": 39,
     "metadata": {},
     "output_type": "execute_result"
    }
   ],
   "source": [
    "# Remplaza los valores ausentes en la columna 'add_to_cart? con 999 y convierte la columna al tipo entero.\n",
    "order_products ['add_to_cart_order'] = order_products['add_to_cart_order'].fillna(999).astype(int)\n",
    "order_products.isna().sum()"
   ]
  },
  {
   "cell_type": "markdown",
   "id": "fea4bcc7",
   "metadata": {
    "id": "fea4bcc7"
   },
   "source": [
    "Al descubrir valores ausentes en las ordenes de pedidos , se opto por reemplazarlos por 999 para poder procesar de los datos."
   ]
  },
  {
   "cell_type": "markdown",
   "id": "0311f9e3",
   "metadata": {
    "id": "RnplPFY1gSrb",
    "tags": [
     "parameters"
    ]
   },
   "source": [
    "## Conclusiones\n",
    "\n",
    "Escribe aquí tus conclusiones intermedias sobre el Paso 2. Preprocesamiento de los datos\n",
    "\n",
    "En el preprocesamiento de datos hallamos valores ausentes en las columnas que probablemente se deban a un error en el ingreso de datos , por lo que se opto por reemplazarlos para poder procesarlos posteriormente.\n"
   ]
  },
  {
   "cell_type": "markdown",
   "id": "7a10fa0b",
   "metadata": {},
   "source": [
    "<div class=\"alert alert-block alert-info\">\n",
    "<b>Al contar las ordenes nos damos cuenta que el número máximo es 64, sin embargo al realizar un analisis más profundo cuando agrupamos por ordenes y contamos los productos registrados nos damo cuenta que hay más de 64 productos , lo que se puede inferir que los datos ausentes nulos , pudo hacer una falla en el registro de los demás productos.</b> <a class=\"tocSkip\"></a>\n",
    "</div>"
   ]
  },
  {
   "cell_type": "markdown",
   "id": "UjrOIwTcz3ri",
   "metadata": {
    "id": "UjrOIwTcz3ri"
   },
   "source": [
    "# Paso 3. Análisis de los datos\n",
    "\n",
    "Una vez los datos estén procesados y listos, haz el siguiente análisis:"
   ]
  },
  {
   "cell_type": "markdown",
   "id": "turkish-kidney",
   "metadata": {
    "id": "turkish-kidney"
   },
   "source": [
    "1. Verifica que los valores en las columnas `'order_hour_of_day'` y `'order_dow'` en la tabla orders sean razonables (es decir, `'order_hour_of_day'` oscile entre 0 y 23 y `'order_dow'` oscile entre 0 y 6).\n",
    "2. Crea un gráfico que muestre el número de personas que hacen pedidos dependiendo de la hora del día.\n",
    "3. Crea un gráfico que muestre qué día de la semana la gente hace sus compras.\n",
    "4. Crea un gráfico que muestre el tiempo que la gente espera hasta hacer su siguiente pedido, y comenta sobre los valores mínimos y máximos."
   ]
  },
  {
   "cell_type": "markdown",
   "id": "short-capability",
   "metadata": {
    "id": "short-capability"
   },
   "source": [
    "### [A1] Verifica que los valores sean sensibles"
   ]
  },
  {
   "cell_type": "code",
   "execution_count": 40,
   "id": "ed75fe0d",
   "metadata": {},
   "outputs": [
    {
     "data": {
      "text/plain": [
       "order_id  user_id  order_number  order_dow  order_hour_of_day  days_since_prior_order\n",
       "4         178520   36            1          9                  7.0                       1\n",
       "2279173   131436   17            1          14                 21.0                      1\n",
       "2279229   29399    7             4          12                 7.0                       1\n",
       "2279228   154001   24            5          6                  4.0                       1\n",
       "2279208   77257    12            2          20                 24.0                      1\n",
       "                                                                                        ..\n",
       "1141737   81864    9             5          10                 30.0                      1\n",
       "1141714   11257    8             3          8                  18.0                      1\n",
       "1141708   186306   5             3          19                 17.0                      1\n",
       "1141693   150125   18            2          11                 12.0                      1\n",
       "3421079   108687   6             1          13                 0.0                       1\n",
       "Length: 312767, dtype: int64"
      ]
     },
     "execution_count": 40,
     "metadata": {},
     "output_type": "execute_result"
    }
   ],
   "source": [
    "# Verifica que los valores en las columnas 'order_hour_of_day' y 'order_dow' \n",
    "# en la tabla orders sean razonables (es decir, 'order_hour_of_day' oscile entre 0 y 23 y 'order_dow' oscile entre 0 y 6)\n",
    "\n",
    "\n",
    "orders[(orders['order_hour_of_day']>0)&(orders['order_hour_of_day']<23)].value_counts()\n",
    "orders[(orders['order_dow']>0)&(orders['order_dow']<6)].value_counts()"
   ]
  },
  {
   "cell_type": "markdown",
   "id": "a6743a70",
   "metadata": {
    "id": "a6743a70"
   },
   "source": [
    "### [A2] Para cada hora del día, ¿cuántas personas hacen órdenes?"
   ]
  },
  {
   "cell_type": "code",
   "execution_count": 41,
   "id": "80d3fe7b",
   "metadata": {},
   "outputs": [
    {
     "data": {
      "text/plain": [
       "<AxesSubplot:title={'center':'Ordenes por hora del día'}, xlabel='Hora del día', ylabel='Numero de ordenes'>"
      ]
     },
     "execution_count": 41,
     "metadata": {},
     "output_type": "execute_result"
    },
    {
     "data": {
      "image/png": "[encoded data removed]",
      "text/plain": [
       "<Figure size 640x480 with 1 Axes>"
      ]
     },
     "metadata": {},
     "output_type": "display_data"
    }
   ],
   "source": [
    "#Crea un gráfico que muestre el número de personas que hacen pedidos dependiendo de la hora del día.\n",
    "compras_horas_del_dia=orders['order_hour_of_day'].value_counts().sort_index()\n",
    "compras_horas_del_dia.plot(\n",
    "    kind='bar',\n",
    "    title=\"Ordenes por hora del día\",\n",
    "    xlabel=\"Hora del día\",\n",
    "    ylabel=\"Numero de ordenes\")"
   ]
  },
  {
   "cell_type": "markdown",
   "id": "11270eed",
   "metadata": {
    "id": "11270eed"
   },
   "source": [
    "De acuerdo al gráfico se puede observar que hay mayor frecuencia de ordenes entre las 10  y 15 horas"
   ]
  },
  {
   "cell_type": "markdown",
   "id": "documented-command",
   "metadata": {
    "id": "documented-command"
   },
   "source": [
    "### [A3] ¿Qué día de la semana compran víveres las personas?"
   ]
  },
  {
   "cell_type": "code",
   "execution_count": 42,
   "id": "a9313c5d",
   "metadata": {},
   "outputs": [
    {
     "data": {
      "text/plain": [
       "<AxesSubplot:title={'center':'Compras por día'}, xlabel='Días', ylabel='Compras'>"
      ]
     },
     "execution_count": 42,
     "metadata": {},
     "output_type": "execute_result"
    },
    {
     "data": {
      "image/png": "[encoded data removed]",
      "text/plain": [
       "<Figure size 640x480 with 1 Axes>"
      ]
     },
     "metadata": {},
     "output_type": "display_data"
    }
   ],
   "source": [
    "#Crea un gráfico que muestre qué día de la semana la gente hace sus compras.\n",
    "compras_dia_de_la_semana=orders['order_dow'].value_counts().sort_index()\n",
    "\n",
    "compras_dia_de_la_semana.plot(\n",
    "    kind='bar',\n",
    "    title=\"Compras por día\",\n",
    "    xlabel=\"Días\",\n",
    "    ylabel=\"Compras\")"
   ]
  },
  {
   "cell_type": "markdown",
   "id": "dominant-lightning",
   "metadata": {
    "id": "dominant-lightning"
   },
   "source": [
    "De acuerdo al gráfico se puede observar que hay mayor frecuencia de ordenes los días domingo y lunes."
   ]
  },
  {
   "cell_type": "markdown",
   "id": "cutting-concert",
   "metadata": {
    "id": "cutting-concert"
   },
   "source": [
    "### [A4] ¿Cuánto tiempo esperan las personas hasta hacer otro pedido? Comenta sobre los valores mínimos y máximos."
   ]
  },
  {
   "cell_type": "code",
   "execution_count": 43,
   "id": "8f1511f2",
   "metadata": {},
   "outputs": [
    {
     "data": {
      "text/plain": [
       "<AxesSubplot:title={'center':'Tiempo de espera para el siguiente pedido'}, ylabel='Frequency'>"
      ]
     },
     "execution_count": 43,
     "metadata": {},
     "output_type": "execute_result"
    },
    {
     "data": {
      "image/png": "[encoded data removed]",
      "text/plain": [
       "<Figure size 640x480 with 1 Axes>"
      ]
     },
     "metadata": {},
     "output_type": "display_data"
    }
   ],
   "source": [
    "#Crea un gráfico que muestre el tiempo que la gente espera hasta hacer su siguiente pedido, \n",
    "#y comenta sobre los valores mínimos y máximos.\n",
    "tiempo_de_las_ordenes=orders['days_since_prior_order']\n",
    "tiempo_de_las_ordenes.plot(\n",
    "    kind='hist',\n",
    "    bins=30,\n",
    "    title=\"Tiempo de espera para el siguiente pedido\",\n",
    "    )"
   ]
  },
  {
   "cell_type": "code",
   "execution_count": 44,
   "id": "2670c150",
   "metadata": {
    "id": "growing-fruit"
   },
   "outputs": [
    {
     "data": {
      "text/plain": [
       "0.0"
      ]
     },
     "execution_count": 44,
     "metadata": {},
     "output_type": "execute_result"
    }
   ],
   "source": [
    "orders['days_since_prior_order'].min()"
   ]
  },
  {
   "cell_type": "code",
   "execution_count": 45,
   "id": "421c9d01",
   "metadata": {
    "id": "accessory-malaysia"
   },
   "outputs": [
    {
     "data": {
      "text/plain": [
       "30.0"
      ]
     },
     "execution_count": 45,
     "metadata": {},
     "output_type": "execute_result"
    }
   ],
   "source": [
    "orders['days_since_prior_order'].max()"
   ]
  },
  {
   "cell_type": "markdown",
   "id": "75644136",
   "metadata": {
    "id": "hmR2GNQ6lCsX"
   },
   "source": [
    "\n",
    "Al determinar el valor máximo podemos observar que el tiempo máximo despues de la orden anterior es de 30 días."
   ]
  },
  {
   "cell_type": "markdown",
   "id": "tight-staff",
   "metadata": {
    "id": "tight-staff"
   },
   "source": [
    "\n",
    "1. ¿Existe alguna diferencia entre las distribuciones `'order_hour_of_day'` de los miércoles y los sábados? Traza gráficos de barra de `'order_hour_of_day'` para ambos días en la misma figura y describe las diferencias que observes.\n",
    "2. Grafica la distribución para el número de órdenes que hacen los clientes (es decir, cuántos clientes hicieron solo 1 pedido, cuántos hicieron 2, cuántos 3, y así sucesivamente...).\n",
    "3. ¿Cuáles son los 20 principales productos que se piden con más frecuencia (muestra su identificación y nombre)?"
   ]
  },
  {
   "cell_type": "markdown",
   "id": "packed-classic",
   "metadata": {
    "id": "packed-classic"
   },
   "source": [
    "### [B1] Diferencia entre miércoles y sábados para  `'order_hour_of_day'`. Traza gráficos de barra para los dos días y describe las diferencias que veas."
   ]
  },
  {
   "cell_type": "code",
   "execution_count": 65,
   "id": "d89b8403",
   "metadata": {
    "id": "d89b8403"
   },
   "outputs": [
    {
     "data": {
      "text/plain": [
       "pandas.core.series.Series"
      ]
     },
     "execution_count": 65,
     "metadata": {},
     "output_type": "execute_result"
    }
   ],
   "source": [
    "ordenes_miercoles = orders[orders['order_dow'] == 3]['order_hour_of_day'].value_counts().sort_index()"
   ]
  },
  {
   "cell_type": "code",
   "execution_count": 47,
   "id": "94e54e8a",
   "metadata": {
    "id": "94e54e8a"
   },
   "outputs": [],
   "source": [
    "ordenes_sabado = orders[orders['order_dow'] == 6]['order_hour_of_day'].value_counts().sort_index()"
   ]
  },
  {
   "cell_type": "code",
   "execution_count": 48,
   "id": "797c90a8",
   "metadata": {
    "id": "797c90a8"
   },
   "outputs": [
    {
     "data": {
      "text/plain": [
       "<AxesSubplot:title={'center':'Comparación de ordenes Miercoles y Sabado'}, xlabel='Hora del día', ylabel='Numero de ordenes'>"
      ]
     },
     "execution_count": 48,
     "metadata": {},
     "output_type": "execute_result"
    },
    {
     "data": {
      "image/png": "[encoded data removed]",
      "text/plain": [
       "<Figure size 640x480 with 1 Axes>"
      ]
     },
     "metadata": {},
     "output_type": "display_data"
    }
   ],
   "source": [
    "miercoles_y_sabado=pd.concat([ordenes_miercoles,ordenes_sabado], axis=1)\n",
    "miercoles_y_sabado.columns=[\"Miercoles\",\"sabado\"]\n",
    "miercoles_y_sabado.plot(\n",
    "    kind='bar',\n",
    "    title=\"Comparación de ordenes Miercoles y Sabado\",\n",
    "    xlabel=\"Hora del día\",\n",
    "    ylabel=\"Numero de ordenes\")\n",
    "#orders_wed.value_counts().sort_index().plot(kind='bar', alpha=0.5, label='Miércoles')"
   ]
  },
  {
   "cell_type": "markdown",
   "id": "charitable-congo",
   "metadata": {
    "id": "charitable-congo"
   },
   "source": [
    "Del gráfico de barras observamos que en comparación del día sábado y miércoles existe una diferencia en la cantidad de numero de ordenes en relacion de las horas pico, el día sabado se tiene mayor numero de ordenes.\n"
   ]
  },
  {
   "cell_type": "markdown",
   "id": "e3891143",
   "metadata": {
    "id": "e3891143"
   },
   "source": [
    "### [B2] ¿Cuál es la distribución para el número de pedidos por cliente?"
   ]
  },
  {
   "cell_type": "code",
   "execution_count": 49,
   "id": "d8c26c23",
   "metadata": {
    "id": "d8c26c23"
   },
   "outputs": [
    {
     "data": {
      "text/plain": [
       "<AxesSubplot:title={'center':'Distribution of total orders'}, ylabel='Frequency'>"
      ]
     },
     "execution_count": 49,
     "metadata": {},
     "output_type": "execute_result"
    },
    {
     "data": {
      "image/png": "[encoded data removed]",
      "text/plain": [
       "<Figure size 640x480 with 1 Axes>"
      ]
     },
     "metadata": {},
     "output_type": "display_data"
    }
   ],
   "source": [
    "#orders['user_id'].value_counts().plot(kind='hist', bins=100,title=\"Distribución total de ordenes\")\n",
    "\n",
    "order_count_per_user = orders.groupby('user_id')['order_id'].count().sort_values()\n",
    "order_count_per_user\n",
    "order_count_per_user.plot(kind='hist',\n",
    "                          bins=28,\n",
    "                          title='Distribution of total orders')                        "
   ]
  },
  {
   "cell_type": "markdown",
   "id": "9db742f4",
   "metadata": {
    "id": "00e69a66"
   },
   "source": [
    "Del gráfico podemos determinar que hay mayor frecuencia de cantidad de ordenes en las primeras compras "
   ]
  },
  {
   "cell_type": "markdown",
   "id": "54a0319c",
   "metadata": {
    "id": "54a0319c"
   },
   "source": [
    "### [B3] ¿Cuáles son los 20 productos más populares (muestra su ID y nombre)?"
   ]
  },
  {
   "cell_type": "code",
   "execution_count": 50,
   "id": "exterior-arizona",
   "metadata": {
    "id": "exterior-arizona",
    "scrolled": true
   },
   "outputs": [],
   "source": [
    "product_counts = order_products['product_id'].value_counts().reset_index()\n",
    "product_counts.columns = ['product_id', 'count']\n",
    "popular_products = pd.merge(product_counts, products, on='product_id', how='left')"
   ]
  },
  {
   "cell_type": "code",
   "execution_count": 51,
   "id": "aa6e0f63",
   "metadata": {},
   "outputs": [
    {
     "name": "stdout",
     "output_type": "stream",
     "text": [
      "    product_id  count\n",
      "0        24852  66050\n",
      "1        13176  53297\n",
      "2        21137  37039\n",
      "3        21903  33971\n",
      "4        47209  29773\n",
      "5        47766  24689\n",
      "6        47626  21495\n",
      "7        16797  20018\n",
      "8        26209  19690\n",
      "9        27845  19600\n",
      "10       27966  19197\n",
      "11       22935  15898\n",
      "12       24964  15292\n",
      "13       45007  14584\n",
      "14       39275  13879\n",
      "15       49683  13675\n",
      "16       28204  12544\n",
      "17        5876  12232\n",
      "18        8277  11993\n",
      "19       40706  11781\n"
     ]
    }
   ],
   "source": [
    "print(product_counts.head(20))"
   ]
  },
  {
   "cell_type": "code",
   "execution_count": 52,
   "id": "bbcdd20b",
   "metadata": {
    "id": "bbcdd20b"
   },
   "outputs": [
    {
     "name": "stdout",
     "output_type": "stream",
     "text": [
      "    product_id  count              product_name  aisle_id  department_id\n",
      "0        24852  66050                    Banana        24              4\n",
      "1        13176  53297    Bag of Organic Bananas        24              4\n",
      "2        21137  37039      Organic Strawberries        24              4\n",
      "3        21903  33971      Organic Baby Spinach       123              4\n",
      "4        47209  29773      Organic Hass Avocado        24              4\n",
      "5        47766  24689           Organic Avocado        24              4\n",
      "6        47626  21495               Large Lemon        24              4\n",
      "7        16797  20018              Strawberries        24              4\n",
      "8        26209  19690                     Limes        24              4\n",
      "9        27845  19600        Organic Whole Milk        84             16\n",
      "10       27966  19197       Organic Raspberries       123              4\n",
      "11       22935  15898      Organic Yellow Onion        83              4\n",
      "12       24964  15292            Organic Garlic        83              4\n",
      "13       45007  14584          Organic Zucchini        83              4\n",
      "14       39275  13879       Organic Blueberries       123              4\n",
      "15       49683  13675            Cucumber Kirby        83              4\n",
      "16       28204  12544        Organic Fuji Apple        24              4\n",
      "17        5876  12232             Organic Lemon        24              4\n",
      "18        8277  11993  Apple Honeycrisp Organic        24              4\n",
      "19       40706  11781    Organic Grape Tomatoes       123              4\n"
     ]
    }
   ],
   "source": [
    "print(popular_products.head(20))"
   ]
  },
  {
   "cell_type": "markdown",
   "id": "7df00f47",
   "metadata": {
    "id": "7df00f47"
   },
   "source": [
    "Del analisis realizado observamos que los 20 productos más populares son de consumo masivo."
   ]
  },
  {
   "cell_type": "markdown",
   "id": "gross-theme",
   "metadata": {
    "id": "gross-theme"
   },
   "source": [
    "1. ¿Cuántos artículos suelen comprar las personas en un pedido? ¿Cómo es la distribución?\n",
    "2. ¿Cuáles son los 20 principales artículos que vuelven a pedirse con mayor frecuencia (muestra sus nombres e IDs de los productos)?\n",
    "3. Para cada producto, ¿cuál es la tasa de repetición del pedido (número de repeticiones de pedido/total de pedidos?\n",
    "4. Para cada cliente, ¿qué proporción de los productos que pidió ya los había pedido? Calcula la tasa de repetición de pedido para cada usuario en lugar de para cada producto.\n",
    "5. ¿Cuáles son los 20 principales artículos que la gente pone primero en sus carritos (muestra las IDs de los productos, sus nombres, y el número de veces en que fueron el primer artículo en añadirse al carrito)?"
   ]
  },
  {
   "cell_type": "markdown",
   "id": "romantic-deposit",
   "metadata": {
    "id": "romantic-deposit"
   },
   "source": [
    "### [C1] ¿Cuántos artículos compran normalmente las personas en un pedido? ¿Cómo es la distribución?"
   ]
  },
  {
   "cell_type": "code",
   "execution_count": 53,
   "id": "virtual-punch",
   "metadata": {
    "id": "virtual-punch"
   },
   "outputs": [
    {
     "data": {
      "text/plain": [
       "<AxesSubplot:ylabel='Frequency'>"
      ]
     },
     "execution_count": 53,
     "metadata": {},
     "output_type": "execute_result"
    },
    {
     "data": {
      "image/png": "[encoded data removed]",
      "text/plain": [
       "<Figure size 640x480 with 1 Axes>"
      ]
     },
     "metadata": {},
     "output_type": "display_data"
    }
   ],
   "source": [
    "order_products.groupby('order_id').size().plot(kind='hist', bins=5)"
   ]
  },
  {
   "cell_type": "markdown",
   "id": "designed-mortality",
   "metadata": {
    "id": "designed-mortality"
   },
   "source": [
    "En promedio se compran 20 articulos en un pedido"
   ]
  },
  {
   "cell_type": "markdown",
   "id": "5e6b5537",
   "metadata": {
    "id": "5e6b5537"
   },
   "source": [
    "### [C2] ¿Cuáles son los 20 principales artículos que vuelven a pedirse con mayor frecuencia (muestra sus nombres e IDs de los productos)?"
   ]
  },
  {
   "cell_type": "code",
   "execution_count": 54,
   "id": "9374e55a",
   "metadata": {
    "id": "9374e55a"
   },
   "outputs": [],
   "source": [
    "#top_20_reordered = print(order_products[order_products['reordered'] == 1]['product_id'].value_counts().head(20))\n",
    "reordered_products = order_products[order_products['reordered'] == 1]\n",
    "reordered_counts = reordered_products['product_id'].value_counts().reset_index()\n",
    "reordered_counts.columns = ['product_id', 'reorder_count']\n",
    "popular_reordered_products = pd.merge(reordered_counts, products, on='product_id', how='left')"
   ]
  },
  {
   "cell_type": "code",
   "execution_count": 55,
   "id": "possible-change",
   "metadata": {
    "id": "possible-change",
    "scrolled": true
   },
   "outputs": [
    {
     "name": "stdout",
     "output_type": "stream",
     "text": [
      "    product_id              product_name\n",
      "0        24852                    Banana\n",
      "1        13176    Bag of Organic Bananas\n",
      "2        21137      Organic Strawberries\n",
      "3        21903      Organic Baby Spinach\n",
      "4        47209      Organic Hass Avocado\n",
      "5        47766           Organic Avocado\n",
      "6        27845        Organic Whole Milk\n",
      "7        47626               Large Lemon\n",
      "8        27966       Organic Raspberries\n",
      "9        16797              Strawberries\n",
      "10       26209                     Limes\n",
      "11       22935      Organic Yellow Onion\n",
      "12       24964            Organic Garlic\n",
      "13       45007          Organic Zucchini\n",
      "14       49683            Cucumber Kirby\n",
      "15       28204        Organic Fuji Apple\n",
      "16        8277  Apple Honeycrisp Organic\n",
      "17       39275       Organic Blueberries\n",
      "18        5876             Organic Lemon\n",
      "19       49235       Organic Half & Half\n"
     ]
    }
   ],
   "source": [
    "print(popular_reordered_products[['product_id', 'product_name']].head(20))"
   ]
  },
  {
   "cell_type": "markdown",
   "id": "80e70c74",
   "metadata": {
    "id": "80e70c74"
   },
   "source": [
    "Del analisis realizado observamos que los 20 productos más populares y que vuelven a pedirse con mayor frecuencia son de consumo masivo."
   ]
  },
  {
   "cell_type": "markdown",
   "id": "9d312b14",
   "metadata": {
    "id": "9d312b14"
   },
   "source": [
    "### [C3] Para cada producto, ¿cuál es la proporción de las veces que se pide y que se vuelve a pedir?"
   ]
  },
  {
   "cell_type": "code",
   "execution_count": 56,
   "id": "8ae9f4b1",
   "metadata": {
    "id": "8ae9f4b1"
   },
   "outputs": [],
   "source": [
    "total_orders = order_products['product_id'].value_counts().reset_index()\n",
    "total_orders.columns = ['product_id', 'total_orders']\n",
    "reordered_counts = order_products[order_products['reordered'] == 1]['product_id'].value_counts().reset_index()\n",
    "reordered_counts.columns = ['product_id', 'reorder_count']"
   ]
  },
  {
   "cell_type": "code",
   "execution_count": 57,
   "id": "103e7fe1",
   "metadata": {
    "id": "103e7fe1"
   },
   "outputs": [],
   "source": [
    "product_reorder_info = pd.merge(total_orders, reordered_counts, on='product_id', how='left')\n",
    "product_reorder_info['reorder_count'].fillna(0, inplace=True)\n",
    "product_reorder_info['reorder_ratio'] = product_reorder_info['reorder_count'] / product_reorder_info['total_orders']\n",
    "product_reorder_info = pd.merge(product_reorder_info, products, on='product_id', how='left')"
   ]
  },
  {
   "cell_type": "code",
   "execution_count": 58,
   "id": "social-individual",
   "metadata": {
    "id": "social-individual"
   },
   "outputs": [
    {
     "name": "stdout",
     "output_type": "stream",
     "text": [
      "       product_id                           product_name  reorder_ratio\n",
      "0           24852                                 Banana       0.844254\n",
      "1           13176                 Bag of Organic Bananas       0.834006\n",
      "2           21137                   Organic Strawberries       0.773212\n",
      "3           21903                   Organic Baby Spinach       0.772217\n",
      "4           47209                   Organic Hass Avocado       0.793639\n",
      "...           ...                                    ...            ...\n",
      "45568       10543         Blueberry Premium Fruit Spread       0.000000\n",
      "45569        5222              Organic Beef & Burger Rub       0.000000\n",
      "45570        2347  Premium Mo' Beta Fruit Smoothie Blend       0.000000\n",
      "45571       11893                                Unknown       0.000000\n",
      "45572       32074          Unscented Sensitive Body Wash       0.000000\n",
      "\n",
      "[45573 rows x 3 columns]\n"
     ]
    }
   ],
   "source": [
    "print(product_reorder_info[['product_id', 'product_name', 'reorder_ratio']])"
   ]
  },
  {
   "cell_type": "markdown",
   "id": "I10dEIAyldcO",
   "metadata": {
    "id": "I10dEIAyldcO"
   },
   "source": [
    "Del analisis obtenemos que la mayor proporcion de tasa de reordenes son los productos organicos y, por lo tanto, son más populares para ser pedidos nuevamente."
   ]
  },
  {
   "cell_type": "markdown",
   "id": "subject-boxing",
   "metadata": {
    "id": "subject-boxing"
   },
   "source": [
    "### [C4] Para cada cliente, ¿qué proporción de sus productos ya los había pedido?"
   ]
  },
  {
   "cell_type": "code",
   "execution_count": 59,
   "id": "medical-couple",
   "metadata": {
    "id": "medical-couple",
    "scrolled": true
   },
   "outputs": [],
   "source": [
    "orders_products_merged = pd.merge(order_products, orders, on='order_id')"
   ]
  },
  {
   "cell_type": "code",
   "execution_count": 60,
   "id": "8892e4b4",
   "metadata": {
    "id": "8892e4b4"
   },
   "outputs": [
    {
     "data": {
      "text/plain": [
       "user_id\n",
       "2         0.038462\n",
       "4         0.000000\n",
       "5         0.666667\n",
       "6         0.000000\n",
       "7         0.928571\n",
       "            ...   \n",
       "206203    0.222222\n",
       "206206    0.714286\n",
       "206207    0.891304\n",
       "206208    0.696000\n",
       "206209    0.320000\n",
       "Name: reordered, Length: 149626, dtype: float64"
      ]
     },
     "execution_count": 60,
     "metadata": {},
     "output_type": "execute_result"
    }
   ],
   "source": [
    "reorder_rate = orders_products_merged.groupby('user_id')['reordered'].mean()\n",
    "reorder_rate"
   ]
  },
  {
   "cell_type": "markdown",
   "id": "BgJSvXDsleXz",
   "metadata": {
    "id": "BgJSvXDsleXz"
   },
   "source": [
    "Esta información  permite ver qué proporción de los productos pedidos por cada cliente son reordenes, proporcionando información sobre la lealtad del cliente y los hábitos de compra."
   ]
  },
  {
   "cell_type": "markdown",
   "id": "92d35137",
   "metadata": {
    "id": "92d35137"
   },
   "source": [
    "### [C5] ¿Cuáles son los 20 principales artículos que las personas ponen primero en sus carritos?"
   ]
  },
  {
   "cell_type": "code",
   "execution_count": 61,
   "id": "forty-netherlands",
   "metadata": {
    "id": "forty-netherlands",
    "scrolled": true
   },
   "outputs": [
    {
     "data": {
      "text/html": [
       "<div>\n",
       "<style scoped>\n",
       "    .dataframe tbody tr th:only-of-type {\n",
       "        vertical-align: middle;\n",
       "    }\n",
       "\n",
       "    .dataframe tbody tr th {\n",
       "        vertical-align: top;\n",
       "    }\n",
       "\n",
       "    .dataframe thead th {\n",
       "        text-align: right;\n",
       "    }\n",
       "</style>\n",
       "<table border=\"1\" class=\"dataframe\">\n",
       "  <thead>\n",
       "    <tr style=\"text-align: right;\">\n",
       "      <th></th>\n",
       "      <th>order_id</th>\n",
       "      <th>product_id</th>\n",
       "      <th>add_to_cart_order</th>\n",
       "      <th>reordered</th>\n",
       "      <th>product_name</th>\n",
       "      <th>aisle_id</th>\n",
       "      <th>department_id</th>\n",
       "    </tr>\n",
       "  </thead>\n",
       "  <tbody>\n",
       "    <tr>\n",
       "      <th>6</th>\n",
       "      <td>1463503</td>\n",
       "      <td>11440</td>\n",
       "      <td>1</td>\n",
       "      <td>0</td>\n",
       "      <td>Chicken Breast Tenders Breaded</td>\n",
       "      <td>129</td>\n",
       "      <td>1</td>\n",
       "    </tr>\n",
       "    <tr>\n",
       "      <th>17</th>\n",
       "      <td>2201430</td>\n",
       "      <td>11440</td>\n",
       "      <td>1</td>\n",
       "      <td>1</td>\n",
       "      <td>Chicken Breast Tenders Breaded</td>\n",
       "      <td>129</td>\n",
       "      <td>1</td>\n",
       "    </tr>\n",
       "    <tr>\n",
       "      <th>21</th>\n",
       "      <td>1036054</td>\n",
       "      <td>11440</td>\n",
       "      <td>1</td>\n",
       "      <td>1</td>\n",
       "      <td>Chicken Breast Tenders Breaded</td>\n",
       "      <td>129</td>\n",
       "      <td>1</td>\n",
       "    </tr>\n",
       "    <tr>\n",
       "      <th>50</th>\n",
       "      <td>3008652</td>\n",
       "      <td>11440</td>\n",
       "      <td>1</td>\n",
       "      <td>1</td>\n",
       "      <td>Chicken Breast Tenders Breaded</td>\n",
       "      <td>129</td>\n",
       "      <td>1</td>\n",
       "    </tr>\n",
       "    <tr>\n",
       "      <th>62</th>\n",
       "      <td>2946144</td>\n",
       "      <td>11440</td>\n",
       "      <td>1</td>\n",
       "      <td>1</td>\n",
       "      <td>Chicken Breast Tenders Breaded</td>\n",
       "      <td>129</td>\n",
       "      <td>1</td>\n",
       "    </tr>\n",
       "    <tr>\n",
       "      <th>...</th>\n",
       "      <td>...</td>\n",
       "      <td>...</td>\n",
       "      <td>...</td>\n",
       "      <td>...</td>\n",
       "      <td>...</td>\n",
       "      <td>...</td>\n",
       "      <td>...</td>\n",
       "    </tr>\n",
       "    <tr>\n",
       "      <th>4544972</th>\n",
       "      <td>1518168</td>\n",
       "      <td>16952</td>\n",
       "      <td>1</td>\n",
       "      <td>0</td>\n",
       "      <td>Sensitive Night Cream</td>\n",
       "      <td>73</td>\n",
       "      <td>11</td>\n",
       "    </tr>\n",
       "    <tr>\n",
       "      <th>4544977</th>\n",
       "      <td>1776450</td>\n",
       "      <td>21507</td>\n",
       "      <td>1</td>\n",
       "      <td>0</td>\n",
       "      <td>Gluten Free All-Purpose Rice Flour Blend</td>\n",
       "      <td>17</td>\n",
       "      <td>13</td>\n",
       "    </tr>\n",
       "    <tr>\n",
       "      <th>4544995</th>\n",
       "      <td>2333206</td>\n",
       "      <td>25467</td>\n",
       "      <td>1</td>\n",
       "      <td>0</td>\n",
       "      <td>Madagascar Pure Vanilla</td>\n",
       "      <td>17</td>\n",
       "      <td>13</td>\n",
       "    </tr>\n",
       "    <tr>\n",
       "      <th>4545005</th>\n",
       "      <td>532895</td>\n",
       "      <td>8182</td>\n",
       "      <td>1</td>\n",
       "      <td>0</td>\n",
       "      <td>Total Mint Stripe Gel Toothpaste</td>\n",
       "      <td>20</td>\n",
       "      <td>11</td>\n",
       "    </tr>\n",
       "    <tr>\n",
       "      <th>4545006</th>\n",
       "      <td>3132243</td>\n",
       "      <td>40024</td>\n",
       "      <td>1</td>\n",
       "      <td>0</td>\n",
       "      <td>Egg Replacer Powder</td>\n",
       "      <td>17</td>\n",
       "      <td>13</td>\n",
       "    </tr>\n",
       "  </tbody>\n",
       "</table>\n",
       "<p>450046 rows × 7 columns</p>\n",
       "</div>"
      ],
      "text/plain": [
       "         order_id  product_id  add_to_cart_order  reordered  \\\n",
       "6         1463503       11440                  1          0   \n",
       "17        2201430       11440                  1          1   \n",
       "21        1036054       11440                  1          1   \n",
       "50        3008652       11440                  1          1   \n",
       "62        2946144       11440                  1          1   \n",
       "...           ...         ...                ...        ...   \n",
       "4544972   1518168       16952                  1          0   \n",
       "4544977   1776450       21507                  1          0   \n",
       "4544995   2333206       25467                  1          0   \n",
       "4545005    532895        8182                  1          0   \n",
       "4545006   3132243       40024                  1          0   \n",
       "\n",
       "                                     product_name  aisle_id  department_id  \n",
       "6                  Chicken Breast Tenders Breaded       129              1  \n",
       "17                 Chicken Breast Tenders Breaded       129              1  \n",
       "21                 Chicken Breast Tenders Breaded       129              1  \n",
       "50                 Chicken Breast Tenders Breaded       129              1  \n",
       "62                 Chicken Breast Tenders Breaded       129              1  \n",
       "...                                           ...       ...            ...  \n",
       "4544972                     Sensitive Night Cream        73             11  \n",
       "4544977  Gluten Free All-Purpose Rice Flour Blend        17             13  \n",
       "4544995                   Madagascar Pure Vanilla        17             13  \n",
       "4545005          Total Mint Stripe Gel Toothpaste        20             11  \n",
       "4545006                       Egg Replacer Powder        17             13  \n",
       "\n",
       "[450046 rows x 7 columns]"
      ]
     },
     "execution_count": 61,
     "metadata": {},
     "output_type": "execute_result"
    }
   ],
   "source": [
    "df_merge = order_products.merge(products)\n",
    "first_in_cart = df_merge[df_merge['add_to_cart_order'] == 1]\n",
    "first_in_cart"
   ]
  },
  {
   "cell_type": "code",
   "execution_count": 62,
   "id": "08e41ec2",
   "metadata": {
    "id": "08e41ec2"
   },
   "outputs": [
    {
     "data": {
      "text/plain": [
       "product_id  product_name                                               \n",
       "24852       Banana                                                         15562\n",
       "13176       Bag of Organic Bananas                                         11026\n",
       "27845       Organic Whole Milk                                              4363\n",
       "21137       Organic Strawberries                                            3946\n",
       "47209       Organic Hass Avocado                                            3390\n",
       "                                                                           ...  \n",
       "10981       Cloud White Decorating Cupcake Icing                               1\n",
       "10985       Premium Twin Pack Rock Cornish Game Hen                            1\n",
       "38272       Organic Raw Coconut Flour                                          1\n",
       "10989       Garbage Disposal Freshener & Cleaner Red Pear with Magnolia        1\n",
       "36996       Cool Sport Spray-On Sunscreen SPF 50                               1\n",
       "Name: product_id, Length: 26760, dtype: int64"
      ]
     },
     "execution_count": 62,
     "metadata": {},
     "output_type": "execute_result"
    }
   ],
   "source": [
    "first_count = first_in_cart.groupby(['product_id', 'product_name'])['product_id'].count().sort_values(ascending=False)\n",
    "first_count"
   ]
  },
  {
   "cell_type": "code",
   "execution_count": 63,
   "id": "eb5763fe",
   "metadata": {},
   "outputs": [
    {
     "data": {
      "text/html": [
       "<div>\n",
       "<style scoped>\n",
       "    .dataframe tbody tr th:only-of-type {\n",
       "        vertical-align: middle;\n",
       "    }\n",
       "\n",
       "    .dataframe tbody tr th {\n",
       "        vertical-align: top;\n",
       "    }\n",
       "\n",
       "    .dataframe thead th {\n",
       "        text-align: right;\n",
       "    }\n",
       "</style>\n",
       "<table border=\"1\" class=\"dataframe\">\n",
       "  <thead>\n",
       "    <tr style=\"text-align: right;\">\n",
       "      <th></th>\n",
       "      <th>product_id</th>\n",
       "      <th>product_name</th>\n",
       "      <th>count</th>\n",
       "    </tr>\n",
       "  </thead>\n",
       "  <tbody>\n",
       "    <tr>\n",
       "      <th>0</th>\n",
       "      <td>24852</td>\n",
       "      <td>Banana</td>\n",
       "      <td>15562</td>\n",
       "    </tr>\n",
       "    <tr>\n",
       "      <th>1</th>\n",
       "      <td>13176</td>\n",
       "      <td>Bag of Organic Bananas</td>\n",
       "      <td>11026</td>\n",
       "    </tr>\n",
       "    <tr>\n",
       "      <th>2</th>\n",
       "      <td>27845</td>\n",
       "      <td>Organic Whole Milk</td>\n",
       "      <td>4363</td>\n",
       "    </tr>\n",
       "    <tr>\n",
       "      <th>3</th>\n",
       "      <td>21137</td>\n",
       "      <td>Organic Strawberries</td>\n",
       "      <td>3946</td>\n",
       "    </tr>\n",
       "    <tr>\n",
       "      <th>4</th>\n",
       "      <td>47209</td>\n",
       "      <td>Organic Hass Avocado</td>\n",
       "      <td>3390</td>\n",
       "    </tr>\n",
       "    <tr>\n",
       "      <th>5</th>\n",
       "      <td>21903</td>\n",
       "      <td>Organic Baby Spinach</td>\n",
       "      <td>3336</td>\n",
       "    </tr>\n",
       "    <tr>\n",
       "      <th>6</th>\n",
       "      <td>47766</td>\n",
       "      <td>Organic Avocado</td>\n",
       "      <td>3044</td>\n",
       "    </tr>\n",
       "    <tr>\n",
       "      <th>7</th>\n",
       "      <td>19660</td>\n",
       "      <td>Spring Water</td>\n",
       "      <td>2336</td>\n",
       "    </tr>\n",
       "    <tr>\n",
       "      <th>8</th>\n",
       "      <td>16797</td>\n",
       "      <td>Strawberries</td>\n",
       "      <td>2308</td>\n",
       "    </tr>\n",
       "    <tr>\n",
       "      <th>9</th>\n",
       "      <td>27966</td>\n",
       "      <td>Organic Raspberries</td>\n",
       "      <td>2024</td>\n",
       "    </tr>\n",
       "    <tr>\n",
       "      <th>10</th>\n",
       "      <td>44632</td>\n",
       "      <td>Sparkling Water Grapefruit</td>\n",
       "      <td>1914</td>\n",
       "    </tr>\n",
       "    <tr>\n",
       "      <th>11</th>\n",
       "      <td>49235</td>\n",
       "      <td>Organic Half &amp; Half</td>\n",
       "      <td>1797</td>\n",
       "    </tr>\n",
       "    <tr>\n",
       "      <th>12</th>\n",
       "      <td>47626</td>\n",
       "      <td>Large Lemon</td>\n",
       "      <td>1737</td>\n",
       "    </tr>\n",
       "    <tr>\n",
       "      <th>13</th>\n",
       "      <td>196</td>\n",
       "      <td>Soda</td>\n",
       "      <td>1733</td>\n",
       "    </tr>\n",
       "    <tr>\n",
       "      <th>14</th>\n",
       "      <td>38689</td>\n",
       "      <td>Organic Reduced Fat Milk</td>\n",
       "      <td>1397</td>\n",
       "    </tr>\n",
       "    <tr>\n",
       "      <th>15</th>\n",
       "      <td>26209</td>\n",
       "      <td>Limes</td>\n",
       "      <td>1370</td>\n",
       "    </tr>\n",
       "    <tr>\n",
       "      <th>16</th>\n",
       "      <td>12341</td>\n",
       "      <td>Hass Avocados</td>\n",
       "      <td>1340</td>\n",
       "    </tr>\n",
       "    <tr>\n",
       "      <th>17</th>\n",
       "      <td>5785</td>\n",
       "      <td>Organic Reduced Fat 2% Milk</td>\n",
       "      <td>1310</td>\n",
       "    </tr>\n",
       "    <tr>\n",
       "      <th>18</th>\n",
       "      <td>27086</td>\n",
       "      <td>Half &amp; Half</td>\n",
       "      <td>1309</td>\n",
       "    </tr>\n",
       "    <tr>\n",
       "      <th>19</th>\n",
       "      <td>43352</td>\n",
       "      <td>Raspberries</td>\n",
       "      <td>1246</td>\n",
       "    </tr>\n",
       "  </tbody>\n",
       "</table>\n",
       "</div>"
      ],
      "text/plain": [
       "    product_id                 product_name  count\n",
       "0        24852                       Banana  15562\n",
       "1        13176       Bag of Organic Bananas  11026\n",
       "2        27845           Organic Whole Milk   4363\n",
       "3        21137         Organic Strawberries   3946\n",
       "4        47209         Organic Hass Avocado   3390\n",
       "5        21903         Organic Baby Spinach   3336\n",
       "6        47766              Organic Avocado   3044\n",
       "7        19660                 Spring Water   2336\n",
       "8        16797                 Strawberries   2308\n",
       "9        27966          Organic Raspberries   2024\n",
       "10       44632   Sparkling Water Grapefruit   1914\n",
       "11       49235          Organic Half & Half   1797\n",
       "12       47626                  Large Lemon   1737\n",
       "13         196                         Soda   1733\n",
       "14       38689     Organic Reduced Fat Milk   1397\n",
       "15       26209                        Limes   1370\n",
       "16       12341                Hass Avocados   1340\n",
       "17        5785  Organic Reduced Fat 2% Milk   1310\n",
       "18       27086                  Half & Half   1309\n",
       "19       43352                  Raspberries   1246"
      ]
     },
     "execution_count": 63,
     "metadata": {},
     "output_type": "execute_result"
    }
   ],
   "source": [
    "first_count_as_df = first_count.reset_index(name='count')\n",
    "first_count_as_df.head(20)"
   ]
  },
  {
   "cell_type": "markdown",
   "id": "28ce9872",
   "metadata": {
    "id": "28ce9872"
   },
   "source": [
    "EL código produce una tabla con los IDs de los productos y los nombres de los 20 productos que más frecuentemente son agregados primero al carrito, lo que nos  permitire identificar los productos que los usuarios tienden a considerar primero en sus compras."
   ]
  },
  {
   "cell_type": "markdown",
   "id": "uITbFCEoDosC",
   "metadata": {
    "id": "uITbFCEoDosC"
   },
   "source": [
    "### Conclusion general del proyecto:"
   ]
  },
  {
   "cell_type": "markdown",
   "id": "d777aec5",
   "metadata": {
    "id": "Nk-4GS7mDwqY"
   },
   "source": [
    "En este proyecto, hemos realizado un análisis  de los datos de pedidos de Instacart para extraer \n",
    "información valiosa sobre el comportamiento de compra de los usuarios:\n",
    "Identificamos los 20 productos más populares y los productos que más se reordenan,o que ayuda a entender \n",
    "los hábitos de compra de los clientes hacia productos específicos, al determinar los 20 principales artículos\n",
    "que los usuarios agregan primero a sus carritos."
   ]
  }
 ],
 "metadata": {
  "ExecuteTimeLog": [
   {
    "duration": 463,
    "start_time": "2024-07-08T17:14:27.077Z"
   },
   {
    "duration": 7,
    "start_time": "2024-07-08T17:14:28.930Z"
   },
   {
    "duration": 337,
    "start_time": "2024-07-08T17:14:51.034Z"
   },
   {
    "duration": 22,
    "start_time": "2024-07-08T17:14:55.018Z"
   },
   {
    "duration": 21,
    "start_time": "2024-07-08T17:15:03.633Z"
   },
   {
    "duration": 23,
    "start_time": "2024-07-08T17:15:09.203Z"
   },
   {
    "duration": 21,
    "start_time": "2024-07-08T17:15:12.019Z"
   },
   {
    "duration": 1236,
    "start_time": "2024-07-08T17:15:44.185Z"
   },
   {
    "duration": 431,
    "start_time": "2024-07-08T17:16:15.105Z"
   },
   {
    "duration": 32,
    "start_time": "2024-07-08T17:16:21.172Z"
   },
   {
    "duration": 386,
    "start_time": "2024-07-08T17:19:04.743Z"
   },
   {
    "duration": 7,
    "start_time": "2024-07-08T17:19:15.935Z"
   },
   {
    "duration": 218,
    "start_time": "2024-07-08T17:20:41.624Z"
   },
   {
    "duration": 371,
    "start_time": "2024-07-08T17:21:51.546Z"
   },
   {
    "duration": 123,
    "start_time": "2024-07-08T17:21:59.719Z"
   },
   {
    "duration": 24,
    "start_time": "2024-07-08T17:24:00.477Z"
   },
   {
    "duration": 117,
    "start_time": "2024-07-08T17:24:19.302Z"
   },
   {
    "duration": 371,
    "start_time": "2024-07-08T17:25:20.436Z"
   },
   {
    "duration": 125,
    "start_time": "2024-07-08T17:25:23.594Z"
   },
   {
    "duration": 367,
    "start_time": "2024-07-08T17:26:51.704Z"
   },
   {
    "duration": 357,
    "start_time": "2024-07-08T17:27:00.787Z"
   },
   {
    "duration": 128,
    "start_time": "2024-07-08T17:27:03.773Z"
   },
   {
    "duration": 7,
    "start_time": "2024-07-08T17:31:56.940Z"
   },
   {
    "duration": 87,
    "start_time": "2024-07-08T17:34:02.926Z"
   },
   {
    "duration": 376,
    "start_time": "2024-07-08T17:35:16.377Z"
   },
   {
    "duration": 122,
    "start_time": "2024-07-08T17:35:22.291Z"
   },
   {
    "duration": 420,
    "start_time": "2024-07-08T17:38:07.078Z"
   },
   {
    "duration": 21,
    "start_time": "2024-07-08T17:38:11.872Z"
   },
   {
    "duration": 444,
    "start_time": "2024-07-08T17:40:48.109Z"
   },
   {
    "duration": 14,
    "start_time": "2024-07-08T17:40:53.874Z"
   },
   {
    "duration": 450,
    "start_time": "2024-07-08T17:42:40.004Z"
   },
   {
    "duration": 120,
    "start_time": "2024-07-08T17:42:43.974Z"
   },
   {
    "duration": 13,
    "start_time": "2024-07-08T17:42:46.408Z"
   },
   {
    "duration": 14,
    "start_time": "2024-07-08T17:42:50.088Z"
   },
   {
    "duration": 558,
    "start_time": "2024-07-08T17:45:03.335Z"
   },
   {
    "duration": 4,
    "start_time": "2024-07-08T18:05:42.385Z"
   },
   {
    "duration": 10,
    "start_time": "2024-07-08T18:11:54.595Z"
   },
   {
    "duration": 577,
    "start_time": "2024-07-08T18:12:58.439Z"
   },
   {
    "duration": 3545,
    "start_time": "2024-07-08T18:14:17.238Z"
   },
   {
    "duration": 12,
    "start_time": "2024-07-08T18:14:28.883Z"
   },
   {
    "duration": 119,
    "start_time": "2024-07-08T18:45:17.708Z"
   },
   {
    "duration": 115,
    "start_time": "2024-07-08T18:45:49.477Z"
   },
   {
    "duration": 231,
    "start_time": "2024-07-08T18:46:36.147Z"
   },
   {
    "duration": 272,
    "start_time": "2024-07-08T18:49:28.840Z"
   },
   {
    "duration": 470,
    "start_time": "2024-07-08T18:54:17.624Z"
   },
   {
    "duration": 6,
    "start_time": "2024-07-08T18:55:43.862Z"
   },
   {
    "duration": 484,
    "start_time": "2024-07-08T18:55:50.703Z"
   },
   {
    "duration": 508,
    "start_time": "2024-07-09T02:34:31.398Z"
   },
   {
    "duration": 3436,
    "start_time": "2024-07-09T02:34:33.649Z"
   },
   {
    "duration": 3375,
    "start_time": "2024-07-09T02:34:41.129Z"
   },
   {
    "duration": 124,
    "start_time": "2024-07-09T02:34:44.507Z"
   },
   {
    "duration": 26,
    "start_time": "2024-07-09T02:34:47.822Z"
   },
   {
    "duration": 13,
    "start_time": "2024-07-09T02:34:51.626Z"
   },
   {
    "duration": 14,
    "start_time": "2024-07-09T02:34:54.526Z"
   },
   {
    "duration": 255,
    "start_time": "2024-07-09T02:34:57.739Z"
   },
   {
    "duration": 497,
    "start_time": "2024-07-09T02:35:42.542Z"
   },
   {
    "duration": 3165,
    "start_time": "2024-07-09T03:16:53.486Z"
   },
   {
    "duration": 124,
    "start_time": "2024-07-09T03:17:03.344Z"
   },
   {
    "duration": 19,
    "start_time": "2024-07-09T03:17:18.267Z"
   },
   {
    "duration": 3053,
    "start_time": "2024-07-09T03:19:42.789Z"
   },
   {
    "duration": 16,
    "start_time": "2024-07-09T03:19:46.543Z"
   },
   {
    "duration": 16,
    "start_time": "2024-07-09T03:19:50.668Z"
   },
   {
    "duration": 11,
    "start_time": "2024-07-09T03:21:01.600Z"
   },
   {
    "duration": 1522,
    "start_time": "2024-07-09T03:21:18.912Z"
   },
   {
    "duration": 15,
    "start_time": "2024-07-09T03:21:24.898Z"
   },
   {
    "duration": 1406,
    "start_time": "2024-07-09T03:21:36.281Z"
   },
   {
    "duration": 16,
    "start_time": "2024-07-09T03:21:39.322Z"
   },
   {
    "duration": 17,
    "start_time": "2024-07-09T03:21:43.461Z"
   },
   {
    "duration": 13,
    "start_time": "2024-07-09T03:21:48.389Z"
   },
   {
    "duration": 14,
    "start_time": "2024-07-09T03:21:52.375Z"
   },
   {
    "duration": 37,
    "start_time": "2024-07-09T03:22:04.045Z"
   },
   {
    "duration": 4,
    "start_time": "2024-07-09T03:22:15.282Z"
   },
   {
    "duration": 1467,
    "start_time": "2024-07-09T03:22:18.651Z"
   },
   {
    "duration": 1444,
    "start_time": "2024-07-09T03:22:22.569Z"
   },
   {
    "duration": 4,
    "start_time": "2024-07-09T03:22:41.139Z"
   },
   {
    "duration": 1466,
    "start_time": "2024-07-09T03:22:41.149Z"
   },
   {
    "duration": 17,
    "start_time": "2024-07-09T03:22:42.618Z"
   },
   {
    "duration": 35,
    "start_time": "2024-07-09T03:22:42.638Z"
   },
   {
    "duration": 14,
    "start_time": "2024-07-09T03:22:42.677Z"
   },
   {
    "duration": 14,
    "start_time": "2024-07-09T03:22:42.694Z"
   },
   {
    "duration": 76,
    "start_time": "2024-07-09T03:22:42.711Z"
   },
   {
    "duration": 7,
    "start_time": "2024-07-09T03:22:42.790Z"
   },
   {
    "duration": 0,
    "start_time": "2024-07-09T03:22:42.802Z"
   },
   {
    "duration": 0,
    "start_time": "2024-07-09T03:22:42.804Z"
   },
   {
    "duration": 0,
    "start_time": "2024-07-09T03:22:42.806Z"
   },
   {
    "duration": 0,
    "start_time": "2024-07-09T03:22:42.808Z"
   },
   {
    "duration": 0,
    "start_time": "2024-07-09T03:22:42.809Z"
   },
   {
    "duration": 0,
    "start_time": "2024-07-09T03:22:42.812Z"
   },
   {
    "duration": 0,
    "start_time": "2024-07-09T03:22:42.814Z"
   },
   {
    "duration": 0,
    "start_time": "2024-07-09T03:22:42.816Z"
   },
   {
    "duration": 0,
    "start_time": "2024-07-09T03:22:42.818Z"
   },
   {
    "duration": 0,
    "start_time": "2024-07-09T03:22:42.820Z"
   },
   {
    "duration": 0,
    "start_time": "2024-07-09T03:22:42.823Z"
   },
   {
    "duration": 0,
    "start_time": "2024-07-09T03:22:42.824Z"
   },
   {
    "duration": 0,
    "start_time": "2024-07-09T03:22:42.825Z"
   },
   {
    "duration": 0,
    "start_time": "2024-07-09T03:22:42.827Z"
   },
   {
    "duration": 0,
    "start_time": "2024-07-09T03:22:42.828Z"
   },
   {
    "duration": 0,
    "start_time": "2024-07-09T03:22:42.829Z"
   },
   {
    "duration": 0,
    "start_time": "2024-07-09T03:22:42.830Z"
   },
   {
    "duration": 0,
    "start_time": "2024-07-09T03:22:42.870Z"
   },
   {
    "duration": 0,
    "start_time": "2024-07-09T03:22:42.872Z"
   },
   {
    "duration": 0,
    "start_time": "2024-07-09T03:22:42.876Z"
   },
   {
    "duration": 0,
    "start_time": "2024-07-09T03:22:42.878Z"
   },
   {
    "duration": 0,
    "start_time": "2024-07-09T03:22:42.880Z"
   },
   {
    "duration": 0,
    "start_time": "2024-07-09T03:22:42.883Z"
   },
   {
    "duration": 0,
    "start_time": "2024-07-09T03:22:42.885Z"
   },
   {
    "duration": 0,
    "start_time": "2024-07-09T03:22:42.887Z"
   },
   {
    "duration": 0,
    "start_time": "2024-07-09T03:22:42.890Z"
   },
   {
    "duration": 0,
    "start_time": "2024-07-09T03:22:42.893Z"
   },
   {
    "duration": 0,
    "start_time": "2024-07-09T03:22:42.894Z"
   },
   {
    "duration": 5,
    "start_time": "2024-07-09T03:23:03.039Z"
   },
   {
    "duration": 274,
    "start_time": "2024-07-09T03:25:26.670Z"
   },
   {
    "duration": 276,
    "start_time": "2024-07-09T03:25:30.735Z"
   },
   {
    "duration": 139,
    "start_time": "2024-07-09T03:25:54.561Z"
   },
   {
    "duration": 126,
    "start_time": "2024-07-09T03:26:09.627Z"
   },
   {
    "duration": 77,
    "start_time": "2024-07-09T03:38:58.124Z"
   },
   {
    "duration": 24,
    "start_time": "2024-07-09T03:44:27.205Z"
   },
   {
    "duration": 10,
    "start_time": "2024-07-09T03:47:54.184Z"
   },
   {
    "duration": 34,
    "start_time": "2024-07-09T03:51:05.170Z"
   },
   {
    "duration": 9,
    "start_time": "2024-07-09T03:53:12.571Z"
   },
   {
    "duration": 706,
    "start_time": "2024-07-09T03:54:10.720Z"
   },
   {
    "duration": 12,
    "start_time": "2024-07-09T03:54:19.408Z"
   },
   {
    "duration": 10,
    "start_time": "2024-07-09T03:56:35.420Z"
   },
   {
    "duration": 19,
    "start_time": "2024-07-09T03:57:40.300Z"
   },
   {
    "duration": 20,
    "start_time": "2024-07-09T03:58:15.638Z"
   },
   {
    "duration": 48,
    "start_time": "2024-07-09T04:00:40.679Z"
   },
   {
    "duration": 22,
    "start_time": "2024-07-09T04:15:28.783Z"
   },
   {
    "duration": 1202,
    "start_time": "2024-07-09T04:15:37.644Z"
   },
   {
    "duration": 1242,
    "start_time": "2024-07-09T04:16:17.217Z"
   },
   {
    "duration": 1212,
    "start_time": "2024-07-09T04:17:28.684Z"
   },
   {
    "duration": 1064,
    "start_time": "2024-07-09T04:17:43.568Z"
   },
   {
    "duration": 1228,
    "start_time": "2024-07-09T04:18:12.890Z"
   },
   {
    "duration": 1261,
    "start_time": "2024-07-09T04:18:21.849Z"
   },
   {
    "duration": 19,
    "start_time": "2024-07-09T04:20:40.548Z"
   },
   {
    "duration": 18,
    "start_time": "2024-07-09T04:22:30.014Z"
   },
   {
    "duration": 435,
    "start_time": "2024-07-09T04:23:16.447Z"
   },
   {
    "duration": 12,
    "start_time": "2024-07-09T04:23:29.054Z"
   },
   {
    "duration": 17,
    "start_time": "2024-07-09T04:50:28.698Z"
   },
   {
    "duration": 17,
    "start_time": "2024-07-09T04:56:44.391Z"
   },
   {
    "duration": 57,
    "start_time": "2024-07-09T04:57:02.446Z"
   },
   {
    "duration": 27,
    "start_time": "2024-07-09T04:59:10.781Z"
   },
   {
    "duration": 11,
    "start_time": "2024-07-09T05:00:24.676Z"
   },
   {
    "duration": 7,
    "start_time": "2024-07-09T05:01:56.926Z"
   },
   {
    "duration": 13,
    "start_time": "2024-07-09T05:02:32.352Z"
   },
   {
    "duration": 939,
    "start_time": "2024-07-09T05:10:37.429Z"
   },
   {
    "duration": 146,
    "start_time": "2024-07-09T05:14:09.113Z"
   },
   {
    "duration": 150,
    "start_time": "2024-07-09T05:14:17.308Z"
   },
   {
    "duration": 153,
    "start_time": "2024-07-09T05:14:46.889Z"
   },
   {
    "duration": 88,
    "start_time": "2024-07-09T05:15:08.483Z"
   },
   {
    "duration": 150,
    "start_time": "2024-07-09T05:16:16.682Z"
   },
   {
    "duration": 139,
    "start_time": "2024-07-09T05:16:22.630Z"
   },
   {
    "duration": 73,
    "start_time": "2024-07-09T05:16:46.298Z"
   },
   {
    "duration": 155,
    "start_time": "2024-07-09T05:17:11.592Z"
   },
   {
    "duration": 144,
    "start_time": "2024-07-09T05:17:21.003Z"
   },
   {
    "duration": 73,
    "start_time": "2024-07-09T05:17:25.305Z"
   },
   {
    "duration": 153,
    "start_time": "2024-07-09T05:17:35.201Z"
   },
   {
    "duration": 12,
    "start_time": "2024-07-09T05:27:29.311Z"
   },
   {
    "duration": 5,
    "start_time": "2024-07-09T05:28:14.198Z"
   },
   {
    "duration": 10,
    "start_time": "2024-07-09T05:28:24.900Z"
   },
   {
    "duration": 4,
    "start_time": "2024-07-09T05:32:57.536Z"
   },
   {
    "duration": 21,
    "start_time": "2024-07-09T05:35:50.457Z"
   },
   {
    "duration": 27,
    "start_time": "2024-07-09T05:36:46.638Z"
   },
   {
    "duration": 27,
    "start_time": "2024-07-09T05:36:49.241Z"
   },
   {
    "duration": 19,
    "start_time": "2024-07-09T06:10:46.702Z"
   },
   {
    "duration": 10,
    "start_time": "2024-07-09T06:12:53.121Z"
   },
   {
    "duration": 13,
    "start_time": "2024-07-09T06:13:19.722Z"
   },
   {
    "duration": 10,
    "start_time": "2024-07-09T06:13:36.481Z"
   },
   {
    "duration": 112,
    "start_time": "2024-07-09T06:23:39.940Z"
   },
   {
    "duration": 114,
    "start_time": "2024-07-09T06:23:58.251Z"
   },
   {
    "duration": 37,
    "start_time": "2024-07-09T06:29:50.935Z"
   },
   {
    "duration": 55,
    "start_time": "2024-07-09T06:30:42.202Z"
   },
   {
    "duration": 166,
    "start_time": "2024-07-09T06:32:16.447Z"
   },
   {
    "duration": 107,
    "start_time": "2024-07-09T06:32:30.006Z"
   },
   {
    "duration": 320,
    "start_time": "2024-07-09T06:33:28.776Z"
   },
   {
    "duration": 24,
    "start_time": "2024-07-09T06:33:42.491Z"
   },
   {
    "duration": 457,
    "start_time": "2024-07-09T06:33:48.579Z"
   },
   {
    "duration": 1478,
    "start_time": "2024-07-09T06:33:50.700Z"
   },
   {
    "duration": 18,
    "start_time": "2024-07-09T06:33:53.479Z"
   },
   {
    "duration": 15,
    "start_time": "2024-07-09T06:34:11.173Z"
   },
   {
    "duration": 14,
    "start_time": "2024-07-09T06:34:13.936Z"
   },
   {
    "duration": 14,
    "start_time": "2024-07-09T06:34:16.068Z"
   },
   {
    "duration": 39,
    "start_time": "2024-07-09T06:34:18.492Z"
   },
   {
    "duration": 171,
    "start_time": "2024-07-09T06:34:24.374Z"
   },
   {
    "duration": 154,
    "start_time": "2024-07-09T06:34:27.917Z"
   },
   {
    "duration": 19,
    "start_time": "2024-07-09T06:34:31.257Z"
   },
   {
    "duration": 174,
    "start_time": "2024-07-09T06:34:35.198Z"
   },
   {
    "duration": 178,
    "start_time": "2024-07-09T06:34:38.386Z"
   },
   {
    "duration": 172,
    "start_time": "2024-07-09T06:34:41.578Z"
   },
   {
    "duration": 97,
    "start_time": "2024-07-09T06:34:45.260Z"
   },
   {
    "duration": 25,
    "start_time": "2024-07-09T06:34:49.346Z"
   },
   {
    "duration": 10,
    "start_time": "2024-07-09T06:34:51.924Z"
   },
   {
    "duration": 184,
    "start_time": "2024-07-09T06:35:08.198Z"
   },
   {
    "duration": 173,
    "start_time": "2024-07-09T06:35:11.622Z"
   },
   {
    "duration": 167,
    "start_time": "2024-07-09T06:35:15.247Z"
   },
   {
    "duration": 167,
    "start_time": "2024-07-09T06:35:21.320Z"
   },
   {
    "duration": 189,
    "start_time": "2024-07-09T06:35:33.700Z"
   },
   {
    "duration": 99,
    "start_time": "2024-07-09T06:35:38.017Z"
   },
   {
    "duration": 187,
    "start_time": "2024-07-09T06:35:58.018Z"
   },
   {
    "duration": 17,
    "start_time": "2024-07-09T06:36:13.840Z"
   },
   {
    "duration": 186,
    "start_time": "2024-07-09T06:36:18.210Z"
   },
   {
    "duration": 97,
    "start_time": "2024-07-09T06:36:21.528Z"
   },
   {
    "duration": 165,
    "start_time": "2024-07-09T06:36:50.534Z"
   },
   {
    "duration": 163,
    "start_time": "2024-07-09T06:36:56.048Z"
   },
   {
    "duration": 17,
    "start_time": "2024-07-09T06:37:00.978Z"
   },
   {
    "duration": 193,
    "start_time": "2024-07-09T06:37:12.139Z"
   },
   {
    "duration": 97,
    "start_time": "2024-07-09T06:37:18.698Z"
   },
   {
    "duration": 176,
    "start_time": "2024-07-09T06:38:04.581Z"
   },
   {
    "duration": 161,
    "start_time": "2024-07-09T06:38:08.201Z"
   },
   {
    "duration": 85,
    "start_time": "2024-07-09T06:38:13.173Z"
   },
   {
    "duration": 14,
    "start_time": "2024-07-09T06:38:47.794Z"
   },
   {
    "duration": 63,
    "start_time": "2024-07-09T06:38:58.942Z"
   },
   {
    "duration": 28,
    "start_time": "2024-07-09T06:39:10.166Z"
   },
   {
    "duration": 28,
    "start_time": "2024-07-09T06:39:13.859Z"
   },
   {
    "duration": 27,
    "start_time": "2024-07-09T06:39:15.787Z"
   },
   {
    "duration": 24,
    "start_time": "2024-07-09T06:39:43.985Z"
   },
   {
    "duration": 18,
    "start_time": "2024-07-09T06:39:56.207Z"
   },
   {
    "duration": 114,
    "start_time": "2024-07-09T06:39:59.356Z"
   },
   {
    "duration": 62,
    "start_time": "2024-07-09T06:40:06.828Z"
   },
   {
    "duration": 4288,
    "start_time": "2024-07-09T07:01:14.631Z"
   },
   {
    "duration": 11,
    "start_time": "2024-07-09T07:02:49.424Z"
   },
   {
    "duration": 194,
    "start_time": "2024-07-09T07:03:46.115Z"
   },
   {
    "duration": 286,
    "start_time": "2024-07-09T07:04:54.957Z"
   },
   {
    "duration": 307,
    "start_time": "2024-07-09T07:06:45.909Z"
   },
   {
    "duration": 196,
    "start_time": "2024-07-09T07:07:28.074Z"
   },
   {
    "duration": 271,
    "start_time": "2024-07-09T07:07:50.593Z"
   },
   {
    "duration": 9,
    "start_time": "2024-07-09T07:09:09.777Z"
   },
   {
    "duration": 9,
    "start_time": "2024-07-09T07:09:13.058Z"
   },
   {
    "duration": 290,
    "start_time": "2024-07-09T07:09:15.504Z"
   },
   {
    "duration": 298,
    "start_time": "2024-07-09T07:09:19.640Z"
   },
   {
    "duration": 321,
    "start_time": "2024-07-09T07:10:10.586Z"
   },
   {
    "duration": 157,
    "start_time": "2024-07-09T07:11:43.805Z"
   },
   {
    "duration": 153,
    "start_time": "2024-07-09T07:11:48.835Z"
   },
   {
    "duration": 156,
    "start_time": "2024-07-09T07:12:32.470Z"
   },
   {
    "duration": 5,
    "start_time": "2024-07-09T07:13:11.086Z"
   },
   {
    "duration": 7,
    "start_time": "2024-07-09T07:13:52.397Z"
   },
   {
    "duration": 111,
    "start_time": "2024-07-09T07:16:14.577Z"
   },
   {
    "duration": 746,
    "start_time": "2024-07-09T07:17:10.609Z"
   },
   {
    "duration": 330,
    "start_time": "2024-07-09T23:15:23.629Z"
   },
   {
    "duration": 465,
    "start_time": "2024-07-09T23:15:41.744Z"
   },
   {
    "duration": 1934,
    "start_time": "2024-07-09T23:15:42.212Z"
   },
   {
    "duration": 25,
    "start_time": "2024-07-09T23:15:44.149Z"
   },
   {
    "duration": 33,
    "start_time": "2024-07-09T23:15:44.180Z"
   },
   {
    "duration": 17,
    "start_time": "2024-07-09T23:15:44.216Z"
   },
   {
    "duration": 13,
    "start_time": "2024-07-09T23:15:44.236Z"
   },
   {
    "duration": 88,
    "start_time": "2024-07-09T23:15:44.252Z"
   },
   {
    "duration": 8,
    "start_time": "2024-07-09T23:15:44.343Z"
   },
   {
    "duration": 0,
    "start_time": "2024-07-09T23:15:44.358Z"
   },
   {
    "duration": 0,
    "start_time": "2024-07-09T23:15:44.360Z"
   },
   {
    "duration": 0,
    "start_time": "2024-07-09T23:15:44.362Z"
   },
   {
    "duration": 0,
    "start_time": "2024-07-09T23:15:44.365Z"
   },
   {
    "duration": 0,
    "start_time": "2024-07-09T23:15:44.368Z"
   },
   {
    "duration": 0,
    "start_time": "2024-07-09T23:15:44.370Z"
   },
   {
    "duration": 0,
    "start_time": "2024-07-09T23:15:44.371Z"
   },
   {
    "duration": 0,
    "start_time": "2024-07-09T23:15:44.373Z"
   },
   {
    "duration": 0,
    "start_time": "2024-07-09T23:15:44.374Z"
   },
   {
    "duration": 0,
    "start_time": "2024-07-09T23:15:44.375Z"
   },
   {
    "duration": 0,
    "start_time": "2024-07-09T23:15:44.376Z"
   },
   {
    "duration": 0,
    "start_time": "2024-07-09T23:15:44.401Z"
   },
   {
    "duration": 0,
    "start_time": "2024-07-09T23:15:44.405Z"
   },
   {
    "duration": 0,
    "start_time": "2024-07-09T23:15:44.406Z"
   },
   {
    "duration": 0,
    "start_time": "2024-07-09T23:15:44.409Z"
   },
   {
    "duration": 0,
    "start_time": "2024-07-09T23:15:44.411Z"
   },
   {
    "duration": 0,
    "start_time": "2024-07-09T23:15:44.413Z"
   },
   {
    "duration": 0,
    "start_time": "2024-07-09T23:15:44.416Z"
   },
   {
    "duration": 0,
    "start_time": "2024-07-09T23:15:44.424Z"
   },
   {
    "duration": 0,
    "start_time": "2024-07-09T23:15:44.426Z"
   },
   {
    "duration": 0,
    "start_time": "2024-07-09T23:15:44.428Z"
   },
   {
    "duration": 0,
    "start_time": "2024-07-09T23:15:44.432Z"
   },
   {
    "duration": 0,
    "start_time": "2024-07-09T23:15:44.434Z"
   },
   {
    "duration": 0,
    "start_time": "2024-07-09T23:15:44.437Z"
   },
   {
    "duration": 0,
    "start_time": "2024-07-09T23:15:44.439Z"
   },
   {
    "duration": 0,
    "start_time": "2024-07-09T23:15:44.442Z"
   },
   {
    "duration": 0,
    "start_time": "2024-07-09T23:15:44.502Z"
   },
   {
    "duration": 0,
    "start_time": "2024-07-09T23:15:44.505Z"
   },
   {
    "duration": 0,
    "start_time": "2024-07-09T23:15:44.508Z"
   },
   {
    "duration": 0,
    "start_time": "2024-07-09T23:15:44.510Z"
   },
   {
    "duration": 0,
    "start_time": "2024-07-09T23:15:44.513Z"
   },
   {
    "duration": 0,
    "start_time": "2024-07-09T23:15:44.515Z"
   },
   {
    "duration": 1,
    "start_time": "2024-07-09T23:15:44.517Z"
   },
   {
    "duration": 0,
    "start_time": "2024-07-09T23:15:44.520Z"
   },
   {
    "duration": 0,
    "start_time": "2024-07-09T23:15:44.524Z"
   },
   {
    "duration": 0,
    "start_time": "2024-07-09T23:15:44.526Z"
   },
   {
    "duration": 0,
    "start_time": "2024-07-09T23:15:44.529Z"
   },
   {
    "duration": 0,
    "start_time": "2024-07-09T23:15:44.532Z"
   },
   {
    "duration": 0,
    "start_time": "2024-07-09T23:15:44.534Z"
   },
   {
    "duration": 0,
    "start_time": "2024-07-09T23:15:44.537Z"
   },
   {
    "duration": 0,
    "start_time": "2024-07-09T23:15:44.540Z"
   },
   {
    "duration": 0,
    "start_time": "2024-07-09T23:15:44.543Z"
   },
   {
    "duration": 0,
    "start_time": "2024-07-09T23:15:44.602Z"
   },
   {
    "duration": 0,
    "start_time": "2024-07-09T23:15:44.604Z"
   },
   {
    "duration": 0,
    "start_time": "2024-07-09T23:15:44.608Z"
   },
   {
    "duration": 0,
    "start_time": "2024-07-09T23:15:44.613Z"
   },
   {
    "duration": 0,
    "start_time": "2024-07-09T23:15:44.615Z"
   },
   {
    "duration": 0,
    "start_time": "2024-07-09T23:15:44.618Z"
   },
   {
    "duration": 0,
    "start_time": "2024-07-09T23:15:44.621Z"
   },
   {
    "duration": 227,
    "start_time": "2024-07-09T23:16:30.229Z"
   },
   {
    "duration": 173,
    "start_time": "2024-07-09T23:17:32.067Z"
   },
   {
    "duration": 26,
    "start_time": "2024-07-09T23:17:45.274Z"
   },
   {
    "duration": 19,
    "start_time": "2024-07-09T23:21:31.383Z"
   },
   {
    "duration": 186,
    "start_time": "2024-07-09T23:27:53.256Z"
   },
   {
    "duration": 163,
    "start_time": "2024-07-09T23:27:58.324Z"
   },
   {
    "duration": 91,
    "start_time": "2024-07-09T23:28:01.578Z"
   },
   {
    "duration": 32,
    "start_time": "2024-07-09T23:28:17.281Z"
   },
   {
    "duration": 9,
    "start_time": "2024-07-09T23:28:21.724Z"
   },
   {
    "duration": 42,
    "start_time": "2024-07-09T23:28:26.585Z"
   },
   {
    "duration": 47,
    "start_time": "2024-07-09T23:28:43.617Z"
   },
   {
    "duration": 9,
    "start_time": "2024-07-09T23:29:19.138Z"
   },
   {
    "duration": 13,
    "start_time": "2024-07-09T23:29:23.034Z"
   },
   {
    "duration": 10,
    "start_time": "2024-07-09T23:29:44.319Z"
   },
   {
    "duration": 12,
    "start_time": "2024-07-09T23:29:49.467Z"
   },
   {
    "duration": 1345,
    "start_time": "2024-07-09T23:29:54.532Z"
   },
   {
    "duration": 1156,
    "start_time": "2024-07-09T23:29:59.761Z"
   },
   {
    "duration": 20,
    "start_time": "2024-07-09T23:30:20.765Z"
   },
   {
    "duration": 12,
    "start_time": "2024-07-09T23:45:08.990Z"
   },
   {
    "duration": 13,
    "start_time": "2024-07-09T23:45:20.745Z"
   },
   {
    "duration": 338,
    "start_time": "2024-07-09T23:59:30.063Z"
   },
   {
    "duration": 672,
    "start_time": "2024-07-10T00:00:32.478Z"
   },
   {
    "duration": 6,
    "start_time": "2024-07-10T00:01:00.379Z"
   },
   {
    "duration": 57,
    "start_time": "2024-07-10T00:01:28.716Z"
   },
   {
    "duration": 14,
    "start_time": "2024-07-10T00:02:24.516Z"
   },
   {
    "duration": 56,
    "start_time": "2024-07-10T00:03:20.065Z"
   },
   {
    "duration": 6,
    "start_time": "2024-07-10T00:03:55.112Z"
   },
   {
    "duration": 25,
    "start_time": "2024-07-10T00:07:49.115Z"
   },
   {
    "duration": 14,
    "start_time": "2024-07-10T00:08:20.627Z"
   },
   {
    "duration": 14,
    "start_time": "2024-07-10T00:41:41.919Z"
   },
   {
    "duration": 6,
    "start_time": "2024-07-10T00:42:25.253Z"
   },
   {
    "duration": 325,
    "start_time": "2024-07-10T00:42:45.559Z"
   },
   {
    "duration": 21,
    "start_time": "2024-07-10T00:43:15.929Z"
   },
   {
    "duration": 26,
    "start_time": "2024-07-10T00:43:39.837Z"
   },
   {
    "duration": 445,
    "start_time": "2024-07-10T00:43:54.386Z"
   },
   {
    "duration": 1705,
    "start_time": "2024-07-10T00:43:54.834Z"
   },
   {
    "duration": 17,
    "start_time": "2024-07-10T00:43:56.542Z"
   },
   {
    "duration": 16,
    "start_time": "2024-07-10T00:43:56.563Z"
   },
   {
    "duration": 42,
    "start_time": "2024-07-10T00:43:56.582Z"
   },
   {
    "duration": 14,
    "start_time": "2024-07-10T00:43:56.627Z"
   },
   {
    "duration": 40,
    "start_time": "2024-07-10T00:43:56.645Z"
   },
   {
    "duration": 189,
    "start_time": "2024-07-10T00:43:56.722Z"
   },
   {
    "duration": 166,
    "start_time": "2024-07-10T00:43:56.915Z"
   },
   {
    "duration": 19,
    "start_time": "2024-07-10T00:43:57.086Z"
   },
   {
    "duration": 192,
    "start_time": "2024-07-10T00:43:57.108Z"
   },
   {
    "duration": 191,
    "start_time": "2024-07-10T00:43:57.303Z"
   },
   {
    "duration": 117,
    "start_time": "2024-07-10T00:43:57.497Z"
   },
   {
    "duration": 36,
    "start_time": "2024-07-10T00:43:57.618Z"
   },
   {
    "duration": 12,
    "start_time": "2024-07-10T00:43:57.657Z"
   },
   {
    "duration": 77,
    "start_time": "2024-07-10T00:43:57.673Z"
   },
   {
    "duration": 52,
    "start_time": "2024-07-10T00:43:57.753Z"
   },
   {
    "duration": 23,
    "start_time": "2024-07-10T00:43:57.807Z"
   },
   {
    "duration": 17,
    "start_time": "2024-07-10T00:43:57.834Z"
   },
   {
    "duration": 12,
    "start_time": "2024-07-10T00:43:57.857Z"
   },
   {
    "duration": 51,
    "start_time": "2024-07-10T00:43:57.872Z"
   },
   {
    "duration": 1327,
    "start_time": "2024-07-10T00:43:57.926Z"
   },
   {
    "duration": 1191,
    "start_time": "2024-07-10T00:43:59.255Z"
   },
   {
    "duration": 20,
    "start_time": "2024-07-10T00:44:00.449Z"
   },
   {
    "duration": 12,
    "start_time": "2024-07-10T00:44:00.472Z"
   },
   {
    "duration": 15,
    "start_time": "2024-07-10T00:44:00.522Z"
   },
   {
    "duration": 12,
    "start_time": "2024-07-10T00:44:00.541Z"
   },
   {
    "duration": 13,
    "start_time": "2024-07-10T00:44:00.562Z"
   },
   {
    "duration": 47,
    "start_time": "2024-07-10T00:44:00.578Z"
   },
   {
    "duration": 5,
    "start_time": "2024-07-10T00:44:00.628Z"
   },
   {
    "duration": 32,
    "start_time": "2024-07-10T00:44:00.636Z"
   },
   {
    "duration": 62,
    "start_time": "2024-07-10T00:44:00.671Z"
   },
   {
    "duration": 28,
    "start_time": "2024-07-10T00:44:00.737Z"
   },
   {
    "duration": 19,
    "start_time": "2024-07-10T00:44:00.768Z"
   },
   {
    "duration": 153,
    "start_time": "2024-07-10T00:44:00.790Z"
   },
   {
    "duration": 78,
    "start_time": "2024-07-10T00:44:00.946Z"
   },
   {
    "duration": 10,
    "start_time": "2024-07-10T00:44:01.027Z"
   },
   {
    "duration": 4233,
    "start_time": "2024-07-10T00:44:01.041Z"
   },
   {
    "duration": 217,
    "start_time": "2024-07-10T00:44:05.276Z"
   },
   {
    "duration": 303,
    "start_time": "2024-07-10T00:44:05.495Z"
   },
   {
    "duration": 322,
    "start_time": "2024-07-10T00:44:05.801Z"
   },
   {
    "duration": 208,
    "start_time": "2024-07-10T00:44:06.126Z"
   },
   {
    "duration": 342,
    "start_time": "2024-07-10T00:44:06.336Z"
   },
   {
    "duration": 9,
    "start_time": "2024-07-10T00:44:06.682Z"
   },
   {
    "duration": 29,
    "start_time": "2024-07-10T00:44:06.694Z"
   },
   {
    "duration": 317,
    "start_time": "2024-07-10T00:44:06.726Z"
   },
   {
    "duration": 299,
    "start_time": "2024-07-10T00:44:07.046Z"
   },
   {
    "duration": 275,
    "start_time": "2024-07-10T00:44:07.348Z"
   },
   {
    "duration": 176,
    "start_time": "2024-07-10T00:44:07.626Z"
   },
   {
    "duration": 5,
    "start_time": "2024-07-10T00:44:07.805Z"
   },
   {
    "duration": 8,
    "start_time": "2024-07-10T00:44:07.824Z"
   },
   {
    "duration": 809,
    "start_time": "2024-07-10T00:44:07.837Z"
   },
   {
    "duration": 251,
    "start_time": "2024-07-10T00:44:08.649Z"
   },
   {
    "duration": 183,
    "start_time": "2024-07-10T00:44:08.904Z"
   },
   {
    "duration": 1449,
    "start_time": "2024-07-10T00:44:09.090Z"
   },
   {
    "duration": 48,
    "start_time": "2024-07-10T00:44:10.542Z"
   },
   {
    "duration": 3,
    "start_time": "2024-07-10T00:44:23.433Z"
   },
   {
    "duration": 1477,
    "start_time": "2024-07-10T00:44:26.591Z"
   },
   {
    "duration": 16,
    "start_time": "2024-07-10T00:44:31.032Z"
   },
   {
    "duration": 15,
    "start_time": "2024-07-10T00:44:33.211Z"
   },
   {
    "duration": 15,
    "start_time": "2024-07-10T00:44:34.069Z"
   },
   {
    "duration": 16,
    "start_time": "2024-07-10T00:44:35.218Z"
   },
   {
    "duration": 35,
    "start_time": "2024-07-10T00:44:36.097Z"
   },
   {
    "duration": 148,
    "start_time": "2024-07-10T00:44:44.193Z"
   },
   {
    "duration": 18,
    "start_time": "2024-07-10T00:44:49.955Z"
   },
   {
    "duration": 155,
    "start_time": "2024-07-10T00:44:55.028Z"
   },
   {
    "duration": 179,
    "start_time": "2024-07-10T00:44:57.861Z"
   },
   {
    "duration": 90,
    "start_time": "2024-07-10T00:45:01.870Z"
   },
   {
    "duration": 25,
    "start_time": "2024-07-10T00:45:05.622Z"
   },
   {
    "duration": 9,
    "start_time": "2024-07-10T00:45:08.419Z"
   },
   {
    "duration": 40,
    "start_time": "2024-07-10T00:45:11.997Z"
   },
   {
    "duration": 42,
    "start_time": "2024-07-10T00:45:15.889Z"
   },
   {
    "duration": 9,
    "start_time": "2024-07-10T00:45:20.158Z"
   },
   {
    "duration": 12,
    "start_time": "2024-07-10T00:45:22.690Z"
   },
   {
    "duration": 18,
    "start_time": "2024-07-10T00:45:25.209Z"
   },
   {
    "duration": 10,
    "start_time": "2024-07-10T00:45:27.842Z"
   },
   {
    "duration": 1419,
    "start_time": "2024-07-10T00:45:30.868Z"
   },
   {
    "duration": 1132,
    "start_time": "2024-07-10T00:45:34.866Z"
   },
   {
    "duration": 22,
    "start_time": "2024-07-10T00:45:39.720Z"
   },
   {
    "duration": 13,
    "start_time": "2024-07-10T00:45:43.648Z"
   },
   {
    "duration": 12,
    "start_time": "2024-07-10T00:45:49.112Z"
   },
   {
    "duration": 11,
    "start_time": "2024-07-10T00:45:52.587Z"
   },
   {
    "duration": 5,
    "start_time": "2024-07-10T00:56:23.816Z"
   },
   {
    "duration": 7,
    "start_time": "2024-07-10T00:57:23.849Z"
   },
   {
    "duration": 11,
    "start_time": "2024-07-10T00:58:40.441Z"
   },
   {
    "duration": 15,
    "start_time": "2024-07-10T01:00:05.666Z"
   },
   {
    "duration": 11,
    "start_time": "2024-07-10T01:01:02.906Z"
   },
   {
    "duration": 1268,
    "start_time": "2024-07-10T01:01:40.990Z"
   },
   {
    "duration": 53,
    "start_time": "2024-07-10T01:04:27.184Z"
   },
   {
    "duration": 52,
    "start_time": "2024-07-10T01:16:10.675Z"
   },
   {
    "duration": 19,
    "start_time": "2024-07-10T01:27:38.058Z"
   },
   {
    "duration": 9,
    "start_time": "2024-07-10T01:27:42.869Z"
   },
   {
    "duration": 10,
    "start_time": "2024-07-10T01:28:27.533Z"
   },
   {
    "duration": 11,
    "start_time": "2024-07-10T01:28:35.100Z"
   },
   {
    "duration": 19,
    "start_time": "2024-07-10T01:39:26.414Z"
   },
   {
    "duration": 64,
    "start_time": "2024-07-10T01:39:49.743Z"
   },
   {
    "duration": 8,
    "start_time": "2024-07-10T01:47:38.214Z"
   },
   {
    "duration": 10,
    "start_time": "2024-07-10T01:53:22.225Z"
   },
   {
    "duration": 11,
    "start_time": "2024-07-10T01:54:13.462Z"
   },
   {
    "duration": 185,
    "start_time": "2024-07-10T02:04:11.250Z"
   },
   {
    "duration": 102,
    "start_time": "2024-07-10T02:05:50.836Z"
   },
   {
    "duration": 6,
    "start_time": "2024-07-10T02:18:29.955Z"
   },
   {
    "duration": 11,
    "start_time": "2024-07-10T02:19:03.006Z"
   },
   {
    "duration": 14,
    "start_time": "2024-07-10T02:28:31.210Z"
   },
   {
    "duration": 104,
    "start_time": "2024-07-10T02:30:07.632Z"
   },
   {
    "duration": 23,
    "start_time": "2024-07-10T02:39:14.408Z"
   },
   {
    "duration": 4,
    "start_time": "2024-07-10T02:40:02.113Z"
   },
   {
    "duration": 1427,
    "start_time": "2024-07-10T02:40:03.837Z"
   },
   {
    "duration": 533,
    "start_time": "2024-07-10T02:40:27.023Z"
   },
   {
    "duration": 21,
    "start_time": "2024-07-10T02:47:35.093Z"
   },
   {
    "duration": 14,
    "start_time": "2024-07-10T02:47:43.016Z"
   },
   {
    "duration": 547,
    "start_time": "2024-07-10T02:47:50.626Z"
   },
   {
    "duration": 14,
    "start_time": "2024-07-10T02:48:34.550Z"
   },
   {
    "duration": 522,
    "start_time": "2024-07-10T02:49:25.069Z"
   },
   {
    "duration": 14,
    "start_time": "2024-07-10T02:57:09.107Z"
   },
   {
    "duration": 7,
    "start_time": "2024-07-10T02:57:41.067Z"
   },
   {
    "duration": 7,
    "start_time": "2024-07-10T02:58:56.472Z"
   },
   {
    "duration": 7,
    "start_time": "2024-07-10T03:01:32.688Z"
   },
   {
    "duration": 526,
    "start_time": "2024-07-10T03:02:32.037Z"
   },
   {
    "duration": 552,
    "start_time": "2024-07-10T03:08:00.248Z"
   },
   {
    "duration": 47,
    "start_time": "2024-07-10T03:11:10.006Z"
   },
   {
    "duration": 14,
    "start_time": "2024-07-10T03:25:24.436Z"
   },
   {
    "duration": 7,
    "start_time": "2024-07-10T03:27:14.707Z"
   },
   {
    "duration": 6,
    "start_time": "2024-07-10T03:27:49.015Z"
   },
   {
    "duration": 338,
    "start_time": "2024-07-10T03:28:03.330Z"
   },
   {
    "duration": 47,
    "start_time": "2024-07-10T03:36:23.966Z"
   },
   {
    "duration": 213,
    "start_time": "2024-07-10T03:39:53.626Z"
   },
   {
    "duration": 229,
    "start_time": "2024-07-10T03:40:56.300Z"
   },
   {
    "duration": 240,
    "start_time": "2024-07-10T03:41:14.777Z"
   },
   {
    "duration": 207,
    "start_time": "2024-07-10T03:41:24.326Z"
   },
   {
    "duration": 18,
    "start_time": "2024-07-10T03:50:37.980Z"
   },
   {
    "duration": 10,
    "start_time": "2024-07-10T03:52:39.523Z"
   },
   {
    "duration": 10,
    "start_time": "2024-07-10T03:52:43.524Z"
   },
   {
    "duration": 129,
    "start_time": "2024-07-10T04:04:04.760Z"
   },
   {
    "duration": 7,
    "start_time": "2024-07-10T04:05:28.159Z"
   },
   {
    "duration": 6,
    "start_time": "2024-07-10T04:05:48.998Z"
   },
   {
    "duration": 6,
    "start_time": "2024-07-10T04:06:07.539Z"
   },
   {
    "duration": 23,
    "start_time": "2024-07-10T04:06:38.076Z"
   },
   {
    "duration": 24,
    "start_time": "2024-07-10T04:08:36.911Z"
   },
   {
    "duration": 23,
    "start_time": "2024-07-10T04:09:24.202Z"
   },
   {
    "duration": 10,
    "start_time": "2024-07-10T04:09:35.991Z"
   },
   {
    "duration": 10,
    "start_time": "2024-07-10T04:09:38.016Z"
   },
   {
    "duration": 381,
    "start_time": "2024-07-10T04:09:39.920Z"
   },
   {
    "duration": 11,
    "start_time": "2024-07-10T04:10:58.692Z"
   },
   {
    "duration": 13,
    "start_time": "2024-07-10T04:11:00.912Z"
   },
   {
    "duration": 11,
    "start_time": "2024-07-10T04:11:17.269Z"
   },
   {
    "duration": 443,
    "start_time": "2024-07-10T04:12:45.732Z"
   },
   {
    "duration": 9,
    "start_time": "2024-07-10T04:23:48.285Z"
   },
   {
    "duration": 9,
    "start_time": "2024-07-10T04:23:51.025Z"
   },
   {
    "duration": 193,
    "start_time": "2024-07-10T04:29:36.985Z"
   },
   {
    "duration": 194,
    "start_time": "2024-07-10T04:29:41.112Z"
   },
   {
    "duration": 195,
    "start_time": "2024-07-10T04:30:42.591Z"
   },
   {
    "duration": 47,
    "start_time": "2024-07-10T04:31:54.675Z"
   },
   {
    "duration": 448,
    "start_time": "2024-07-10T04:35:07.578Z"
   },
   {
    "duration": 1537,
    "start_time": "2024-07-10T04:35:08.030Z"
   },
   {
    "duration": 18,
    "start_time": "2024-07-10T04:35:09.569Z"
   },
   {
    "duration": 35,
    "start_time": "2024-07-10T04:35:09.591Z"
   },
   {
    "duration": 15,
    "start_time": "2024-07-10T04:35:09.629Z"
   },
   {
    "duration": 14,
    "start_time": "2024-07-10T04:35:09.648Z"
   },
   {
    "duration": 86,
    "start_time": "2024-07-10T04:35:09.665Z"
   },
   {
    "duration": 209,
    "start_time": "2024-07-10T04:35:09.753Z"
   },
   {
    "duration": 169,
    "start_time": "2024-07-10T04:35:09.964Z"
   },
   {
    "duration": 20,
    "start_time": "2024-07-10T04:35:10.139Z"
   },
   {
    "duration": 197,
    "start_time": "2024-07-10T04:35:10.162Z"
   },
   {
    "duration": 190,
    "start_time": "2024-07-10T04:35:10.362Z"
   },
   {
    "duration": 101,
    "start_time": "2024-07-10T04:35:10.555Z"
   },
   {
    "duration": 25,
    "start_time": "2024-07-10T04:35:10.659Z"
   },
   {
    "duration": 35,
    "start_time": "2024-07-10T04:35:10.689Z"
   },
   {
    "duration": 39,
    "start_time": "2024-07-10T04:35:10.727Z"
   },
   {
    "duration": 65,
    "start_time": "2024-07-10T04:35:10.769Z"
   },
   {
    "duration": 9,
    "start_time": "2024-07-10T04:35:10.837Z"
   },
   {
    "duration": 13,
    "start_time": "2024-07-10T04:35:10.850Z"
   },
   {
    "duration": 9,
    "start_time": "2024-07-10T04:35:10.866Z"
   },
   {
    "duration": 50,
    "start_time": "2024-07-10T04:35:10.878Z"
   },
   {
    "duration": 1354,
    "start_time": "2024-07-10T04:35:10.931Z"
   },
   {
    "duration": 1248,
    "start_time": "2024-07-10T04:35:12.288Z"
   },
   {
    "duration": 22,
    "start_time": "2024-07-10T04:35:13.540Z"
   },
   {
    "duration": 12,
    "start_time": "2024-07-10T04:35:13.566Z"
   },
   {
    "duration": 47,
    "start_time": "2024-07-10T04:35:13.581Z"
   },
   {
    "duration": 12,
    "start_time": "2024-07-10T04:35:13.631Z"
   },
   {
    "duration": 14,
    "start_time": "2024-07-10T04:35:13.652Z"
   },
   {
    "duration": 56,
    "start_time": "2024-07-10T04:35:13.670Z"
   },
   {
    "duration": 15,
    "start_time": "2024-07-10T04:35:13.731Z"
   },
   {
    "duration": 84,
    "start_time": "2024-07-10T04:35:13.756Z"
   },
   {
    "duration": 33,
    "start_time": "2024-07-10T04:35:13.844Z"
   },
   {
    "duration": 56,
    "start_time": "2024-07-10T04:35:13.884Z"
   },
   {
    "duration": 28,
    "start_time": "2024-07-10T04:35:13.947Z"
   },
   {
    "duration": 571,
    "start_time": "2024-07-10T04:35:13.978Z"
   },
   {
    "duration": 123,
    "start_time": "2024-07-10T04:35:14.552Z"
   },
   {
    "duration": 605,
    "start_time": "2024-07-10T04:35:14.678Z"
   },
   {
    "duration": 13,
    "start_time": "2024-07-10T04:35:15.287Z"
   },
   {
    "duration": 78,
    "start_time": "2024-07-10T04:35:15.303Z"
   },
   {
    "duration": 64,
    "start_time": "2024-07-10T04:35:15.383Z"
   },
   {
    "duration": 642,
    "start_time": "2024-07-10T04:35:15.450Z"
   },
   {
    "duration": 228,
    "start_time": "2024-07-10T04:35:16.096Z"
   },
   {
    "duration": 298,
    "start_time": "2024-07-10T04:35:16.327Z"
   },
   {
    "duration": 12,
    "start_time": "2024-07-10T04:35:16.627Z"
   },
   {
    "duration": 11,
    "start_time": "2024-07-10T04:35:16.645Z"
   },
   {
    "duration": 423,
    "start_time": "2024-07-10T04:35:16.663Z"
   },
   {
    "duration": 234,
    "start_time": "2024-07-10T04:35:17.090Z"
   },
   {
    "duration": 379,
    "start_time": "2024-07-10T04:35:17.331Z"
   },
   {
    "duration": 18,
    "start_time": "2024-07-10T04:35:17.713Z"
   },
   {
    "duration": 16,
    "start_time": "2024-07-10T04:35:17.734Z"
   },
   {
    "duration": 442,
    "start_time": "2024-07-10T04:35:17.753Z"
   },
   {
    "duration": 294,
    "start_time": "2024-07-10T04:35:18.198Z"
   },
   {
    "duration": 168,
    "start_time": "2024-07-10T04:35:18.495Z"
   },
   {
    "duration": 5,
    "start_time": "2024-07-10T04:35:18.666Z"
   },
   {
    "duration": 9,
    "start_time": "2024-07-10T04:35:18.674Z"
   },
   {
    "duration": 816,
    "start_time": "2024-07-10T04:35:18.686Z"
   },
   {
    "duration": 278,
    "start_time": "2024-07-10T04:35:19.506Z"
   },
   {
    "duration": 244,
    "start_time": "2024-07-10T04:35:19.788Z"
   },
   {
    "duration": 1454,
    "start_time": "2024-07-10T04:35:20.035Z"
   },
   {
    "duration": 65,
    "start_time": "2024-07-10T04:35:21.493Z"
   },
   {
    "duration": 177,
    "start_time": "2024-07-10T04:36:45.533Z"
   },
   {
    "duration": 464,
    "start_time": "2024-07-10T13:43:30.870Z"
   },
   {
    "duration": 1962,
    "start_time": "2024-07-10T13:43:31.338Z"
   },
   {
    "duration": 22,
    "start_time": "2024-07-10T13:43:33.304Z"
   },
   {
    "duration": 16,
    "start_time": "2024-07-10T13:43:33.330Z"
   },
   {
    "duration": 15,
    "start_time": "2024-07-10T13:43:33.349Z"
   },
   {
    "duration": 13,
    "start_time": "2024-07-10T13:43:33.367Z"
   },
   {
    "duration": 41,
    "start_time": "2024-07-10T13:43:33.424Z"
   },
   {
    "duration": 212,
    "start_time": "2024-07-10T13:43:33.468Z"
   },
   {
    "duration": 201,
    "start_time": "2024-07-10T13:43:33.683Z"
   },
   {
    "duration": 32,
    "start_time": "2024-07-10T13:43:33.892Z"
   },
   {
    "duration": 178,
    "start_time": "2024-07-10T13:43:33.927Z"
   },
   {
    "duration": 168,
    "start_time": "2024-07-10T13:43:34.109Z"
   },
   {
    "duration": 113,
    "start_time": "2024-07-10T13:43:34.280Z"
   },
   {
    "duration": 37,
    "start_time": "2024-07-10T13:43:34.396Z"
   },
   {
    "duration": 9,
    "start_time": "2024-07-10T13:43:34.439Z"
   },
   {
    "duration": 37,
    "start_time": "2024-07-10T13:43:34.451Z"
   },
   {
    "duration": 73,
    "start_time": "2024-07-10T13:43:34.492Z"
   },
   {
    "duration": 10,
    "start_time": "2024-07-10T13:43:34.568Z"
   },
   {
    "duration": 43,
    "start_time": "2024-07-10T13:43:34.580Z"
   },
   {
    "duration": 10,
    "start_time": "2024-07-10T13:43:34.625Z"
   },
   {
    "duration": 10,
    "start_time": "2024-07-10T13:43:34.638Z"
   },
   {
    "duration": 1373,
    "start_time": "2024-07-10T13:43:34.651Z"
   },
   {
    "duration": 1161,
    "start_time": "2024-07-10T13:43:36.027Z"
   },
   {
    "duration": 34,
    "start_time": "2024-07-10T13:43:37.190Z"
   },
   {
    "duration": 12,
    "start_time": "2024-07-10T13:43:37.227Z"
   },
   {
    "duration": 12,
    "start_time": "2024-07-10T13:43:37.242Z"
   },
   {
    "duration": 11,
    "start_time": "2024-07-10T13:43:37.258Z"
   },
   {
    "duration": 56,
    "start_time": "2024-07-10T13:43:37.279Z"
   },
   {
    "duration": 12,
    "start_time": "2024-07-10T13:43:37.338Z"
   },
   {
    "duration": 11,
    "start_time": "2024-07-10T13:43:37.353Z"
   },
   {
    "duration": 73,
    "start_time": "2024-07-10T13:43:37.367Z"
   },
   {
    "duration": 28,
    "start_time": "2024-07-10T13:43:37.443Z"
   },
   {
    "duration": 56,
    "start_time": "2024-07-10T13:43:37.474Z"
   },
   {
    "duration": 23,
    "start_time": "2024-07-10T13:43:37.533Z"
   },
   {
    "duration": 554,
    "start_time": "2024-07-10T13:43:37.559Z"
   },
   {
    "duration": 111,
    "start_time": "2024-07-10T13:43:38.124Z"
   },
   {
    "duration": 601,
    "start_time": "2024-07-10T13:43:38.238Z"
   },
   {
    "duration": 13,
    "start_time": "2024-07-10T13:43:38.842Z"
   },
   {
    "duration": 90,
    "start_time": "2024-07-10T13:43:38.857Z"
   },
   {
    "duration": 44,
    "start_time": "2024-07-10T13:43:38.950Z"
   },
   {
    "duration": 4302,
    "start_time": "2024-07-10T13:43:38.998Z"
   },
   {
    "duration": 224,
    "start_time": "2024-07-10T13:43:43.303Z"
   },
   {
    "duration": 299,
    "start_time": "2024-07-10T13:43:43.530Z"
   },
   {
    "duration": 9,
    "start_time": "2024-07-10T13:43:43.832Z"
   },
   {
    "duration": 9,
    "start_time": "2024-07-10T13:43:43.844Z"
   },
   {
    "duration": 346,
    "start_time": "2024-07-10T13:43:43.856Z"
   },
   {
    "duration": 263,
    "start_time": "2024-07-10T13:43:44.205Z"
   },
   {
    "duration": 293,
    "start_time": "2024-07-10T13:43:44.471Z"
   },
   {
    "duration": 11,
    "start_time": "2024-07-10T13:43:44.767Z"
   },
   {
    "duration": 12,
    "start_time": "2024-07-10T13:43:44.780Z"
   },
   {
    "duration": 443,
    "start_time": "2024-07-10T13:43:44.795Z"
   },
   {
    "duration": 275,
    "start_time": "2024-07-10T13:43:45.241Z"
   },
   {
    "duration": 165,
    "start_time": "2024-07-10T13:43:45.524Z"
   },
   {
    "duration": 5,
    "start_time": "2024-07-10T13:43:45.692Z"
   },
   {
    "duration": 23,
    "start_time": "2024-07-10T13:43:45.700Z"
   },
   {
    "duration": 809,
    "start_time": "2024-07-10T13:43:45.727Z"
   },
   {
    "duration": 268,
    "start_time": "2024-07-10T13:43:46.540Z"
   },
   {
    "duration": 188,
    "start_time": "2024-07-10T13:43:46.811Z"
   },
   {
    "duration": 1451,
    "start_time": "2024-07-10T13:43:47.002Z"
   },
   {
    "duration": 50,
    "start_time": "2024-07-10T13:43:48.456Z"
   },
   {
    "duration": 9,
    "start_time": "2024-07-10T14:32:41.670Z"
   },
   {
    "duration": 296,
    "start_time": "2024-07-10T14:33:00.036Z"
   },
   {
    "duration": 374,
    "start_time": "2024-07-10T14:54:08.738Z"
   },
   {
    "duration": 14,
    "start_time": "2024-07-10T14:54:32.773Z"
   },
   {
    "duration": 50,
    "start_time": "2024-07-10T14:54:52.286Z"
   },
   {
    "duration": 9,
    "start_time": "2024-07-10T14:55:01.832Z"
   },
   {
    "duration": 354,
    "start_time": "2024-07-10T15:52:50.145Z"
   },
   {
    "duration": 292,
    "start_time": "2024-07-10T15:58:25.444Z"
   },
   {
    "duration": 268,
    "start_time": "2024-07-10T15:59:26.037Z"
   },
   {
    "duration": 296,
    "start_time": "2024-07-10T16:01:54.890Z"
   },
   {
    "duration": 294,
    "start_time": "2024-07-10T16:04:02.544Z"
   },
   {
    "duration": 395,
    "start_time": "2024-07-10T16:04:16.066Z"
   },
   {
    "duration": 77,
    "start_time": "2024-07-10T16:08:30.460Z"
   },
   {
    "duration": 377,
    "start_time": "2024-07-10T16:08:47.870Z"
   },
   {
    "duration": 309,
    "start_time": "2024-07-10T16:09:29.335Z"
   },
   {
    "duration": 315,
    "start_time": "2024-07-10T16:12:23.008Z"
   },
   {
    "duration": 308,
    "start_time": "2024-07-10T16:12:29.729Z"
   },
   {
    "duration": 366,
    "start_time": "2024-07-10T16:12:44.450Z"
   },
   {
    "duration": 279,
    "start_time": "2024-07-10T16:14:01.811Z"
   },
   {
    "duration": 307,
    "start_time": "2024-07-10T16:14:25.829Z"
   },
   {
    "duration": 179,
    "start_time": "2024-07-10T16:15:27.875Z"
   },
   {
    "duration": 193,
    "start_time": "2024-07-10T16:15:54.916Z"
   },
   {
    "duration": 177,
    "start_time": "2024-07-10T16:34:24.299Z"
   },
   {
    "duration": 152,
    "start_time": "2024-07-10T16:34:30.434Z"
   },
   {
    "duration": 149,
    "start_time": "2024-07-10T16:34:35.041Z"
   },
   {
    "duration": 155,
    "start_time": "2024-07-10T16:34:54.768Z"
   },
   {
    "duration": 178,
    "start_time": "2024-07-10T16:35:39.859Z"
   },
   {
    "duration": 178,
    "start_time": "2024-07-10T16:36:41.881Z"
   },
   {
    "duration": 154,
    "start_time": "2024-07-10T16:38:11.979Z"
   },
   {
    "duration": 164,
    "start_time": "2024-07-10T16:38:31.112Z"
   },
   {
    "duration": 168,
    "start_time": "2024-07-10T16:45:04.670Z"
   },
   {
    "duration": 22,
    "start_time": "2024-07-10T16:45:11.491Z"
   },
   {
    "duration": 28,
    "start_time": "2024-07-10T16:45:36.252Z"
   },
   {
    "duration": 31,
    "start_time": "2024-07-10T16:49:19.652Z"
   },
   {
    "duration": 153,
    "start_time": "2024-07-10T16:53:14.146Z"
   },
   {
    "duration": 6,
    "start_time": "2024-07-10T16:54:11.619Z"
   },
   {
    "duration": 157,
    "start_time": "2024-07-10T16:55:42.252Z"
   },
   {
    "duration": 9,
    "start_time": "2024-07-10T16:56:01.728Z"
   },
   {
    "duration": 8,
    "start_time": "2024-07-10T16:56:22.287Z"
   },
   {
    "duration": 174,
    "start_time": "2024-07-10T16:58:57.581Z"
   },
   {
    "duration": 6,
    "start_time": "2024-07-10T16:59:00.591Z"
   },
   {
    "duration": 155,
    "start_time": "2024-07-10T16:59:09.336Z"
   },
   {
    "duration": 5,
    "start_time": "2024-07-10T16:59:13.993Z"
   },
   {
    "duration": 176,
    "start_time": "2024-07-10T16:59:51.699Z"
   },
   {
    "duration": 6,
    "start_time": "2024-07-10T17:00:14.469Z"
   },
   {
    "duration": 8,
    "start_time": "2024-07-10T17:00:30.531Z"
   },
   {
    "duration": 712,
    "start_time": "2024-07-10T17:03:36.647Z"
   },
   {
    "duration": 104,
    "start_time": "2024-07-10T17:06:55.438Z"
   },
   {
    "duration": 187,
    "start_time": "2024-07-10T17:07:41.142Z"
   },
   {
    "duration": 7,
    "start_time": "2024-07-10T17:08:01.147Z"
   },
   {
    "duration": 207,
    "start_time": "2024-07-10T17:08:48.255Z"
   },
   {
    "duration": 23,
    "start_time": "2024-07-10T17:08:54.055Z"
   },
   {
    "duration": 27,
    "start_time": "2024-07-10T17:09:03.811Z"
   },
   {
    "duration": 194,
    "start_time": "2024-07-10T17:09:14.936Z"
   },
   {
    "duration": 8,
    "start_time": "2024-07-10T17:09:24.274Z"
   },
   {
    "duration": 12,
    "start_time": "2024-07-10T17:10:27.420Z"
   },
   {
    "duration": 990,
    "start_time": "2024-07-10T17:21:40.948Z"
   },
   {
    "duration": 163,
    "start_time": "2024-07-10T17:21:45.228Z"
   },
   {
    "duration": 124,
    "start_time": "2024-07-10T17:21:54.804Z"
   },
   {
    "duration": 17,
    "start_time": "2024-07-10T17:21:59.093Z"
   },
   {
    "duration": 49,
    "start_time": "2024-07-10T17:23:22.315Z"
   },
   {
    "duration": 55,
    "start_time": "2024-07-10T17:23:51.942Z"
   },
   {
    "duration": 1554,
    "start_time": "2024-07-10T17:27:14.794Z"
   },
   {
    "duration": 33,
    "start_time": "2024-07-10T17:27:54.217Z"
   },
   {
    "duration": 32,
    "start_time": "2024-07-10T17:28:01.195Z"
   },
   {
    "duration": 1556,
    "start_time": "2024-07-10T17:30:25.457Z"
   },
   {
    "duration": 34,
    "start_time": "2024-07-10T17:30:31.087Z"
   },
   {
    "duration": 23,
    "start_time": "2024-07-10T17:40:13.557Z"
   },
   {
    "duration": 26,
    "start_time": "2024-07-10T17:40:21.656Z"
   },
   {
    "duration": 380,
    "start_time": "2024-07-10T17:40:25.926Z"
   },
   {
    "duration": 50,
    "start_time": "2024-07-10T17:40:27.827Z"
   },
   {
    "duration": 13,
    "start_time": "2024-07-10T17:40:31.118Z"
   },
   {
    "duration": 41,
    "start_time": "2024-07-10T17:42:21.710Z"
   },
   {
    "duration": 14,
    "start_time": "2024-07-10T17:42:23.682Z"
   },
   {
    "duration": 495,
    "start_time": "2024-07-10T18:32:33.465Z"
   },
   {
    "duration": 1544,
    "start_time": "2024-07-10T18:32:33.964Z"
   },
   {
    "duration": 21,
    "start_time": "2024-07-10T18:32:35.511Z"
   },
   {
    "duration": 18,
    "start_time": "2024-07-10T18:32:35.537Z"
   },
   {
    "duration": 13,
    "start_time": "2024-07-10T18:32:35.558Z"
   },
   {
    "duration": 55,
    "start_time": "2024-07-10T18:32:35.574Z"
   },
   {
    "duration": 43,
    "start_time": "2024-07-10T18:32:35.633Z"
   },
   {
    "duration": 209,
    "start_time": "2024-07-10T18:32:35.682Z"
   },
   {
    "duration": 168,
    "start_time": "2024-07-10T18:32:35.894Z"
   },
   {
    "duration": 23,
    "start_time": "2024-07-10T18:32:36.069Z"
   },
   {
    "duration": 210,
    "start_time": "2024-07-10T18:32:36.096Z"
   },
   {
    "duration": 166,
    "start_time": "2024-07-10T18:32:36.309Z"
   },
   {
    "duration": 99,
    "start_time": "2024-07-10T18:32:36.479Z"
   },
   {
    "duration": 26,
    "start_time": "2024-07-10T18:32:36.581Z"
   },
   {
    "duration": 12,
    "start_time": "2024-07-10T18:32:36.623Z"
   },
   {
    "duration": 39,
    "start_time": "2024-07-10T18:32:36.638Z"
   },
   {
    "duration": 71,
    "start_time": "2024-07-10T18:32:36.680Z"
   },
   {
    "duration": 10,
    "start_time": "2024-07-10T18:32:36.754Z"
   },
   {
    "duration": 12,
    "start_time": "2024-07-10T18:32:36.768Z"
   },
   {
    "duration": 42,
    "start_time": "2024-07-10T18:32:36.783Z"
   },
   {
    "duration": 11,
    "start_time": "2024-07-10T18:32:36.828Z"
   },
   {
    "duration": 1348,
    "start_time": "2024-07-10T18:32:36.842Z"
   },
   {
    "duration": 1170,
    "start_time": "2024-07-10T18:32:38.193Z"
   },
   {
    "duration": 18,
    "start_time": "2024-07-10T18:32:39.366Z"
   },
   {
    "duration": 36,
    "start_time": "2024-07-10T18:32:39.388Z"
   },
   {
    "duration": 14,
    "start_time": "2024-07-10T18:32:39.428Z"
   },
   {
    "duration": 12,
    "start_time": "2024-07-10T18:32:39.445Z"
   },
   {
    "duration": 56,
    "start_time": "2024-07-10T18:32:39.469Z"
   },
   {
    "duration": 12,
    "start_time": "2024-07-10T18:32:39.528Z"
   },
   {
    "duration": 11,
    "start_time": "2024-07-10T18:32:39.543Z"
   },
   {
    "duration": 67,
    "start_time": "2024-07-10T18:32:39.557Z"
   },
   {
    "duration": 29,
    "start_time": "2024-07-10T18:32:39.627Z"
   },
   {
    "duration": 30,
    "start_time": "2024-07-10T18:32:39.659Z"
   },
   {
    "duration": 29,
    "start_time": "2024-07-10T18:32:39.723Z"
   },
   {
    "duration": 555,
    "start_time": "2024-07-10T18:32:39.755Z"
   },
   {
    "duration": 115,
    "start_time": "2024-07-10T18:32:40.312Z"
   },
   {
    "duration": 626,
    "start_time": "2024-07-10T18:32:40.431Z"
   },
   {
    "duration": 14,
    "start_time": "2024-07-10T18:32:41.061Z"
   },
   {
    "duration": 94,
    "start_time": "2024-07-10T18:32:41.078Z"
   },
   {
    "duration": 615,
    "start_time": "2024-07-10T18:32:41.175Z"
   },
   {
    "duration": 68,
    "start_time": "2024-07-10T18:32:41.794Z"
   },
   {
    "duration": 337,
    "start_time": "2024-07-10T18:32:41.865Z"
   },
   {
    "duration": 224,
    "start_time": "2024-07-10T18:32:42.205Z"
   },
   {
    "duration": 295,
    "start_time": "2024-07-10T18:32:42.432Z"
   },
   {
    "duration": 9,
    "start_time": "2024-07-10T18:32:42.730Z"
   },
   {
    "duration": 10,
    "start_time": "2024-07-10T18:32:42.742Z"
   },
   {
    "duration": 12,
    "start_time": "2024-07-10T18:32:42.756Z"
   },
   {
    "duration": 60,
    "start_time": "2024-07-10T18:32:42.771Z"
   },
   {
    "duration": 427,
    "start_time": "2024-07-10T18:32:42.834Z"
   },
   {
    "duration": 325,
    "start_time": "2024-07-10T18:32:43.265Z"
   },
   {
    "duration": 6,
    "start_time": "2024-07-10T18:32:43.592Z"
   },
   {
    "duration": 0,
    "start_time": "2024-07-10T18:32:43.601Z"
   },
   {
    "duration": 0,
    "start_time": "2024-07-10T18:32:43.602Z"
   },
   {
    "duration": 0,
    "start_time": "2024-07-10T18:32:43.605Z"
   },
   {
    "duration": 0,
    "start_time": "2024-07-10T18:32:43.623Z"
   },
   {
    "duration": 0,
    "start_time": "2024-07-10T18:32:43.625Z"
   },
   {
    "duration": 0,
    "start_time": "2024-07-10T18:32:43.626Z"
   },
   {
    "duration": 0,
    "start_time": "2024-07-10T18:32:43.628Z"
   },
   {
    "duration": 0,
    "start_time": "2024-07-10T18:32:43.631Z"
   },
   {
    "duration": 0,
    "start_time": "2024-07-10T18:32:43.633Z"
   },
   {
    "duration": 0,
    "start_time": "2024-07-10T18:32:43.635Z"
   },
   {
    "duration": 0,
    "start_time": "2024-07-10T18:32:43.638Z"
   },
   {
    "duration": 0,
    "start_time": "2024-07-10T18:32:43.640Z"
   },
   {
    "duration": 0,
    "start_time": "2024-07-10T18:32:43.642Z"
   },
   {
    "duration": 0,
    "start_time": "2024-07-10T18:32:43.644Z"
   },
   {
    "duration": 0,
    "start_time": "2024-07-10T18:32:43.646Z"
   },
   {
    "duration": 329,
    "start_time": "2024-07-11T16:31:34.030Z"
   },
   {
    "duration": 493,
    "start_time": "2024-07-11T16:31:56.663Z"
   },
   {
    "duration": 1794,
    "start_time": "2024-07-11T16:31:57.160Z"
   },
   {
    "duration": 18,
    "start_time": "2024-07-11T16:31:58.958Z"
   },
   {
    "duration": 41,
    "start_time": "2024-07-11T16:31:58.982Z"
   },
   {
    "duration": 16,
    "start_time": "2024-07-11T16:31:59.028Z"
   },
   {
    "duration": 15,
    "start_time": "2024-07-11T16:31:59.048Z"
   },
   {
    "duration": 88,
    "start_time": "2024-07-11T16:31:59.067Z"
   },
   {
    "duration": 198,
    "start_time": "2024-07-11T16:31:59.160Z"
   },
   {
    "duration": 180,
    "start_time": "2024-07-11T16:31:59.361Z"
   },
   {
    "duration": 21,
    "start_time": "2024-07-11T16:31:59.547Z"
   },
   {
    "duration": 202,
    "start_time": "2024-07-11T16:31:59.571Z"
   },
   {
    "duration": 184,
    "start_time": "2024-07-11T16:31:59.776Z"
   },
   {
    "duration": 101,
    "start_time": "2024-07-11T16:31:59.966Z"
   },
   {
    "duration": 26,
    "start_time": "2024-07-11T16:32:00.070Z"
   },
   {
    "duration": 13,
    "start_time": "2024-07-11T16:32:00.112Z"
   },
   {
    "duration": 42,
    "start_time": "2024-07-11T16:32:00.128Z"
   },
   {
    "duration": 84,
    "start_time": "2024-07-11T16:32:00.174Z"
   },
   {
    "duration": 11,
    "start_time": "2024-07-11T16:32:00.262Z"
   },
   {
    "duration": 43,
    "start_time": "2024-07-11T16:32:00.277Z"
   },
   {
    "duration": 10,
    "start_time": "2024-07-11T16:32:00.324Z"
   },
   {
    "duration": 14,
    "start_time": "2024-07-11T16:32:00.338Z"
   },
   {
    "duration": 1540,
    "start_time": "2024-07-11T16:32:00.357Z"
   },
   {
    "duration": 1250,
    "start_time": "2024-07-11T16:32:01.901Z"
   },
   {
    "duration": 25,
    "start_time": "2024-07-11T16:32:03.156Z"
   },
   {
    "duration": 31,
    "start_time": "2024-07-11T16:32:03.184Z"
   },
   {
    "duration": 15,
    "start_time": "2024-07-11T16:32:03.219Z"
   },
   {
    "duration": 12,
    "start_time": "2024-07-11T16:32:03.237Z"
   },
   {
    "duration": 16,
    "start_time": "2024-07-11T16:32:03.260Z"
   },
   {
    "duration": 18,
    "start_time": "2024-07-11T16:32:03.321Z"
   },
   {
    "duration": 16,
    "start_time": "2024-07-11T16:32:03.342Z"
   },
   {
    "duration": 63,
    "start_time": "2024-07-11T16:32:03.364Z"
   },
   {
    "duration": 28,
    "start_time": "2024-07-11T16:32:03.431Z"
   },
   {
    "duration": 59,
    "start_time": "2024-07-11T16:32:03.462Z"
   },
   {
    "duration": 30,
    "start_time": "2024-07-11T16:32:03.524Z"
   },
   {
    "duration": 598,
    "start_time": "2024-07-11T16:32:03.561Z"
   },
   {
    "duration": 118,
    "start_time": "2024-07-11T16:32:04.162Z"
   },
   {
    "duration": 654,
    "start_time": "2024-07-11T16:32:04.286Z"
   },
   {
    "duration": 16,
    "start_time": "2024-07-11T16:32:04.943Z"
   },
   {
    "duration": 96,
    "start_time": "2024-07-11T16:32:04.962Z"
   },
   {
    "duration": 66,
    "start_time": "2024-07-11T16:32:09.656Z"
   },
   {
    "duration": 378,
    "start_time": "2024-07-11T16:32:09.726Z"
   },
   {
    "duration": 289,
    "start_time": "2024-07-11T16:32:10.107Z"
   },
   {
    "duration": 315,
    "start_time": "2024-07-11T16:32:10.401Z"
   },
   {
    "duration": 11,
    "start_time": "2024-07-11T16:32:10.719Z"
   },
   {
    "duration": 9,
    "start_time": "2024-07-11T16:32:10.737Z"
   },
   {
    "duration": 12,
    "start_time": "2024-07-11T16:32:10.750Z"
   },
   {
    "duration": 48,
    "start_time": "2024-07-11T16:32:10.765Z"
   },
   {
    "duration": 469,
    "start_time": "2024-07-11T16:32:10.816Z"
   },
   {
    "duration": 417,
    "start_time": "2024-07-11T16:32:11.288Z"
   },
   {
    "duration": 198,
    "start_time": "2024-07-11T16:32:11.714Z"
   },
   {
    "duration": 8,
    "start_time": "2024-07-11T16:32:11.915Z"
   },
   {
    "duration": 10,
    "start_time": "2024-07-11T16:32:11.927Z"
   },
   {
    "duration": 844,
    "start_time": "2024-07-11T16:32:11.940Z"
   },
   {
    "duration": 295,
    "start_time": "2024-07-11T16:32:12.787Z"
   },
   {
    "duration": 14,
    "start_time": "2024-07-11T16:32:13.085Z"
   },
   {
    "duration": 368,
    "start_time": "2024-07-11T16:32:13.116Z"
   },
   {
    "duration": 63,
    "start_time": "2024-07-11T16:32:13.488Z"
   },
   {
    "duration": 19,
    "start_time": "2024-07-11T16:32:13.554Z"
   },
   {
    "duration": 1684,
    "start_time": "2024-07-11T16:32:13.576Z"
   },
   {
    "duration": 39,
    "start_time": "2024-07-11T16:32:15.264Z"
   },
   {
    "duration": 998,
    "start_time": "2024-07-11T16:32:15.315Z"
   },
   {
    "duration": 160,
    "start_time": "2024-07-11T16:32:16.317Z"
   },
   {
    "duration": 35,
    "start_time": "2024-07-11T16:32:16.480Z"
   },
   {
    "duration": 9,
    "start_time": "2024-07-11T16:32:16.518Z"
   },
   {
    "duration": 0,
    "start_time": "2024-07-11T16:32:16.535Z"
   },
   {
    "duration": 257,
    "start_time": "2024-07-11T16:32:18.290Z"
   },
   {
    "duration": 666,
    "start_time": "2024-07-11T16:43:24.768Z"
   },
   {
    "duration": 1503,
    "start_time": "2024-07-11T16:43:25.438Z"
   },
   {
    "duration": 17,
    "start_time": "2024-07-11T16:43:26.944Z"
   },
   {
    "duration": 16,
    "start_time": "2024-07-11T16:43:26.967Z"
   },
   {
    "duration": 14,
    "start_time": "2024-07-11T16:43:27.013Z"
   },
   {
    "duration": 15,
    "start_time": "2024-07-11T16:43:27.030Z"
   },
   {
    "duration": 80,
    "start_time": "2024-07-11T16:43:27.048Z"
   },
   {
    "duration": 187,
    "start_time": "2024-07-11T16:43:27.132Z"
   },
   {
    "duration": 175,
    "start_time": "2024-07-11T16:43:27.325Z"
   },
   {
    "duration": 22,
    "start_time": "2024-07-11T16:43:27.513Z"
   },
   {
    "duration": 240,
    "start_time": "2024-07-11T16:43:27.538Z"
   },
   {
    "duration": 180,
    "start_time": "2024-07-11T16:43:27.780Z"
   },
   {
    "duration": 117,
    "start_time": "2024-07-11T16:43:27.963Z"
   },
   {
    "duration": 39,
    "start_time": "2024-07-11T16:43:28.085Z"
   },
   {
    "duration": 9,
    "start_time": "2024-07-11T16:43:28.127Z"
   },
   {
    "duration": 37,
    "start_time": "2024-07-11T16:43:28.139Z"
   },
   {
    "duration": 76,
    "start_time": "2024-07-11T16:43:28.179Z"
   },
   {
    "duration": 10,
    "start_time": "2024-07-11T16:43:28.258Z"
   },
   {
    "duration": 43,
    "start_time": "2024-07-11T16:43:28.271Z"
   },
   {
    "duration": 12,
    "start_time": "2024-07-11T16:43:28.317Z"
   },
   {
    "duration": 10,
    "start_time": "2024-07-11T16:43:28.332Z"
   },
   {
    "duration": 1395,
    "start_time": "2024-07-11T16:43:28.345Z"
   },
   {
    "duration": 1221,
    "start_time": "2024-07-11T16:43:29.743Z"
   },
   {
    "duration": 22,
    "start_time": "2024-07-11T16:43:30.970Z"
   },
   {
    "duration": 13,
    "start_time": "2024-07-11T16:43:31.012Z"
   },
   {
    "duration": 13,
    "start_time": "2024-07-11T16:43:31.027Z"
   },
   {
    "duration": 11,
    "start_time": "2024-07-11T16:43:31.044Z"
   },
   {
    "duration": 53,
    "start_time": "2024-07-11T16:43:31.064Z"
   },
   {
    "duration": 12,
    "start_time": "2024-07-11T16:43:31.120Z"
   },
   {
    "duration": 12,
    "start_time": "2024-07-11T16:43:31.134Z"
   },
   {
    "duration": 69,
    "start_time": "2024-07-11T16:43:31.149Z"
   },
   {
    "duration": 32,
    "start_time": "2024-07-11T16:43:31.221Z"
   },
   {
    "duration": 59,
    "start_time": "2024-07-11T16:43:31.256Z"
   },
   {
    "duration": 28,
    "start_time": "2024-07-11T16:43:31.319Z"
   },
   {
    "duration": 597,
    "start_time": "2024-07-11T16:43:31.350Z"
   },
   {
    "duration": 114,
    "start_time": "2024-07-11T16:43:31.950Z"
   },
   {
    "duration": 681,
    "start_time": "2024-07-11T16:43:32.067Z"
   },
   {
    "duration": 15,
    "start_time": "2024-07-11T16:43:32.751Z"
   },
   {
    "duration": 91,
    "start_time": "2024-07-11T16:43:32.769Z"
   },
   {
    "duration": 301,
    "start_time": "2024-07-11T16:43:32.863Z"
   },
   {
    "duration": 58,
    "start_time": "2024-07-11T16:43:33.167Z"
   },
   {
    "duration": 372,
    "start_time": "2024-07-11T16:43:33.228Z"
   },
   {
    "duration": 241,
    "start_time": "2024-07-11T16:43:33.603Z"
   },
   {
    "duration": 310,
    "start_time": "2024-07-11T16:43:33.847Z"
   },
   {
    "duration": 11,
    "start_time": "2024-07-11T16:43:34.161Z"
   },
   {
    "duration": 9,
    "start_time": "2024-07-11T16:43:34.175Z"
   },
   {
    "duration": 14,
    "start_time": "2024-07-11T16:43:34.214Z"
   },
   {
    "duration": 14,
    "start_time": "2024-07-11T16:43:34.231Z"
   },
   {
    "duration": 453,
    "start_time": "2024-07-11T16:43:34.248Z"
   },
   {
    "duration": 316,
    "start_time": "2024-07-11T16:43:34.705Z"
   },
   {
    "duration": 194,
    "start_time": "2024-07-11T16:43:35.026Z"
   },
   {
    "duration": 6,
    "start_time": "2024-07-11T16:43:35.223Z"
   },
   {
    "duration": 9,
    "start_time": "2024-07-11T16:43:35.232Z"
   },
   {
    "duration": 776,
    "start_time": "2024-07-11T16:43:35.244Z"
   },
   {
    "duration": 273,
    "start_time": "2024-07-11T16:43:36.023Z"
   },
   {
    "duration": 16,
    "start_time": "2024-07-11T16:43:36.300Z"
   },
   {
    "duration": 362,
    "start_time": "2024-07-11T16:43:36.319Z"
   },
   {
    "duration": 46,
    "start_time": "2024-07-11T16:43:36.684Z"
   },
   {
    "duration": 17,
    "start_time": "2024-07-11T16:43:36.733Z"
   },
   {
    "duration": 1634,
    "start_time": "2024-07-11T16:43:36.756Z"
   },
   {
    "duration": 38,
    "start_time": "2024-07-11T16:43:38.393Z"
   },
   {
    "duration": 1024,
    "start_time": "2024-07-11T16:43:38.434Z"
   },
   {
    "duration": 151,
    "start_time": "2024-07-11T16:43:39.461Z"
   },
   {
    "duration": 19,
    "start_time": "2024-07-11T16:43:39.614Z"
   },
   {
    "duration": 7,
    "start_time": "2024-07-11T16:43:39.635Z"
   },
   {
    "duration": 731,
    "start_time": "2024-07-11T16:46:46.802Z"
   },
   {
    "duration": 1511,
    "start_time": "2024-07-11T16:46:47.537Z"
   },
   {
    "duration": 19,
    "start_time": "2024-07-11T16:46:49.051Z"
   },
   {
    "duration": 17,
    "start_time": "2024-07-11T16:46:49.074Z"
   },
   {
    "duration": 17,
    "start_time": "2024-07-11T16:46:49.114Z"
   },
   {
    "duration": 16,
    "start_time": "2024-07-11T16:46:49.134Z"
   },
   {
    "duration": 90,
    "start_time": "2024-07-11T16:46:49.153Z"
   },
   {
    "duration": 217,
    "start_time": "2024-07-11T16:46:49.246Z"
   },
   {
    "duration": 173,
    "start_time": "2024-07-11T16:46:49.466Z"
   },
   {
    "duration": 19,
    "start_time": "2024-07-11T16:46:49.644Z"
   },
   {
    "duration": 196,
    "start_time": "2024-07-11T16:46:49.666Z"
   },
   {
    "duration": 218,
    "start_time": "2024-07-11T16:46:49.865Z"
   },
   {
    "duration": 103,
    "start_time": "2024-07-11T16:46:50.086Z"
   },
   {
    "duration": 38,
    "start_time": "2024-07-11T16:46:50.192Z"
   },
   {
    "duration": 10,
    "start_time": "2024-07-11T16:46:50.233Z"
   },
   {
    "duration": 39,
    "start_time": "2024-07-11T16:46:50.246Z"
   },
   {
    "duration": 46,
    "start_time": "2024-07-11T16:46:50.314Z"
   },
   {
    "duration": 12,
    "start_time": "2024-07-11T16:46:50.363Z"
   },
   {
    "duration": 40,
    "start_time": "2024-07-11T16:46:50.378Z"
   },
   {
    "duration": 10,
    "start_time": "2024-07-11T16:46:50.421Z"
   },
   {
    "duration": 10,
    "start_time": "2024-07-11T16:46:50.434Z"
   },
   {
    "duration": 1429,
    "start_time": "2024-07-11T16:46:50.451Z"
   },
   {
    "duration": 1297,
    "start_time": "2024-07-11T16:46:51.883Z"
   },
   {
    "duration": 30,
    "start_time": "2024-07-11T16:46:53.183Z"
   },
   {
    "duration": 14,
    "start_time": "2024-07-11T16:46:53.217Z"
   },
   {
    "duration": 13,
    "start_time": "2024-07-11T16:46:53.234Z"
   },
   {
    "duration": 12,
    "start_time": "2024-07-11T16:46:53.250Z"
   },
   {
    "duration": 18,
    "start_time": "2024-07-11T16:46:53.312Z"
   },
   {
    "duration": 12,
    "start_time": "2024-07-11T16:46:53.333Z"
   },
   {
    "duration": 12,
    "start_time": "2024-07-11T16:46:53.349Z"
   },
   {
    "duration": 74,
    "start_time": "2024-07-11T16:46:53.364Z"
   },
   {
    "duration": 29,
    "start_time": "2024-07-11T16:46:53.440Z"
   },
   {
    "duration": 53,
    "start_time": "2024-07-11T16:46:53.472Z"
   },
   {
    "duration": 24,
    "start_time": "2024-07-11T16:46:53.528Z"
   },
   {
    "duration": 614,
    "start_time": "2024-07-11T16:46:53.555Z"
   },
   {
    "duration": 113,
    "start_time": "2024-07-11T16:46:54.172Z"
   },
   {
    "duration": 644,
    "start_time": "2024-07-11T16:46:54.289Z"
   },
   {
    "duration": 14,
    "start_time": "2024-07-11T16:46:54.936Z"
   },
   {
    "duration": 99,
    "start_time": "2024-07-11T16:46:54.953Z"
   },
   {
    "duration": 283,
    "start_time": "2024-07-11T16:46:55.056Z"
   },
   {
    "duration": 6,
    "start_time": "2024-07-11T16:46:55.342Z"
   },
   {
    "duration": 63,
    "start_time": "2024-07-11T16:46:55.351Z"
   },
   {
    "duration": 346,
    "start_time": "2024-07-11T16:46:55.417Z"
   },
   {
    "duration": 225,
    "start_time": "2024-07-11T16:46:55.767Z"
   },
   {
    "duration": 320,
    "start_time": "2024-07-11T16:46:55.995Z"
   },
   {
    "duration": 10,
    "start_time": "2024-07-11T16:46:56.318Z"
   },
   {
    "duration": 9,
    "start_time": "2024-07-11T16:46:56.332Z"
   },
   {
    "duration": 12,
    "start_time": "2024-07-11T16:46:56.344Z"
   },
   {
    "duration": 53,
    "start_time": "2024-07-11T16:46:56.359Z"
   },
   {
    "duration": 448,
    "start_time": "2024-07-11T16:46:56.415Z"
   },
   {
    "duration": 319,
    "start_time": "2024-07-11T16:46:56.866Z"
   },
   {
    "duration": 202,
    "start_time": "2024-07-11T16:46:57.188Z"
   },
   {
    "duration": 19,
    "start_time": "2024-07-11T16:46:57.393Z"
   },
   {
    "duration": 8,
    "start_time": "2024-07-11T16:46:57.415Z"
   },
   {
    "duration": 750,
    "start_time": "2024-07-11T16:46:57.426Z"
   },
   {
    "duration": 274,
    "start_time": "2024-07-11T16:46:58.179Z"
   },
   {
    "duration": 11,
    "start_time": "2024-07-11T16:46:58.456Z"
   },
   {
    "duration": 361,
    "start_time": "2024-07-11T16:46:58.470Z"
   },
   {
    "duration": 39,
    "start_time": "2024-07-11T16:46:58.834Z"
   },
   {
    "duration": 38,
    "start_time": "2024-07-11T16:46:58.876Z"
   },
   {
    "duration": 1570,
    "start_time": "2024-07-11T16:46:58.917Z"
   },
   {
    "duration": 45,
    "start_time": "2024-07-11T16:47:00.490Z"
   },
   {
    "duration": 1014,
    "start_time": "2024-07-11T16:47:00.538Z"
   },
   {
    "duration": 159,
    "start_time": "2024-07-11T16:47:01.556Z"
   },
   {
    "duration": 20,
    "start_time": "2024-07-11T16:47:01.719Z"
   },
   {
    "duration": 8,
    "start_time": "2024-07-11T16:47:01.742Z"
   },
   {
    "duration": 707,
    "start_time": "2024-07-11T16:49:26.830Z"
   },
   {
    "duration": 1503,
    "start_time": "2024-07-11T16:49:27.543Z"
   },
   {
    "duration": 18,
    "start_time": "2024-07-11T16:49:29.050Z"
   },
   {
    "duration": 39,
    "start_time": "2024-07-11T16:49:29.073Z"
   },
   {
    "duration": 16,
    "start_time": "2024-07-11T16:49:29.116Z"
   },
   {
    "duration": 16,
    "start_time": "2024-07-11T16:49:29.135Z"
   },
   {
    "duration": 78,
    "start_time": "2024-07-11T16:49:29.155Z"
   },
   {
    "duration": 195,
    "start_time": "2024-07-11T16:49:29.237Z"
   },
   {
    "duration": 172,
    "start_time": "2024-07-11T16:49:29.435Z"
   },
   {
    "duration": 20,
    "start_time": "2024-07-11T16:49:29.611Z"
   },
   {
    "duration": 252,
    "start_time": "2024-07-11T16:49:29.633Z"
   },
   {
    "duration": 183,
    "start_time": "2024-07-11T16:49:29.888Z"
   },
   {
    "duration": 103,
    "start_time": "2024-07-11T16:49:30.073Z"
   },
   {
    "duration": 44,
    "start_time": "2024-07-11T16:49:30.178Z"
   },
   {
    "duration": 10,
    "start_time": "2024-07-11T16:49:30.226Z"
   },
   {
    "duration": 38,
    "start_time": "2024-07-11T16:49:30.239Z"
   },
   {
    "duration": 74,
    "start_time": "2024-07-11T16:49:30.279Z"
   },
   {
    "duration": 10,
    "start_time": "2024-07-11T16:49:30.356Z"
   },
   {
    "duration": 44,
    "start_time": "2024-07-11T16:49:30.370Z"
   },
   {
    "duration": 10,
    "start_time": "2024-07-11T16:49:30.416Z"
   },
   {
    "duration": 10,
    "start_time": "2024-07-11T16:49:30.430Z"
   },
   {
    "duration": 1420,
    "start_time": "2024-07-11T16:49:30.443Z"
   },
   {
    "duration": 1227,
    "start_time": "2024-07-11T16:49:31.866Z"
   },
   {
    "duration": 35,
    "start_time": "2024-07-11T16:49:33.096Z"
   },
   {
    "duration": 14,
    "start_time": "2024-07-11T16:49:33.134Z"
   },
   {
    "duration": 15,
    "start_time": "2024-07-11T16:49:33.152Z"
   },
   {
    "duration": 48,
    "start_time": "2024-07-11T16:49:33.170Z"
   },
   {
    "duration": 19,
    "start_time": "2024-07-11T16:49:33.231Z"
   },
   {
    "duration": 13,
    "start_time": "2024-07-11T16:49:33.254Z"
   },
   {
    "duration": 51,
    "start_time": "2024-07-11T16:49:33.269Z"
   },
   {
    "duration": 32,
    "start_time": "2024-07-11T16:49:33.324Z"
   },
   {
    "duration": 63,
    "start_time": "2024-07-11T16:49:33.360Z"
   },
   {
    "duration": 28,
    "start_time": "2024-07-11T16:49:33.426Z"
   },
   {
    "duration": 23,
    "start_time": "2024-07-11T16:49:33.457Z"
   },
   {
    "duration": 601,
    "start_time": "2024-07-11T16:49:33.482Z"
   },
   {
    "duration": 116,
    "start_time": "2024-07-11T16:49:34.086Z"
   },
   {
    "duration": 705,
    "start_time": "2024-07-11T16:49:34.205Z"
   },
   {
    "duration": 16,
    "start_time": "2024-07-11T16:49:34.915Z"
   },
   {
    "duration": 91,
    "start_time": "2024-07-11T16:49:34.934Z"
   },
   {
    "duration": 275,
    "start_time": "2024-07-11T16:49:35.027Z"
   },
   {
    "duration": 12,
    "start_time": "2024-07-11T16:49:35.305Z"
   },
   {
    "duration": 0,
    "start_time": "2024-07-11T16:49:35.321Z"
   },
   {
    "duration": 0,
    "start_time": "2024-07-11T16:49:35.323Z"
   },
   {
    "duration": 0,
    "start_time": "2024-07-11T16:49:35.325Z"
   },
   {
    "duration": 0,
    "start_time": "2024-07-11T16:49:35.327Z"
   },
   {
    "duration": 0,
    "start_time": "2024-07-11T16:49:35.329Z"
   },
   {
    "duration": 0,
    "start_time": "2024-07-11T16:49:35.331Z"
   },
   {
    "duration": 0,
    "start_time": "2024-07-11T16:49:35.333Z"
   },
   {
    "duration": 0,
    "start_time": "2024-07-11T16:49:35.335Z"
   },
   {
    "duration": 0,
    "start_time": "2024-07-11T16:49:35.338Z"
   },
   {
    "duration": 0,
    "start_time": "2024-07-11T16:49:35.340Z"
   },
   {
    "duration": 0,
    "start_time": "2024-07-11T16:49:35.342Z"
   },
   {
    "duration": 0,
    "start_time": "2024-07-11T16:49:35.344Z"
   },
   {
    "duration": 0,
    "start_time": "2024-07-11T16:49:35.345Z"
   },
   {
    "duration": 0,
    "start_time": "2024-07-11T16:49:35.347Z"
   },
   {
    "duration": 0,
    "start_time": "2024-07-11T16:49:35.349Z"
   },
   {
    "duration": 0,
    "start_time": "2024-07-11T16:49:35.351Z"
   },
   {
    "duration": 0,
    "start_time": "2024-07-11T16:49:35.353Z"
   },
   {
    "duration": 0,
    "start_time": "2024-07-11T16:49:35.413Z"
   },
   {
    "duration": 0,
    "start_time": "2024-07-11T16:49:35.416Z"
   },
   {
    "duration": 0,
    "start_time": "2024-07-11T16:49:35.417Z"
   },
   {
    "duration": 0,
    "start_time": "2024-07-11T16:49:35.421Z"
   },
   {
    "duration": 0,
    "start_time": "2024-07-11T16:49:35.423Z"
   },
   {
    "duration": 0,
    "start_time": "2024-07-11T16:49:35.425Z"
   },
   {
    "duration": 0,
    "start_time": "2024-07-11T16:49:35.426Z"
   },
   {
    "duration": 0,
    "start_time": "2024-07-11T16:49:35.433Z"
   },
   {
    "duration": 709,
    "start_time": "2024-07-11T16:49:58.321Z"
   },
   {
    "duration": 1516,
    "start_time": "2024-07-11T16:49:59.033Z"
   },
   {
    "duration": 19,
    "start_time": "2024-07-11T16:50:00.551Z"
   },
   {
    "duration": 38,
    "start_time": "2024-07-11T16:50:00.575Z"
   },
   {
    "duration": 15,
    "start_time": "2024-07-11T16:50:00.616Z"
   },
   {
    "duration": 14,
    "start_time": "2024-07-11T16:50:00.636Z"
   },
   {
    "duration": 73,
    "start_time": "2024-07-11T16:50:00.653Z"
   },
   {
    "duration": 191,
    "start_time": "2024-07-11T16:50:00.729Z"
   },
   {
    "duration": 178,
    "start_time": "2024-07-11T16:50:00.924Z"
   },
   {
    "duration": 20,
    "start_time": "2024-07-11T16:50:01.116Z"
   },
   {
    "duration": 238,
    "start_time": "2024-07-11T16:50:01.139Z"
   },
   {
    "duration": 198,
    "start_time": "2024-07-11T16:50:01.380Z"
   },
   {
    "duration": 108,
    "start_time": "2024-07-11T16:50:01.581Z"
   },
   {
    "duration": 38,
    "start_time": "2024-07-11T16:50:01.692Z"
   },
   {
    "duration": 10,
    "start_time": "2024-07-11T16:50:01.733Z"
   },
   {
    "duration": 66,
    "start_time": "2024-07-11T16:50:01.747Z"
   },
   {
    "duration": 44,
    "start_time": "2024-07-11T16:50:01.816Z"
   },
   {
    "duration": 9,
    "start_time": "2024-07-11T16:50:01.864Z"
   },
   {
    "duration": 42,
    "start_time": "2024-07-11T16:50:01.877Z"
   },
   {
    "duration": 12,
    "start_time": "2024-07-11T16:50:01.926Z"
   },
   {
    "duration": 10,
    "start_time": "2024-07-11T16:50:01.942Z"
   },
   {
    "duration": 1399,
    "start_time": "2024-07-11T16:50:01.956Z"
   },
   {
    "duration": 1214,
    "start_time": "2024-07-11T16:50:03.358Z"
   },
   {
    "duration": 18,
    "start_time": "2024-07-11T16:50:04.575Z"
   },
   {
    "duration": 13,
    "start_time": "2024-07-11T16:50:04.612Z"
   },
   {
    "duration": 13,
    "start_time": "2024-07-11T16:50:04.628Z"
   },
   {
    "duration": 12,
    "start_time": "2024-07-11T16:50:04.644Z"
   },
   {
    "duration": 54,
    "start_time": "2024-07-11T16:50:04.665Z"
   },
   {
    "duration": 12,
    "start_time": "2024-07-11T16:50:04.722Z"
   },
   {
    "duration": 12,
    "start_time": "2024-07-11T16:50:04.737Z"
   },
   {
    "duration": 72,
    "start_time": "2024-07-11T16:50:04.752Z"
   },
   {
    "duration": 30,
    "start_time": "2024-07-11T16:50:04.827Z"
   },
   {
    "duration": 55,
    "start_time": "2024-07-11T16:50:04.860Z"
   },
   {
    "duration": 25,
    "start_time": "2024-07-11T16:50:04.920Z"
   },
   {
    "duration": 619,
    "start_time": "2024-07-11T16:50:04.948Z"
   },
   {
    "duration": 112,
    "start_time": "2024-07-11T16:50:05.572Z"
   },
   {
    "duration": 637,
    "start_time": "2024-07-11T16:50:05.688Z"
   },
   {
    "duration": 14,
    "start_time": "2024-07-11T16:50:06.328Z"
   },
   {
    "duration": 93,
    "start_time": "2024-07-11T16:50:06.345Z"
   },
   {
    "duration": 287,
    "start_time": "2024-07-11T16:50:06.442Z"
   },
   {
    "duration": 46,
    "start_time": "2024-07-11T16:50:06.732Z"
   },
   {
    "duration": 364,
    "start_time": "2024-07-11T16:50:06.781Z"
   },
   {
    "duration": 227,
    "start_time": "2024-07-11T16:50:07.148Z"
   },
   {
    "duration": 305,
    "start_time": "2024-07-11T16:50:07.378Z"
   },
   {
    "duration": 26,
    "start_time": "2024-07-11T16:50:07.686Z"
   },
   {
    "duration": 11,
    "start_time": "2024-07-11T16:50:07.715Z"
   },
   {
    "duration": 13,
    "start_time": "2024-07-11T16:50:07.731Z"
   },
   {
    "duration": 12,
    "start_time": "2024-07-11T16:50:07.747Z"
   },
   {
    "duration": 476,
    "start_time": "2024-07-11T16:50:07.762Z"
   },
   {
    "duration": 317,
    "start_time": "2024-07-11T16:50:08.241Z"
   },
   {
    "duration": 206,
    "start_time": "2024-07-11T16:50:08.561Z"
   },
   {
    "duration": 7,
    "start_time": "2024-07-11T16:50:08.770Z"
   },
   {
    "duration": 32,
    "start_time": "2024-07-11T16:50:08.781Z"
   },
   {
    "duration": 778,
    "start_time": "2024-07-11T16:50:08.816Z"
   },
   {
    "duration": 268,
    "start_time": "2024-07-11T16:50:09.597Z"
   },
   {
    "duration": 11,
    "start_time": "2024-07-11T16:50:09.868Z"
   },
   {
    "duration": 356,
    "start_time": "2024-07-11T16:50:09.884Z"
   },
   {
    "duration": 48,
    "start_time": "2024-07-11T16:50:10.243Z"
   },
   {
    "duration": 21,
    "start_time": "2024-07-11T16:50:10.294Z"
   },
   {
    "duration": 1652,
    "start_time": "2024-07-11T16:50:10.318Z"
   },
   {
    "duration": 41,
    "start_time": "2024-07-11T16:50:11.973Z"
   },
   {
    "duration": 994,
    "start_time": "2024-07-11T16:50:12.018Z"
   },
   {
    "duration": 154,
    "start_time": "2024-07-11T16:50:13.019Z"
   },
   {
    "duration": 17,
    "start_time": "2024-07-11T16:50:13.177Z"
   },
   {
    "duration": 12,
    "start_time": "2024-07-11T16:50:13.212Z"
   },
   {
    "duration": 4716,
    "start_time": "2024-07-12T00:30:34.634Z"
   },
   {
    "duration": 1830,
    "start_time": "2024-07-12T00:30:39.355Z"
   },
   {
    "duration": 20,
    "start_time": "2024-07-12T00:30:41.189Z"
   },
   {
    "duration": 18,
    "start_time": "2024-07-12T00:30:41.226Z"
   },
   {
    "duration": 14,
    "start_time": "2024-07-12T00:30:41.247Z"
   },
   {
    "duration": 14,
    "start_time": "2024-07-12T00:30:41.265Z"
   },
   {
    "duration": 41,
    "start_time": "2024-07-12T00:30:41.322Z"
   },
   {
    "duration": 209,
    "start_time": "2024-07-12T00:30:41.366Z"
   },
   {
    "duration": 170,
    "start_time": "2024-07-12T00:30:41.579Z"
   },
   {
    "duration": 20,
    "start_time": "2024-07-12T00:30:41.756Z"
   },
   {
    "duration": 196,
    "start_time": "2024-07-12T00:30:41.779Z"
   },
   {
    "duration": 167,
    "start_time": "2024-07-12T00:30:41.978Z"
   },
   {
    "duration": 113,
    "start_time": "2024-07-12T00:30:42.148Z"
   },
   {
    "duration": 41,
    "start_time": "2024-07-12T00:30:42.264Z"
   },
   {
    "duration": 21,
    "start_time": "2024-07-12T00:30:42.312Z"
   },
   {
    "duration": 51,
    "start_time": "2024-07-12T00:30:42.336Z"
   },
   {
    "duration": 66,
    "start_time": "2024-07-12T00:30:42.390Z"
   },
   {
    "duration": 11,
    "start_time": "2024-07-12T00:30:42.458Z"
   },
   {
    "duration": 12,
    "start_time": "2024-07-12T00:30:42.472Z"
   },
   {
    "duration": 9,
    "start_time": "2024-07-12T00:30:42.522Z"
   },
   {
    "duration": 9,
    "start_time": "2024-07-12T00:30:42.534Z"
   },
   {
    "duration": 1363,
    "start_time": "2024-07-12T00:30:42.546Z"
   },
   {
    "duration": 1206,
    "start_time": "2024-07-12T00:30:43.912Z"
   },
   {
    "duration": 22,
    "start_time": "2024-07-12T00:30:45.124Z"
   },
   {
    "duration": 13,
    "start_time": "2024-07-12T00:30:45.149Z"
   },
   {
    "duration": 15,
    "start_time": "2024-07-12T00:30:45.165Z"
   },
   {
    "duration": 12,
    "start_time": "2024-07-12T00:30:45.223Z"
   },
   {
    "duration": 15,
    "start_time": "2024-07-12T00:30:45.244Z"
   },
   {
    "duration": 13,
    "start_time": "2024-07-12T00:30:45.262Z"
   },
   {
    "duration": 49,
    "start_time": "2024-07-12T00:30:45.279Z"
   },
   {
    "duration": 36,
    "start_time": "2024-07-12T00:30:45.332Z"
   },
   {
    "duration": 67,
    "start_time": "2024-07-12T00:30:45.371Z"
   },
   {
    "duration": 31,
    "start_time": "2024-07-12T00:30:45.441Z"
   },
   {
    "duration": 51,
    "start_time": "2024-07-12T00:30:45.475Z"
   },
   {
    "duration": 569,
    "start_time": "2024-07-12T00:30:45.529Z"
   },
   {
    "duration": 115,
    "start_time": "2024-07-12T00:30:46.101Z"
   },
   {
    "duration": 652,
    "start_time": "2024-07-12T00:30:46.223Z"
   },
   {
    "duration": 15,
    "start_time": "2024-07-12T00:30:46.878Z"
   },
   {
    "duration": 87,
    "start_time": "2024-07-12T00:30:46.896Z"
   },
   {
    "duration": 296,
    "start_time": "2024-07-12T00:30:46.987Z"
   },
   {
    "duration": 65,
    "start_time": "2024-07-12T00:30:47.286Z"
   },
   {
    "duration": 451,
    "start_time": "2024-07-12T00:30:47.355Z"
   },
   {
    "duration": 253,
    "start_time": "2024-07-12T00:30:47.810Z"
   },
   {
    "duration": 309,
    "start_time": "2024-07-12T00:30:48.066Z"
   },
   {
    "duration": 11,
    "start_time": "2024-07-12T00:30:48.378Z"
   },
   {
    "duration": 34,
    "start_time": "2024-07-12T00:30:48.392Z"
   },
   {
    "duration": 11,
    "start_time": "2024-07-12T00:30:48.429Z"
   },
   {
    "duration": 12,
    "start_time": "2024-07-12T00:30:48.443Z"
   },
   {
    "duration": 549,
    "start_time": "2024-07-12T00:30:48.458Z"
   },
   {
    "duration": 351,
    "start_time": "2024-07-12T00:30:49.009Z"
   },
   {
    "duration": 216,
    "start_time": "2024-07-12T00:30:49.362Z"
   },
   {
    "duration": 7,
    "start_time": "2024-07-12T00:30:49.581Z"
   },
   {
    "duration": 7,
    "start_time": "2024-07-12T00:30:49.591Z"
   },
   {
    "duration": 777,
    "start_time": "2024-07-12T00:30:49.624Z"
   },
   {
    "duration": 269,
    "start_time": "2024-07-12T00:30:50.404Z"
   },
   {
    "duration": 11,
    "start_time": "2024-07-12T00:30:50.676Z"
   },
   {
    "duration": 361,
    "start_time": "2024-07-12T00:30:50.689Z"
   },
   {
    "duration": 37,
    "start_time": "2024-07-12T00:30:51.053Z"
   },
   {
    "duration": 30,
    "start_time": "2024-07-12T00:30:51.093Z"
   },
   {
    "duration": 1606,
    "start_time": "2024-07-12T00:30:51.126Z"
   },
   {
    "duration": 33,
    "start_time": "2024-07-12T00:30:52.735Z"
   },
   {
    "duration": 971,
    "start_time": "2024-07-12T00:30:52.771Z"
   },
   {
    "duration": 147,
    "start_time": "2024-07-12T00:30:53.744Z"
   },
   {
    "duration": 30,
    "start_time": "2024-07-12T00:30:53.894Z"
   },
   {
    "duration": 728,
    "start_time": "2024-07-12T00:31:05.332Z"
   },
   {
    "duration": 1510,
    "start_time": "2024-07-12T00:31:06.063Z"
   },
   {
    "duration": 18,
    "start_time": "2024-07-12T00:31:07.575Z"
   },
   {
    "duration": 32,
    "start_time": "2024-07-12T00:31:07.597Z"
   },
   {
    "duration": 14,
    "start_time": "2024-07-12T00:31:07.632Z"
   },
   {
    "duration": 18,
    "start_time": "2024-07-12T00:31:07.649Z"
   },
   {
    "duration": 85,
    "start_time": "2024-07-12T00:31:07.670Z"
   },
   {
    "duration": 192,
    "start_time": "2024-07-12T00:31:07.758Z"
   },
   {
    "duration": 176,
    "start_time": "2024-07-12T00:31:07.953Z"
   },
   {
    "duration": 65,
    "start_time": "2024-07-12T00:31:08.135Z"
   },
   {
    "duration": 195,
    "start_time": "2024-07-12T00:31:08.204Z"
   },
   {
    "duration": 172,
    "start_time": "2024-07-12T00:31:08.402Z"
   },
   {
    "duration": 102,
    "start_time": "2024-07-12T00:31:08.577Z"
   },
   {
    "duration": 40,
    "start_time": "2024-07-12T00:31:08.682Z"
   },
   {
    "duration": 9,
    "start_time": "2024-07-12T00:31:08.725Z"
   },
   {
    "duration": 36,
    "start_time": "2024-07-12T00:31:08.738Z"
   },
   {
    "duration": 79,
    "start_time": "2024-07-12T00:31:08.777Z"
   },
   {
    "duration": 12,
    "start_time": "2024-07-12T00:31:08.860Z"
   },
   {
    "duration": 13,
    "start_time": "2024-07-12T00:31:08.876Z"
   },
   {
    "duration": 39,
    "start_time": "2024-07-12T00:31:08.892Z"
   },
   {
    "duration": 10,
    "start_time": "2024-07-12T00:31:08.934Z"
   },
   {
    "duration": 1376,
    "start_time": "2024-07-12T00:31:08.947Z"
   },
   {
    "duration": 1171,
    "start_time": "2024-07-12T00:31:10.326Z"
   },
   {
    "duration": 27,
    "start_time": "2024-07-12T00:31:11.499Z"
   },
   {
    "duration": 12,
    "start_time": "2024-07-12T00:31:11.531Z"
   },
   {
    "duration": 12,
    "start_time": "2024-07-12T00:31:11.546Z"
   },
   {
    "duration": 11,
    "start_time": "2024-07-12T00:31:11.562Z"
   },
   {
    "duration": 14,
    "start_time": "2024-07-12T00:31:11.622Z"
   },
   {
    "duration": 12,
    "start_time": "2024-07-12T00:31:11.639Z"
   },
   {
    "duration": 18,
    "start_time": "2024-07-12T00:31:11.655Z"
   },
   {
    "duration": 67,
    "start_time": "2024-07-12T00:31:11.676Z"
   },
   {
    "duration": 29,
    "start_time": "2024-07-12T00:31:11.746Z"
   },
   {
    "duration": 56,
    "start_time": "2024-07-12T00:31:11.778Z"
   },
   {
    "duration": 23,
    "start_time": "2024-07-12T00:31:11.837Z"
   },
   {
    "duration": 578,
    "start_time": "2024-07-12T00:31:11.863Z"
   },
   {
    "duration": 115,
    "start_time": "2024-07-12T00:31:12.444Z"
   },
   {
    "duration": 631,
    "start_time": "2024-07-12T00:31:12.563Z"
   },
   {
    "duration": 27,
    "start_time": "2024-07-12T00:31:13.197Z"
   },
   {
    "duration": 68,
    "start_time": "2024-07-12T00:31:13.226Z"
   },
   {
    "duration": 303,
    "start_time": "2024-07-12T00:31:13.297Z"
   },
   {
    "duration": 51,
    "start_time": "2024-07-12T00:31:13.602Z"
   },
   {
    "duration": 368,
    "start_time": "2024-07-12T00:31:13.656Z"
   },
   {
    "duration": 218,
    "start_time": "2024-07-12T00:31:14.029Z"
   },
   {
    "duration": 317,
    "start_time": "2024-07-12T00:31:14.250Z"
   },
   {
    "duration": 9,
    "start_time": "2024-07-12T00:31:14.570Z"
   },
   {
    "duration": 9,
    "start_time": "2024-07-12T00:31:14.582Z"
   },
   {
    "duration": 37,
    "start_time": "2024-07-12T00:31:14.593Z"
   },
   {
    "duration": 12,
    "start_time": "2024-07-12T00:31:14.632Z"
   },
   {
    "duration": 442,
    "start_time": "2024-07-12T00:31:14.649Z"
   },
   {
    "duration": 319,
    "start_time": "2024-07-12T00:31:15.094Z"
   },
   {
    "duration": 205,
    "start_time": "2024-07-12T00:31:15.422Z"
   },
   {
    "duration": 7,
    "start_time": "2024-07-12T00:31:15.630Z"
   },
   {
    "duration": 9,
    "start_time": "2024-07-12T00:31:15.640Z"
   },
   {
    "duration": 753,
    "start_time": "2024-07-12T00:31:15.652Z"
   },
   {
    "duration": 280,
    "start_time": "2024-07-12T00:31:16.409Z"
   },
   {
    "duration": 13,
    "start_time": "2024-07-12T00:31:16.692Z"
   },
   {
    "duration": 355,
    "start_time": "2024-07-12T00:31:16.708Z"
   },
   {
    "duration": 38,
    "start_time": "2024-07-12T00:31:17.065Z"
   },
   {
    "duration": 26,
    "start_time": "2024-07-12T00:31:17.106Z"
   },
   {
    "duration": 1595,
    "start_time": "2024-07-12T00:31:17.135Z"
   },
   {
    "duration": 34,
    "start_time": "2024-07-12T00:31:18.733Z"
   },
   {
    "duration": 1001,
    "start_time": "2024-07-12T00:31:18.769Z"
   },
   {
    "duration": 150,
    "start_time": "2024-07-12T00:31:19.773Z"
   },
   {
    "duration": 21,
    "start_time": "2024-07-12T00:31:19.925Z"
   },
   {
    "duration": 6,
    "start_time": "2024-07-12T00:33:19.521Z"
   },
   {
    "duration": 285,
    "start_time": "2024-07-12T00:36:25.362Z"
   },
   {
    "duration": 849,
    "start_time": "2024-07-12T00:40:07.554Z"
   },
   {
    "duration": 703,
    "start_time": "2024-07-12T00:41:16.608Z"
   },
   {
    "duration": 564,
    "start_time": "2024-07-12T00:41:26.066Z"
   },
   {
    "duration": 849,
    "start_time": "2024-07-12T00:41:34.056Z"
   },
   {
    "duration": 815,
    "start_time": "2024-07-12T01:26:33.234Z"
   },
   {
    "duration": 1596,
    "start_time": "2024-07-12T01:26:34.054Z"
   },
   {
    "duration": 25,
    "start_time": "2024-07-12T01:26:35.655Z"
   },
   {
    "duration": 38,
    "start_time": "2024-07-12T01:26:35.684Z"
   },
   {
    "duration": 31,
    "start_time": "2024-07-12T01:26:35.726Z"
   },
   {
    "duration": 28,
    "start_time": "2024-07-12T01:26:35.763Z"
   },
   {
    "duration": 55,
    "start_time": "2024-07-12T01:26:35.795Z"
   },
   {
    "duration": 216,
    "start_time": "2024-07-12T01:26:35.853Z"
   },
   {
    "duration": 184,
    "start_time": "2024-07-12T01:26:36.072Z"
   },
   {
    "duration": 23,
    "start_time": "2024-07-12T01:26:36.268Z"
   },
   {
    "duration": 254,
    "start_time": "2024-07-12T01:26:36.294Z"
   },
   {
    "duration": 179,
    "start_time": "2024-07-12T01:26:36.551Z"
   },
   {
    "duration": 108,
    "start_time": "2024-07-12T01:26:36.733Z"
   },
   {
    "duration": 32,
    "start_time": "2024-07-12T01:26:36.844Z"
   },
   {
    "duration": 12,
    "start_time": "2024-07-12T01:26:36.879Z"
   },
   {
    "duration": 39,
    "start_time": "2024-07-12T01:26:36.922Z"
   },
   {
    "duration": 69,
    "start_time": "2024-07-12T01:26:36.964Z"
   },
   {
    "duration": 14,
    "start_time": "2024-07-12T01:26:37.037Z"
   },
   {
    "duration": 14,
    "start_time": "2024-07-12T01:26:37.054Z"
   },
   {
    "duration": 9,
    "start_time": "2024-07-12T01:26:37.071Z"
   },
   {
    "duration": 46,
    "start_time": "2024-07-12T01:26:37.083Z"
   },
   {
    "duration": 1419,
    "start_time": "2024-07-12T01:26:37.132Z"
   },
   {
    "duration": 1248,
    "start_time": "2024-07-12T01:26:38.555Z"
   },
   {
    "duration": 32,
    "start_time": "2024-07-12T01:26:39.806Z"
   },
   {
    "duration": 14,
    "start_time": "2024-07-12T01:26:39.841Z"
   },
   {
    "duration": 16,
    "start_time": "2024-07-12T01:26:39.860Z"
   },
   {
    "duration": 53,
    "start_time": "2024-07-12T01:26:39.880Z"
   },
   {
    "duration": 14,
    "start_time": "2024-07-12T01:26:39.943Z"
   },
   {
    "duration": 12,
    "start_time": "2024-07-12T01:26:39.961Z"
   },
   {
    "duration": 50,
    "start_time": "2024-07-12T01:26:39.978Z"
   },
   {
    "duration": 41,
    "start_time": "2024-07-12T01:26:40.030Z"
   },
   {
    "duration": 66,
    "start_time": "2024-07-12T01:26:40.074Z"
   },
   {
    "duration": 30,
    "start_time": "2024-07-12T01:26:40.143Z"
   },
   {
    "duration": 49,
    "start_time": "2024-07-12T01:26:40.176Z"
   },
   {
    "duration": 563,
    "start_time": "2024-07-12T01:26:40.229Z"
   },
   {
    "duration": 120,
    "start_time": "2024-07-12T01:26:40.795Z"
   },
   {
    "duration": 664,
    "start_time": "2024-07-12T01:26:40.926Z"
   },
   {
    "duration": 31,
    "start_time": "2024-07-12T01:26:41.593Z"
   },
   {
    "duration": 67,
    "start_time": "2024-07-12T01:26:41.627Z"
   },
   {
    "duration": 931,
    "start_time": "2024-07-12T01:26:41.698Z"
   },
   {
    "duration": 376,
    "start_time": "2024-07-12T01:26:42.633Z"
   },
   {
    "duration": 282,
    "start_time": "2024-07-12T01:26:43.013Z"
   },
   {
    "duration": 333,
    "start_time": "2024-07-12T01:26:43.298Z"
   },
   {
    "duration": 10,
    "start_time": "2024-07-12T01:26:43.635Z"
   },
   {
    "duration": 9,
    "start_time": "2024-07-12T01:26:43.649Z"
   },
   {
    "duration": 13,
    "start_time": "2024-07-12T01:26:43.661Z"
   },
   {
    "duration": 51,
    "start_time": "2024-07-12T01:26:43.678Z"
   },
   {
    "duration": 490,
    "start_time": "2024-07-12T01:26:43.732Z"
   },
   {
    "duration": 350,
    "start_time": "2024-07-12T01:26:44.226Z"
   },
   {
    "duration": 205,
    "start_time": "2024-07-12T01:26:44.579Z"
   },
   {
    "duration": 8,
    "start_time": "2024-07-12T01:26:44.787Z"
   },
   {
    "duration": 25,
    "start_time": "2024-07-12T01:26:44.798Z"
   },
   {
    "duration": 826,
    "start_time": "2024-07-12T01:26:44.827Z"
   },
   {
    "duration": 277,
    "start_time": "2024-07-12T01:26:45.655Z"
   },
   {
    "duration": 12,
    "start_time": "2024-07-12T01:26:45.935Z"
   },
   {
    "duration": 361,
    "start_time": "2024-07-12T01:26:45.950Z"
   },
   {
    "duration": 44,
    "start_time": "2024-07-12T01:26:46.314Z"
   },
   {
    "duration": 15,
    "start_time": "2024-07-12T01:26:46.361Z"
   },
   {
    "duration": 1676,
    "start_time": "2024-07-12T01:26:46.380Z"
   },
   {
    "duration": 35,
    "start_time": "2024-07-12T01:26:48.063Z"
   },
   {
    "duration": 1070,
    "start_time": "2024-07-12T01:26:48.101Z"
   },
   {
    "duration": 153,
    "start_time": "2024-07-12T01:26:49.174Z"
   },
   {
    "duration": 21,
    "start_time": "2024-07-12T01:26:49.331Z"
   },
   {
    "duration": 762,
    "start_time": "2024-07-12T01:32:44.227Z"
   },
   {
    "duration": 1638,
    "start_time": "2024-07-12T01:32:44.994Z"
   },
   {
    "duration": 23,
    "start_time": "2024-07-12T01:32:46.638Z"
   },
   {
    "duration": 20,
    "start_time": "2024-07-12T01:32:46.664Z"
   },
   {
    "duration": 46,
    "start_time": "2024-07-12T01:32:46.690Z"
   },
   {
    "duration": 14,
    "start_time": "2024-07-12T01:32:46.739Z"
   },
   {
    "duration": 41,
    "start_time": "2024-07-12T01:32:46.756Z"
   },
   {
    "duration": 201,
    "start_time": "2024-07-12T01:32:46.822Z"
   },
   {
    "duration": 169,
    "start_time": "2024-07-12T01:32:47.026Z"
   },
   {
    "duration": 28,
    "start_time": "2024-07-12T01:32:47.198Z"
   },
   {
    "duration": 197,
    "start_time": "2024-07-12T01:32:47.229Z"
   },
   {
    "duration": 175,
    "start_time": "2024-07-12T01:32:47.429Z"
   },
   {
    "duration": 149,
    "start_time": "2024-07-12T01:32:47.607Z"
   },
   {
    "duration": 26,
    "start_time": "2024-07-12T01:32:47.766Z"
   },
   {
    "duration": 31,
    "start_time": "2024-07-12T01:32:47.795Z"
   },
   {
    "duration": 47,
    "start_time": "2024-07-12T01:32:47.830Z"
   },
   {
    "duration": 71,
    "start_time": "2024-07-12T01:32:47.879Z"
   },
   {
    "duration": 10,
    "start_time": "2024-07-12T01:32:47.954Z"
   },
   {
    "duration": 14,
    "start_time": "2024-07-12T01:32:47.967Z"
   },
   {
    "duration": 42,
    "start_time": "2024-07-12T01:32:47.984Z"
   },
   {
    "duration": 11,
    "start_time": "2024-07-12T01:32:48.029Z"
   },
   {
    "duration": 1350,
    "start_time": "2024-07-12T01:32:48.044Z"
   },
   {
    "duration": 1200,
    "start_time": "2024-07-12T01:32:49.397Z"
   },
   {
    "duration": 29,
    "start_time": "2024-07-12T01:32:50.600Z"
   },
   {
    "duration": 13,
    "start_time": "2024-07-12T01:32:50.633Z"
   },
   {
    "duration": 14,
    "start_time": "2024-07-12T01:32:50.649Z"
   },
   {
    "duration": 12,
    "start_time": "2024-07-12T01:32:50.665Z"
   },
   {
    "duration": 56,
    "start_time": "2024-07-12T01:32:50.680Z"
   },
   {
    "duration": 12,
    "start_time": "2024-07-12T01:32:50.739Z"
   },
   {
    "duration": 12,
    "start_time": "2024-07-12T01:32:50.754Z"
   },
   {
    "duration": 73,
    "start_time": "2024-07-12T01:32:50.769Z"
   },
   {
    "duration": 29,
    "start_time": "2024-07-12T01:32:50.844Z"
   },
   {
    "duration": 56,
    "start_time": "2024-07-12T01:32:50.876Z"
   },
   {
    "duration": 20,
    "start_time": "2024-07-12T01:32:50.935Z"
   },
   {
    "duration": 568,
    "start_time": "2024-07-12T01:32:50.958Z"
   },
   {
    "duration": 117,
    "start_time": "2024-07-12T01:32:51.529Z"
   },
   {
    "duration": 631,
    "start_time": "2024-07-12T01:32:51.649Z"
   },
   {
    "duration": 15,
    "start_time": "2024-07-12T01:32:52.282Z"
   },
   {
    "duration": 82,
    "start_time": "2024-07-12T01:32:52.300Z"
   },
   {
    "duration": 897,
    "start_time": "2024-07-12T01:32:52.384Z"
   },
   {
    "duration": 379,
    "start_time": "2024-07-12T01:32:53.290Z"
   },
   {
    "duration": 226,
    "start_time": "2024-07-12T01:32:53.672Z"
   },
   {
    "duration": 310,
    "start_time": "2024-07-12T01:32:53.901Z"
   },
   {
    "duration": 12,
    "start_time": "2024-07-12T01:32:54.214Z"
   },
   {
    "duration": 9,
    "start_time": "2024-07-12T01:32:54.229Z"
   },
   {
    "duration": 11,
    "start_time": "2024-07-12T01:32:54.241Z"
   },
   {
    "duration": 14,
    "start_time": "2024-07-12T01:32:54.255Z"
   },
   {
    "duration": 478,
    "start_time": "2024-07-12T01:32:54.273Z"
   },
   {
    "duration": 322,
    "start_time": "2024-07-12T01:32:54.754Z"
   },
   {
    "duration": 200,
    "start_time": "2024-07-12T01:32:55.079Z"
   },
   {
    "duration": 7,
    "start_time": "2024-07-12T01:32:55.281Z"
   },
   {
    "duration": 7,
    "start_time": "2024-07-12T01:32:55.291Z"
   },
   {
    "duration": 792,
    "start_time": "2024-07-12T01:32:55.301Z"
   },
   {
    "duration": 261,
    "start_time": "2024-07-12T01:32:56.095Z"
   },
   {
    "duration": 12,
    "start_time": "2024-07-12T01:32:56.359Z"
   },
   {
    "duration": 349,
    "start_time": "2024-07-12T01:32:56.373Z"
   },
   {
    "duration": 38,
    "start_time": "2024-07-12T01:32:56.725Z"
   },
   {
    "duration": 14,
    "start_time": "2024-07-12T01:32:56.765Z"
   },
   {
    "duration": 1616,
    "start_time": "2024-07-12T01:32:56.782Z"
   },
   {
    "duration": 42,
    "start_time": "2024-07-12T01:32:58.401Z"
   },
   {
    "duration": 956,
    "start_time": "2024-07-12T01:32:58.445Z"
   },
   {
    "duration": 138,
    "start_time": "2024-07-12T01:32:59.405Z"
   },
   {
    "duration": 17,
    "start_time": "2024-07-12T01:32:59.546Z"
   },
   {
    "duration": 191,
    "start_time": "2024-07-12T01:58:01.250Z"
   },
   {
    "duration": 33,
    "start_time": "2024-07-12T01:58:13.688Z"
   },
   {
    "duration": 712,
    "start_time": "2024-07-12T02:12:47.166Z"
   },
   {
    "duration": 1528,
    "start_time": "2024-07-12T02:12:47.882Z"
   },
   {
    "duration": 25,
    "start_time": "2024-07-12T02:12:49.413Z"
   },
   {
    "duration": 17,
    "start_time": "2024-07-12T02:12:49.441Z"
   },
   {
    "duration": 14,
    "start_time": "2024-07-12T02:12:49.461Z"
   },
   {
    "duration": 50,
    "start_time": "2024-07-12T02:12:49.478Z"
   },
   {
    "duration": 40,
    "start_time": "2024-07-12T02:12:49.531Z"
   },
   {
    "duration": 243,
    "start_time": "2024-07-12T02:12:49.573Z"
   },
   {
    "duration": 177,
    "start_time": "2024-07-12T02:12:49.824Z"
   },
   {
    "duration": 33,
    "start_time": "2024-07-12T02:12:50.007Z"
   },
   {
    "duration": 285,
    "start_time": "2024-07-12T02:12:50.042Z"
   },
   {
    "duration": 213,
    "start_time": "2024-07-12T02:12:50.330Z"
   },
   {
    "duration": 140,
    "start_time": "2024-07-12T02:12:50.547Z"
   },
   {
    "duration": 53,
    "start_time": "2024-07-12T02:12:50.691Z"
   },
   {
    "duration": 11,
    "start_time": "2024-07-12T02:12:50.750Z"
   },
   {
    "duration": 65,
    "start_time": "2024-07-12T02:12:50.765Z"
   },
   {
    "duration": 60,
    "start_time": "2024-07-12T02:12:50.833Z"
   },
   {
    "duration": 29,
    "start_time": "2024-07-12T02:12:50.899Z"
   },
   {
    "duration": 17,
    "start_time": "2024-07-12T02:12:50.932Z"
   },
   {
    "duration": 13,
    "start_time": "2024-07-12T02:12:50.952Z"
   },
   {
    "duration": 17,
    "start_time": "2024-07-12T02:12:50.969Z"
   },
   {
    "duration": 1511,
    "start_time": "2024-07-12T02:12:50.989Z"
   },
   {
    "duration": 1227,
    "start_time": "2024-07-12T02:12:52.503Z"
   },
   {
    "duration": 23,
    "start_time": "2024-07-12T02:12:53.733Z"
   },
   {
    "duration": 14,
    "start_time": "2024-07-12T02:12:53.759Z"
   },
   {
    "duration": 55,
    "start_time": "2024-07-12T02:12:53.777Z"
   },
   {
    "duration": 13,
    "start_time": "2024-07-12T02:12:53.837Z"
   },
   {
    "duration": 16,
    "start_time": "2024-07-12T02:12:53.860Z"
   },
   {
    "duration": 39,
    "start_time": "2024-07-12T02:12:53.886Z"
   },
   {
    "duration": 13,
    "start_time": "2024-07-12T02:12:53.928Z"
   },
   {
    "duration": 31,
    "start_time": "2024-07-12T02:12:53.943Z"
   },
   {
    "duration": 66,
    "start_time": "2024-07-12T02:12:53.977Z"
   },
   {
    "duration": 31,
    "start_time": "2024-07-12T02:12:54.046Z"
   },
   {
    "duration": 48,
    "start_time": "2024-07-12T02:12:54.080Z"
   },
   {
    "duration": 608,
    "start_time": "2024-07-12T02:12:54.131Z"
   },
   {
    "duration": 123,
    "start_time": "2024-07-12T02:12:54.742Z"
   },
   {
    "duration": 632,
    "start_time": "2024-07-12T02:12:54.869Z"
   },
   {
    "duration": 22,
    "start_time": "2024-07-12T02:12:55.504Z"
   },
   {
    "duration": 93,
    "start_time": "2024-07-12T02:12:55.529Z"
   },
   {
    "duration": 890,
    "start_time": "2024-07-12T02:12:55.625Z"
   },
   {
    "duration": 362,
    "start_time": "2024-07-12T02:12:56.523Z"
   },
   {
    "duration": 225,
    "start_time": "2024-07-12T02:12:56.887Z"
   },
   {
    "duration": 318,
    "start_time": "2024-07-12T02:12:57.115Z"
   },
   {
    "duration": 10,
    "start_time": "2024-07-12T02:12:57.436Z"
   },
   {
    "duration": 9,
    "start_time": "2024-07-12T02:12:57.449Z"
   },
   {
    "duration": 12,
    "start_time": "2024-07-12T02:12:57.461Z"
   },
   {
    "duration": 56,
    "start_time": "2024-07-12T02:12:57.476Z"
   },
   {
    "duration": 474,
    "start_time": "2024-07-12T02:12:57.535Z"
   },
   {
    "duration": 361,
    "start_time": "2024-07-12T02:12:58.023Z"
   },
   {
    "duration": 188,
    "start_time": "2024-07-12T02:12:58.386Z"
   },
   {
    "duration": 7,
    "start_time": "2024-07-12T02:12:58.576Z"
   },
   {
    "duration": 7,
    "start_time": "2024-07-12T02:12:58.587Z"
   },
   {
    "duration": 778,
    "start_time": "2024-07-12T02:12:58.597Z"
   },
   {
    "duration": 274,
    "start_time": "2024-07-12T02:12:59.378Z"
   },
   {
    "duration": 12,
    "start_time": "2024-07-12T02:12:59.657Z"
   },
   {
    "duration": 368,
    "start_time": "2024-07-12T02:12:59.672Z"
   },
   {
    "duration": 52,
    "start_time": "2024-07-12T02:13:00.043Z"
   },
   {
    "duration": 26,
    "start_time": "2024-07-12T02:13:00.099Z"
   },
   {
    "duration": 1660,
    "start_time": "2024-07-12T02:13:00.129Z"
   },
   {
    "duration": 52,
    "start_time": "2024-07-12T02:13:01.795Z"
   },
   {
    "duration": 970,
    "start_time": "2024-07-12T02:13:01.852Z"
   },
   {
    "duration": 141,
    "start_time": "2024-07-12T02:13:02.825Z"
   },
   {
    "duration": 17,
    "start_time": "2024-07-12T02:13:02.970Z"
   },
   {
    "duration": 704,
    "start_time": "2024-07-12T02:13:21.425Z"
   },
   {
    "duration": 1559,
    "start_time": "2024-07-12T02:13:22.132Z"
   },
   {
    "duration": 32,
    "start_time": "2024-07-12T02:13:23.694Z"
   },
   {
    "duration": 25,
    "start_time": "2024-07-12T02:13:23.730Z"
   },
   {
    "duration": 15,
    "start_time": "2024-07-12T02:13:23.759Z"
   },
   {
    "duration": 14,
    "start_time": "2024-07-12T02:13:23.777Z"
   },
   {
    "duration": 71,
    "start_time": "2024-07-12T02:13:23.794Z"
   },
   {
    "duration": 203,
    "start_time": "2024-07-12T02:13:23.868Z"
   },
   {
    "duration": 174,
    "start_time": "2024-07-12T02:13:24.074Z"
   },
   {
    "duration": 20,
    "start_time": "2024-07-12T02:13:24.251Z"
   },
   {
    "duration": 190,
    "start_time": "2024-07-12T02:13:24.274Z"
   },
   {
    "duration": 192,
    "start_time": "2024-07-12T02:13:24.467Z"
   },
   {
    "duration": 147,
    "start_time": "2024-07-12T02:13:24.662Z"
   },
   {
    "duration": 27,
    "start_time": "2024-07-12T02:13:24.824Z"
   },
   {
    "duration": 12,
    "start_time": "2024-07-12T02:13:24.855Z"
   },
   {
    "duration": 60,
    "start_time": "2024-07-12T02:13:24.871Z"
   },
   {
    "duration": 49,
    "start_time": "2024-07-12T02:13:24.933Z"
   },
   {
    "duration": 9,
    "start_time": "2024-07-12T02:13:24.985Z"
   },
   {
    "duration": 37,
    "start_time": "2024-07-12T02:13:24.998Z"
   },
   {
    "duration": 8,
    "start_time": "2024-07-12T02:13:25.037Z"
   },
   {
    "duration": 14,
    "start_time": "2024-07-12T02:13:25.049Z"
   },
   {
    "duration": 1373,
    "start_time": "2024-07-12T02:13:25.068Z"
   },
   {
    "duration": 1195,
    "start_time": "2024-07-12T02:13:26.444Z"
   },
   {
    "duration": 20,
    "start_time": "2024-07-12T02:13:27.645Z"
   },
   {
    "duration": 14,
    "start_time": "2024-07-12T02:13:27.668Z"
   },
   {
    "duration": 12,
    "start_time": "2024-07-12T02:13:27.684Z"
   },
   {
    "duration": 10,
    "start_time": "2024-07-12T02:13:27.724Z"
   },
   {
    "duration": 17,
    "start_time": "2024-07-12T02:13:27.738Z"
   },
   {
    "duration": 15,
    "start_time": "2024-07-12T02:13:27.758Z"
   },
   {
    "duration": 11,
    "start_time": "2024-07-12T02:13:27.776Z"
   },
   {
    "duration": 33,
    "start_time": "2024-07-12T02:13:27.822Z"
   },
   {
    "duration": 29,
    "start_time": "2024-07-12T02:13:27.858Z"
   },
   {
    "duration": 55,
    "start_time": "2024-07-12T02:13:27.889Z"
   },
   {
    "duration": 19,
    "start_time": "2024-07-12T02:13:27.950Z"
   },
   {
    "duration": 584,
    "start_time": "2024-07-12T02:13:27.972Z"
   },
   {
    "duration": 115,
    "start_time": "2024-07-12T02:13:28.559Z"
   },
   {
    "duration": 629,
    "start_time": "2024-07-12T02:13:28.677Z"
   },
   {
    "duration": 22,
    "start_time": "2024-07-12T02:13:29.310Z"
   },
   {
    "duration": 64,
    "start_time": "2024-07-12T02:13:29.337Z"
   },
   {
    "duration": 928,
    "start_time": "2024-07-12T02:13:29.404Z"
   },
   {
    "duration": 376,
    "start_time": "2024-07-12T02:13:30.342Z"
   },
   {
    "duration": 234,
    "start_time": "2024-07-12T02:13:30.722Z"
   },
   {
    "duration": 320,
    "start_time": "2024-07-12T02:13:30.959Z"
   },
   {
    "duration": 9,
    "start_time": "2024-07-12T02:13:31.283Z"
   },
   {
    "duration": 31,
    "start_time": "2024-07-12T02:13:31.295Z"
   },
   {
    "duration": 14,
    "start_time": "2024-07-12T02:13:31.331Z"
   },
   {
    "duration": 11,
    "start_time": "2024-07-12T02:13:31.348Z"
   },
   {
    "duration": 445,
    "start_time": "2024-07-12T02:13:31.362Z"
   },
   {
    "duration": 320,
    "start_time": "2024-07-12T02:13:31.810Z"
   },
   {
    "duration": 189,
    "start_time": "2024-07-12T02:13:32.134Z"
   },
   {
    "duration": 12,
    "start_time": "2024-07-12T02:13:32.326Z"
   },
   {
    "duration": 9,
    "start_time": "2024-07-12T02:13:32.342Z"
   },
   {
    "duration": 761,
    "start_time": "2024-07-12T02:13:32.356Z"
   },
   {
    "duration": 266,
    "start_time": "2024-07-12T02:13:33.126Z"
   },
   {
    "duration": 11,
    "start_time": "2024-07-12T02:13:33.395Z"
   },
   {
    "duration": 381,
    "start_time": "2024-07-12T02:13:33.409Z"
   },
   {
    "duration": 53,
    "start_time": "2024-07-12T02:13:33.793Z"
   },
   {
    "duration": 14,
    "start_time": "2024-07-12T02:13:33.849Z"
   },
   {
    "duration": 1626,
    "start_time": "2024-07-12T02:13:33.867Z"
   },
   {
    "duration": 47,
    "start_time": "2024-07-12T02:13:35.497Z"
   },
   {
    "duration": 1012,
    "start_time": "2024-07-12T02:13:35.547Z"
   },
   {
    "duration": 166,
    "start_time": "2024-07-12T02:13:36.570Z"
   },
   {
    "duration": 16,
    "start_time": "2024-07-12T02:13:36.739Z"
   },
   {
    "duration": 1584,
    "start_time": "2024-07-12T02:28:46.487Z"
   },
   {
    "duration": 1558,
    "start_time": "2024-07-12T02:28:55.371Z"
   },
   {
    "duration": 1624,
    "start_time": "2024-07-12T02:29:34.244Z"
   },
   {
    "duration": 1540,
    "start_time": "2024-07-12T02:31:22.005Z"
   },
   {
    "duration": 25,
    "start_time": "2024-07-12T02:31:31.965Z"
   },
   {
    "duration": 25,
    "start_time": "2024-07-12T02:43:09.677Z"
   },
   {
    "duration": 30,
    "start_time": "2024-07-12T02:43:29.526Z"
   },
   {
    "duration": 35,
    "start_time": "2024-07-12T02:43:37.924Z"
   },
   {
    "duration": 1457,
    "start_time": "2024-07-12T02:47:56.016Z"
   },
   {
    "duration": 1339,
    "start_time": "2024-07-12T02:48:03.922Z"
   },
   {
    "duration": 1577,
    "start_time": "2024-07-12T02:48:15.946Z"
   },
   {
    "duration": 1543,
    "start_time": "2024-07-12T02:48:33.416Z"
   },
   {
    "duration": 210,
    "start_time": "2024-07-12T02:48:41.033Z"
   },
   {
    "duration": 1397,
    "start_time": "2024-07-12T02:50:29.755Z"
   },
   {
    "duration": 177,
    "start_time": "2024-07-12T02:50:33.563Z"
   },
   {
    "duration": 709,
    "start_time": "2024-07-12T02:59:50.171Z"
   },
   {
    "duration": 1538,
    "start_time": "2024-07-12T02:59:50.884Z"
   },
   {
    "duration": 18,
    "start_time": "2024-07-12T02:59:52.425Z"
   },
   {
    "duration": 17,
    "start_time": "2024-07-12T02:59:52.446Z"
   },
   {
    "duration": 13,
    "start_time": "2024-07-12T02:59:52.468Z"
   },
   {
    "duration": 51,
    "start_time": "2024-07-12T02:59:52.484Z"
   },
   {
    "duration": 41,
    "start_time": "2024-07-12T02:59:52.539Z"
   },
   {
    "duration": 218,
    "start_time": "2024-07-12T02:59:52.583Z"
   },
   {
    "duration": 178,
    "start_time": "2024-07-12T02:59:52.804Z"
   },
   {
    "duration": 38,
    "start_time": "2024-07-12T02:59:52.985Z"
   },
   {
    "duration": 195,
    "start_time": "2024-07-12T02:59:53.026Z"
   },
   {
    "duration": 173,
    "start_time": "2024-07-12T02:59:53.224Z"
   },
   {
    "duration": 147,
    "start_time": "2024-07-12T02:59:53.401Z"
   },
   {
    "duration": 27,
    "start_time": "2024-07-12T02:59:53.556Z"
   },
   {
    "duration": 10,
    "start_time": "2024-07-12T02:59:53.586Z"
   },
   {
    "duration": 38,
    "start_time": "2024-07-12T02:59:53.624Z"
   },
   {
    "duration": 66,
    "start_time": "2024-07-12T02:59:53.664Z"
   },
   {
    "duration": 13,
    "start_time": "2024-07-12T02:59:53.733Z"
   },
   {
    "duration": 12,
    "start_time": "2024-07-12T02:59:53.749Z"
   },
   {
    "duration": 9,
    "start_time": "2024-07-12T02:59:53.764Z"
   },
   {
    "duration": 52,
    "start_time": "2024-07-12T02:59:53.776Z"
   },
   {
    "duration": 1341,
    "start_time": "2024-07-12T02:59:53.831Z"
   },
   {
    "duration": 1164,
    "start_time": "2024-07-12T02:59:55.176Z"
   },
   {
    "duration": 19,
    "start_time": "2024-07-12T02:59:56.343Z"
   },
   {
    "duration": 14,
    "start_time": "2024-07-12T02:59:56.365Z"
   },
   {
    "duration": 42,
    "start_time": "2024-07-12T02:59:56.383Z"
   },
   {
    "duration": 13,
    "start_time": "2024-07-12T02:59:56.428Z"
   },
   {
    "duration": 14,
    "start_time": "2024-07-12T02:59:56.444Z"
   },
   {
    "duration": 10,
    "start_time": "2024-07-12T02:59:56.462Z"
   },
   {
    "duration": 51,
    "start_time": "2024-07-12T02:59:56.476Z"
   },
   {
    "duration": 29,
    "start_time": "2024-07-12T02:59:56.530Z"
   },
   {
    "duration": 64,
    "start_time": "2024-07-12T02:59:56.562Z"
   },
   {
    "duration": 28,
    "start_time": "2024-07-12T02:59:56.629Z"
   },
   {
    "duration": 21,
    "start_time": "2024-07-12T02:59:56.660Z"
   },
   {
    "duration": 594,
    "start_time": "2024-07-12T02:59:56.684Z"
   },
   {
    "duration": 116,
    "start_time": "2024-07-12T02:59:57.281Z"
   },
   {
    "duration": 612,
    "start_time": "2024-07-12T02:59:57.400Z"
   },
   {
    "duration": 14,
    "start_time": "2024-07-12T02:59:58.022Z"
   },
   {
    "duration": 85,
    "start_time": "2024-07-12T02:59:58.039Z"
   },
   {
    "duration": 877,
    "start_time": "2024-07-12T02:59:58.126Z"
   },
   {
    "duration": 360,
    "start_time": "2024-07-12T02:59:59.022Z"
   },
   {
    "duration": 226,
    "start_time": "2024-07-12T02:59:59.385Z"
   },
   {
    "duration": 322,
    "start_time": "2024-07-12T02:59:59.615Z"
   },
   {
    "duration": 10,
    "start_time": "2024-07-12T02:59:59.940Z"
   },
   {
    "duration": 9,
    "start_time": "2024-07-12T02:59:59.953Z"
   },
   {
    "duration": 11,
    "start_time": "2024-07-12T02:59:59.964Z"
   },
   {
    "duration": 13,
    "start_time": "2024-07-12T03:00:00.022Z"
   },
   {
    "duration": 431,
    "start_time": "2024-07-12T03:00:00.038Z"
   },
   {
    "duration": 330,
    "start_time": "2024-07-12T03:00:00.473Z"
   },
   {
    "duration": 189,
    "start_time": "2024-07-12T03:00:00.806Z"
   },
   {
    "duration": 7,
    "start_time": "2024-07-12T03:00:00.998Z"
   },
   {
    "duration": 20,
    "start_time": "2024-07-12T03:00:01.008Z"
   },
   {
    "duration": 772,
    "start_time": "2024-07-12T03:00:01.031Z"
   },
   {
    "duration": 268,
    "start_time": "2024-07-12T03:00:01.806Z"
   },
   {
    "duration": 12,
    "start_time": "2024-07-12T03:00:02.077Z"
   },
   {
    "duration": 354,
    "start_time": "2024-07-12T03:00:02.092Z"
   },
   {
    "duration": 37,
    "start_time": "2024-07-12T03:00:02.449Z"
   },
   {
    "duration": 34,
    "start_time": "2024-07-12T03:00:02.489Z"
   },
   {
    "duration": 1383,
    "start_time": "2024-07-12T03:00:02.525Z"
   },
   {
    "duration": 188,
    "start_time": "2024-07-12T03:00:03.910Z"
   },
   {
    "duration": 988,
    "start_time": "2024-07-12T03:00:04.101Z"
   },
   {
    "duration": 143,
    "start_time": "2024-07-12T03:00:05.092Z"
   },
   {
    "duration": 18,
    "start_time": "2024-07-12T03:00:05.237Z"
   },
   {
    "duration": 323,
    "start_time": "2024-08-05T02:17:26.703Z"
   },
   {
    "duration": 24,
    "start_time": "2024-08-05T02:17:45.647Z"
   },
   {
    "duration": 683,
    "start_time": "2024-08-05T02:18:11.265Z"
   },
   {
    "duration": 1650,
    "start_time": "2024-08-05T02:18:11.951Z"
   },
   {
    "duration": 18,
    "start_time": "2024-08-05T02:18:13.604Z"
   },
   {
    "duration": 27,
    "start_time": "2024-08-05T02:18:13.624Z"
   },
   {
    "duration": 15,
    "start_time": "2024-08-05T02:18:13.655Z"
   },
   {
    "duration": 13,
    "start_time": "2024-08-05T02:18:13.673Z"
   },
   {
    "duration": 84,
    "start_time": "2024-08-05T02:18:13.689Z"
   },
   {
    "duration": 190,
    "start_time": "2024-08-05T02:18:13.777Z"
   },
   {
    "duration": 166,
    "start_time": "2024-08-05T02:18:13.969Z"
   },
   {
    "duration": 19,
    "start_time": "2024-08-05T02:18:14.138Z"
   },
   {
    "duration": 188,
    "start_time": "2024-08-05T02:18:14.160Z"
   },
   {
    "duration": 185,
    "start_time": "2024-08-05T02:18:14.351Z"
   },
   {
    "duration": 146,
    "start_time": "2024-08-05T02:18:14.539Z"
   },
   {
    "duration": 25,
    "start_time": "2024-08-05T02:18:14.691Z"
   },
   {
    "duration": 10,
    "start_time": "2024-08-05T02:18:14.733Z"
   },
   {
    "duration": 37,
    "start_time": "2024-08-05T02:18:14.746Z"
   },
   {
    "duration": 74,
    "start_time": "2024-08-05T02:18:14.786Z"
   },
   {
    "duration": 10,
    "start_time": "2024-08-05T02:18:14.863Z"
   },
   {
    "duration": 13,
    "start_time": "2024-08-05T02:18:14.876Z"
   },
   {
    "duration": 49,
    "start_time": "2024-08-05T02:18:14.891Z"
   },
   {
    "duration": 9,
    "start_time": "2024-08-05T02:18:14.944Z"
   },
   {
    "duration": 1326,
    "start_time": "2024-08-05T02:18:14.957Z"
   },
   {
    "duration": 1164,
    "start_time": "2024-08-05T02:18:16.286Z"
   },
   {
    "duration": 19,
    "start_time": "2024-08-05T02:18:17.453Z"
   },
   {
    "duration": 13,
    "start_time": "2024-08-05T02:18:17.476Z"
   },
   {
    "duration": 44,
    "start_time": "2024-08-05T02:18:17.492Z"
   },
   {
    "duration": 11,
    "start_time": "2024-08-05T02:18:17.539Z"
   },
   {
    "duration": 14,
    "start_time": "2024-08-05T02:18:17.552Z"
   },
   {
    "duration": 12,
    "start_time": "2024-08-05T02:18:17.569Z"
   },
   {
    "duration": 52,
    "start_time": "2024-08-05T02:18:17.584Z"
   },
   {
    "duration": 31,
    "start_time": "2024-08-05T02:18:17.639Z"
   },
   {
    "duration": 28,
    "start_time": "2024-08-05T02:18:17.672Z"
   },
   {
    "duration": 27,
    "start_time": "2024-08-05T02:18:17.735Z"
   },
   {
    "duration": 19,
    "start_time": "2024-08-05T02:18:17.768Z"
   },
   {
    "duration": 546,
    "start_time": "2024-08-05T02:18:17.790Z"
   },
   {
    "duration": 114,
    "start_time": "2024-08-05T02:18:18.339Z"
   },
   {
    "duration": 601,
    "start_time": "2024-08-05T02:18:18.457Z"
   },
   {
    "duration": 13,
    "start_time": "2024-08-05T02:18:19.061Z"
   },
   {
    "duration": 93,
    "start_time": "2024-08-05T02:18:19.077Z"
   },
   {
    "duration": 854,
    "start_time": "2024-08-05T02:18:19.172Z"
   },
   {
    "duration": 366,
    "start_time": "2024-08-05T02:18:20.041Z"
   },
   {
    "duration": 222,
    "start_time": "2024-08-05T02:18:20.410Z"
   },
   {
    "duration": 303,
    "start_time": "2024-08-05T02:18:20.635Z"
   },
   {
    "duration": 9,
    "start_time": "2024-08-05T02:18:20.941Z"
   },
   {
    "duration": 9,
    "start_time": "2024-08-05T02:18:20.954Z"
   },
   {
    "duration": 12,
    "start_time": "2024-08-05T02:18:20.966Z"
   },
   {
    "duration": 58,
    "start_time": "2024-08-05T02:18:20.981Z"
   },
   {
    "duration": 431,
    "start_time": "2024-08-05T02:18:21.042Z"
   },
   {
    "duration": 311,
    "start_time": "2024-08-05T02:18:21.476Z"
   },
   {
    "duration": 183,
    "start_time": "2024-08-05T02:18:21.790Z"
   },
   {
    "duration": 7,
    "start_time": "2024-08-05T02:18:21.976Z"
   },
   {
    "duration": 9,
    "start_time": "2024-08-05T02:18:21.986Z"
   },
   {
    "duration": 751,
    "start_time": "2024-08-05T02:18:21.998Z"
   },
   {
    "duration": 267,
    "start_time": "2024-08-05T02:18:22.752Z"
   },
   {
    "duration": 19,
    "start_time": "2024-08-05T02:18:23.022Z"
   },
   {
    "duration": 353,
    "start_time": "2024-08-05T02:18:23.043Z"
   },
   {
    "duration": 44,
    "start_time": "2024-08-05T02:18:23.399Z"
   },
   {
    "duration": 14,
    "start_time": "2024-08-05T02:18:23.446Z"
   },
   {
    "duration": 1440,
    "start_time": "2024-08-05T02:18:23.463Z"
   },
   {
    "duration": 202,
    "start_time": "2024-08-05T02:18:24.905Z"
   },
   {
    "duration": 927,
    "start_time": "2024-08-05T02:18:25.109Z"
   },
   {
    "duration": 149,
    "start_time": "2024-08-05T02:18:26.039Z"
   },
   {
    "duration": 17,
    "start_time": "2024-08-05T02:18:26.191Z"
   },
   {
    "duration": 13,
    "start_time": "2024-08-05T02:23:08.712Z"
   },
   {
    "duration": 13,
    "start_time": "2024-08-05T02:23:22.825Z"
   }
  ],
  "colab": {
   "provenance": []
  },
  "kernelspec": {
   "display_name": "Python 3 (ipykernel)",
   "language": "python",
   "name": "python3"
  },
  "language_info": {
   "codemirror_mode": {
    "name": "ipython",
    "version": 3
   },
   "file_extension": ".py",
   "mimetype": "text/x-python",
   "name": "python",
   "nbconvert_exporter": "python",
   "pygments_lexer": "ipython3",
   "version": "3.9.19"
  },
  "toc": {
   "base_numbering": 1,
   "nav_menu": {},
   "number_sections": true,
   "sideBar": true,
   "skip_h1_title": true,
   "title_cell": "Table of Contents",
   "title_sidebar": "Contents",
   "toc_cell": false,
   "toc_position": {},
   "toc_section_display": true,
   "toc_window_display": false
  },
  "vscode": {
   "interpreter": {
    "hash": "01a7be9ec63e704a62cefc5fe7a4756944464ee731be31632bdf42a4cb4688cf"
   }
  }
 },
 "nbformat": 4,
 "nbformat_minor": 5
}
